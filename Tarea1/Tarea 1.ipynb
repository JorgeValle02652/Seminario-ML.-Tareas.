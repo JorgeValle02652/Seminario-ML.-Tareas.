{
 "cells": [
  {
   "cell_type": "raw",
   "metadata": {},
   "source": [
    "INTEGRANTES:\n",
    "-Valle Luna Jorge Alberto. 315076183.\n",
    "\n",
    "Problema1:\n",
    "El objetivo de las bases es que realicemos un modelo de clasificación para poder contestar la siguiente pregunta:\n",
    "\n",
    "      ¿Damos un crédito bancario o no?\n",
    "\n",
    "Para empezar con la exploración de la base, tendrán que generar un análisis descriptivo de la información que les compartiré:\n",
    " 1.- Los campos _id_ que son los identificadores de la información.\n",
    " 2.- base_ini_interna\n",
    " 3.- base_ini_parte1\n",
    " 4.- base_ini_externa\n",
    " 5.- bases de comportamiento\n",
    " 6.- base_inversión, es una variable simulada de una gamma, es\n",
    " 7.- Cuando una variable es categórica, está implícito en el nombre de la base. No tenemos un diccionario, simplemente que son categóricas.\n",
    " 8.- El resto entonces son continuas. Es decir, los nombre estám enmascarados, ni siquiera yo sé qué significan.\n",
    " \n",
    "\n",
    "¿Cómo hago los cruces? Exploren la información.\n",
    "¿Qué análisis puedo realizar? Exploren ustedes, apóyense de los comportamientos de los ids.\n",
    "Pero... ¿Las preguntas son abiertas? Así es, quiero que exploren. Hay bases que vienen en csv y otras en txt. Vean como tratarlas.\n",
    "\n",
    "El resto de las tarea, son las preguntas que les dejé el dìa miércoles. Les coparto los programas que utilizamos.\n",
    "Pero resumo un poco:\n",
    "\n",
    "\n",
    "Problema 2:\n",
    "De la base data_schools sacar obtener el error estándar con Bootstrap de las variables de la base. \n",
    "Recordemos que tienen que simular N Muestras Boostrap con tamño n. Luego, el otro ejercicio es que lo hagan con n-1.\n",
    "\n",
    "Problema 3: Calcular el eror estándar de las betas del modelo lineal, les expliqué la idea de este problema."
   ]
  },
  {
   "cell_type": "markdown",
   "metadata": {},
   "source": [
    "# Ejercicio 1.\n",
    "\n",
    "## base_init\n",
    "\n",
    "Se trata de una base ('base_ini_interna.csv', 'base_ini_externa.txt', 'base_ini_parte1.csv') con 50,000 observaciones unicas, de 15 variables cada una:\n",
    "\n",
    "1.  _id_            \n",
    "2.  _id2_           \n",
    "<br></br>\n",
    "3.  fecha_inicio    \n",
    "4.  comp_interno1   **float**\n",
    "5.  comp_interno2   **string** (b'0', b'1')\n",
    "6.  comp_interno3   **int**\n",
    "7.  comp_interno4   **int**\n",
    "8.  categoria1\t    **int**\n",
    "9.  categoria2      **int**\n",
    "10. categoria3      **int**\n",
    "\n",
    "11. comp_externo1   **float**\n",
    "12. comp_externo2   **float**\n",
    "13. comp_externo3   **int**\n",
    "14. comp_externo4   **int**\n",
    "<br>\n",
    "15. comp_mixto1 **float**<br>\n",
    "\n",
    "NOTA: La base 'bd_inicio_parte1.txt' es la base 'base_ini_interna.csv', pero con menos variables."
   ]
  },
  {
   "cell_type": "code",
   "execution_count": 60,
   "metadata": {},
   "outputs": [],
   "source": [
    "import pandas as pd\n",
    "#'base_ini_interna.csv'\n",
    "#'base_ini_externa.txt'\n",
    "\n",
    "df_interna= pd.read_csv('base_ini_interna.csv')\n",
    "\n",
    "df_externa= pd.read_csv('base_ini_externa.txt', sep=\" \")"
   ]
  },
  {
   "cell_type": "markdown",
   "metadata": {},
   "source": [
    "## Empezemos con los componentes internos. <br>\n",
    "\n",
    "Por internos yo voy a asumir que es informacion que el cliente tiene con el banco, respecto a crédito."
   ]
  },
  {
   "cell_type": "code",
   "execution_count": 61,
   "metadata": {},
   "outputs": [
    {
     "data": {
      "text/html": [
       "<div>\n",
       "<style scoped>\n",
       "    .dataframe tbody tr th:only-of-type {\n",
       "        vertical-align: middle;\n",
       "    }\n",
       "\n",
       "    .dataframe tbody tr th {\n",
       "        vertical-align: top;\n",
       "    }\n",
       "\n",
       "    .dataframe thead th {\n",
       "        text-align: right;\n",
       "    }\n",
       "</style>\n",
       "<table border=\"1\" class=\"dataframe\">\n",
       "  <thead>\n",
       "    <tr style=\"text-align: right;\">\n",
       "      <th></th>\n",
       "      <th>_id_</th>\n",
       "      <th>fecha_inicio</th>\n",
       "      <th>comp_interno1</th>\n",
       "      <th>comp_interno2</th>\n",
       "      <th>comp_interno3</th>\n",
       "      <th>comp_interno4</th>\n",
       "      <th>categoria1</th>\n",
       "      <th>categoria2</th>\n",
       "      <th>categoria3</th>\n",
       "    </tr>\n",
       "  </thead>\n",
       "  <tbody>\n",
       "    <tr>\n",
       "      <th>49990</th>\n",
       "      <td>23424</td>\n",
       "      <td>2017-06-30</td>\n",
       "      <td>0.000000</td>\n",
       "      <td>b'1'</td>\n",
       "      <td>25.0</td>\n",
       "      <td>72.0</td>\n",
       "      <td>2.0</td>\n",
       "      <td>9.0</td>\n",
       "      <td>170.0</td>\n",
       "    </tr>\n",
       "    <tr>\n",
       "      <th>49991</th>\n",
       "      <td>34554</td>\n",
       "      <td>2017-09-25</td>\n",
       "      <td>0.000000</td>\n",
       "      <td>b'1'</td>\n",
       "      <td>11.0</td>\n",
       "      <td>48.0</td>\n",
       "      <td>2.0</td>\n",
       "      <td>9.0</td>\n",
       "      <td>156.0</td>\n",
       "    </tr>\n",
       "    <tr>\n",
       "      <th>49992</th>\n",
       "      <td>63868</td>\n",
       "      <td>2019-05-17</td>\n",
       "      <td>0.000000</td>\n",
       "      <td>b'1'</td>\n",
       "      <td>19.0</td>\n",
       "      <td>33.0</td>\n",
       "      <td>1.0</td>\n",
       "      <td>3.0</td>\n",
       "      <td>164.0</td>\n",
       "    </tr>\n",
       "    <tr>\n",
       "      <th>49993</th>\n",
       "      <td>43136</td>\n",
       "      <td>2018-02-15</td>\n",
       "      <td>0.000000</td>\n",
       "      <td>b'0'</td>\n",
       "      <td>31.0</td>\n",
       "      <td>39.0</td>\n",
       "      <td>1.0</td>\n",
       "      <td>6.0</td>\n",
       "      <td>176.0</td>\n",
       "    </tr>\n",
       "    <tr>\n",
       "      <th>49994</th>\n",
       "      <td>19723</td>\n",
       "      <td>2017-03-16</td>\n",
       "      <td>0.000000</td>\n",
       "      <td>b'1'</td>\n",
       "      <td>1.0</td>\n",
       "      <td>60.0</td>\n",
       "      <td>2.0</td>\n",
       "      <td>9.0</td>\n",
       "      <td>146.0</td>\n",
       "    </tr>\n",
       "    <tr>\n",
       "      <th>49995</th>\n",
       "      <td>78795</td>\n",
       "      <td>2020-04-27</td>\n",
       "      <td>0.000000</td>\n",
       "      <td>b'1'</td>\n",
       "      <td>2.0</td>\n",
       "      <td>50.0</td>\n",
       "      <td>2.0</td>\n",
       "      <td>6.0</td>\n",
       "      <td>147.0</td>\n",
       "    </tr>\n",
       "    <tr>\n",
       "      <th>49996</th>\n",
       "      <td>9126</td>\n",
       "      <td>2016-08-10</td>\n",
       "      <td>1215.805471</td>\n",
       "      <td>b'1'</td>\n",
       "      <td>30.0</td>\n",
       "      <td>70.0</td>\n",
       "      <td>3.0</td>\n",
       "      <td>4.0</td>\n",
       "      <td>175.0</td>\n",
       "    </tr>\n",
       "    <tr>\n",
       "      <th>49997</th>\n",
       "      <td>44847</td>\n",
       "      <td>2018-09-17</td>\n",
       "      <td>0.000000</td>\n",
       "      <td>b'1'</td>\n",
       "      <td>3.0</td>\n",
       "      <td>58.0</td>\n",
       "      <td>2.0</td>\n",
       "      <td>9.0</td>\n",
       "      <td>148.0</td>\n",
       "    </tr>\n",
       "    <tr>\n",
       "      <th>49998</th>\n",
       "      <td>87200</td>\n",
       "      <td>2020-10-27</td>\n",
       "      <td>0.000000</td>\n",
       "      <td>b'1'</td>\n",
       "      <td>19.0</td>\n",
       "      <td>59.0</td>\n",
       "      <td>3.0</td>\n",
       "      <td>4.0</td>\n",
       "      <td>164.0</td>\n",
       "    </tr>\n",
       "    <tr>\n",
       "      <th>49999</th>\n",
       "      <td>55083</td>\n",
       "      <td>2019-05-06</td>\n",
       "      <td>1013.171226</td>\n",
       "      <td>b'0'</td>\n",
       "      <td>3.0</td>\n",
       "      <td>55.0</td>\n",
       "      <td>1.0</td>\n",
       "      <td>9.0</td>\n",
       "      <td>148.0</td>\n",
       "    </tr>\n",
       "  </tbody>\n",
       "</table>\n",
       "</div>"
      ],
      "text/plain": [
       "        _id_ fecha_inicio  comp_interno1 comp_interno2  comp_interno3  \\\n",
       "49990  23424   2017-06-30       0.000000          b'1'           25.0   \n",
       "49991  34554   2017-09-25       0.000000          b'1'           11.0   \n",
       "49992  63868   2019-05-17       0.000000          b'1'           19.0   \n",
       "49993  43136   2018-02-15       0.000000          b'0'           31.0   \n",
       "49994  19723   2017-03-16       0.000000          b'1'            1.0   \n",
       "49995  78795   2020-04-27       0.000000          b'1'            2.0   \n",
       "49996   9126   2016-08-10    1215.805471          b'1'           30.0   \n",
       "49997  44847   2018-09-17       0.000000          b'1'            3.0   \n",
       "49998  87200   2020-10-27       0.000000          b'1'           19.0   \n",
       "49999  55083   2019-05-06    1013.171226          b'0'            3.0   \n",
       "\n",
       "       comp_interno4  categoria1  categoria2  categoria3  \n",
       "49990           72.0         2.0         9.0       170.0  \n",
       "49991           48.0         2.0         9.0       156.0  \n",
       "49992           33.0         1.0         3.0       164.0  \n",
       "49993           39.0         1.0         6.0       176.0  \n",
       "49994           60.0         2.0         9.0       146.0  \n",
       "49995           50.0         2.0         6.0       147.0  \n",
       "49996           70.0         3.0         4.0       175.0  \n",
       "49997           58.0         2.0         9.0       148.0  \n",
       "49998           59.0         3.0         4.0       164.0  \n",
       "49999           55.0         1.0         9.0       148.0  "
      ]
     },
     "execution_count": 61,
     "metadata": {},
     "output_type": "execute_result"
    }
   ],
   "source": [
    "df_interna.tail(10)"
   ]
  },
  {
   "cell_type": "code",
   "execution_count": 62,
   "metadata": {},
   "outputs": [
    {
     "data": {
      "text/plain": [
       "[50000, 50000]"
      ]
     },
     "execution_count": 62,
     "metadata": {},
     "output_type": "execute_result"
    }
   ],
   "source": [
    "#Cada observacion es unica.\n",
    "[len(df_interna['_id_'].unique()), len(df_interna)]"
   ]
  },
  {
   "cell_type": "markdown",
   "metadata": {},
   "source": [
    "Para el **comp_interno1**, empezamos por ver los valores unicos, el minimo y el maximo:"
   ]
  },
  {
   "cell_type": "code",
   "execution_count": 4,
   "metadata": {},
   "outputs": [
    {
     "data": {
      "text/plain": [
       "0.000000        32083\n",
       "1013.171226      1946\n",
       "1519.756839      1481\n",
       "2026.342452      1340\n",
       "810.536981        914\n",
       "                ...  \n",
       "835.866261          1\n",
       "1753.368794         1\n",
       "227.963526          1\n",
       "16887.537994        1\n",
       "5761.904762         1\n",
       "Name: comp_interno1, Length: 680, dtype: int64"
      ]
     },
     "execution_count": 4,
     "metadata": {},
     "output_type": "execute_result"
    }
   ],
   "source": [
    "df_interna[\"comp_interno1\"].value_counts()"
   ]
  },
  {
   "cell_type": "code",
   "execution_count": 5,
   "metadata": {},
   "outputs": [
    {
     "data": {
      "text/plain": [
       "[0.0, 329483.282674772]"
      ]
     },
     "execution_count": 5,
     "metadata": {},
     "output_type": "execute_result"
    }
   ],
   "source": [
    "[df_interna[\"comp_interno1\"].min(), df_interna[\"comp_interno1\"].max()]"
   ]
  },
  {
   "cell_type": "markdown",
   "metadata": {},
   "source": [
    "Notamos que el minimo es 0, y el máximo es 329,483.28, y la mayoria de los registros (32,083, i.e. 64% de 50,000) tienen valor cero. <br>\n",
    "\n",
    "Parece razonable asumir que este componente se trata del balance de crédito, la mayoría no debe nada al banco en este momento."
   ]
  },
  {
   "cell_type": "markdown",
   "metadata": {},
   "source": [
    "Para el **comp_interno2**, empezamos por preguntar Qué categorias y Cuántos registros hay de cada una?"
   ]
  },
  {
   "cell_type": "code",
   "execution_count": 6,
   "metadata": {},
   "outputs": [
    {
     "data": {
      "text/plain": [
       "b'1'    35292\n",
       "b'0'    14708\n",
       "Name: comp_interno2, dtype: int64"
      ]
     },
     "execution_count": 6,
     "metadata": {},
     "output_type": "execute_result"
    }
   ],
   "source": [
    "df_interna['comp_interno2'].value_counts()"
   ]
  },
  {
   "cell_type": "code",
   "execution_count": 7,
   "metadata": {},
   "outputs": [
    {
     "data": {
      "text/plain": [
       "<AxesSubplot:xlabel='comp_interno2', ylabel='count'>"
      ]
     },
     "execution_count": 7,
     "metadata": {},
     "output_type": "execute_result"
    },
    {
     "data": {
      "image/png": "[encoded data removed]",
      "text/plain": [
       "<Figure size 432x288 with 1 Axes>"
      ]
     },
     "metadata": {
      "needs_background": "light"
     },
     "output_type": "display_data"
    }
   ],
   "source": [
    "import seaborn as sns\n",
    "sns.countplot(x='comp_interno2',data=df_interna, palette='rainbow')"
   ]
  },
  {
   "cell_type": "markdown",
   "metadata": {},
   "source": [
    "La mayoría, el 70.58%, son tipo b´1´. Como vimos de comp_interno1, la mayoría de los clientes son buenos (no deben en este momento). Asumiré que la letra **b** significa si la persona alguna vez ha estado en '**b**uro de crédito'(0) o no(1). "
   ]
  },
  {
   "cell_type": "markdown",
   "metadata": {},
   "source": [
    "Para el **comp_interno3**, notamos que solo hay 32 valores!, y que el minimo es 1 y el máximo es 32:"
   ]
  },
  {
   "cell_type": "code",
   "execution_count": 8,
   "metadata": {},
   "outputs": [
    {
     "data": {
      "text/plain": [
       "32"
      ]
     },
     "execution_count": 8,
     "metadata": {},
     "output_type": "execute_result"
    }
   ],
   "source": [
    "len(df_interna[\"comp_interno3\"].value_counts())"
   ]
  },
  {
   "cell_type": "code",
   "execution_count": 9,
   "metadata": {},
   "outputs": [
    {
     "data": {
      "text/plain": [
       "[1.0, 32.0]"
      ]
     },
     "execution_count": 9,
     "metadata": {},
     "output_type": "execute_result"
    }
   ],
   "source": [
    "[df_interna[\"comp_interno3\"].min(), df_interna[\"comp_interno3\"].max()]"
   ]
  },
  {
   "cell_type": "code",
   "execution_count": 10,
   "metadata": {},
   "outputs": [
    {
     "data": {
      "text/plain": [
       "<AxesSubplot:>"
      ]
     },
     "execution_count": 10,
     "metadata": {},
     "output_type": "execute_result"
    },
    {
     "data": {
      "image/png": "[encoded data removed]",
      "text/plain": [
       "<Figure size 432x288 with 1 Axes>"
      ]
     },
     "metadata": {
      "needs_background": "light"
     },
     "output_type": "display_data"
    }
   ],
   "source": [
    "df_interna[\"comp_interno3\"].value_counts().plot.bar()"
   ]
  },
  {
   "cell_type": "markdown",
   "metadata": {},
   "source": [
    "Parece razonable pensar que la variable **comp_interno3** indica el número de años que el cliente lleva con el banco."
   ]
  },
  {
   "cell_type": "markdown",
   "metadata": {},
   "source": [
    "Para la variable **comp_interno4** hay 55 valores unicos, el minimo es 24 y máximo es 79. Parece que esta variable indica la edad."
   ]
  },
  {
   "cell_type": "code",
   "execution_count": 11,
   "metadata": {},
   "outputs": [
    {
     "data": {
      "text/plain": [
       "55"
      ]
     },
     "execution_count": 11,
     "metadata": {},
     "output_type": "execute_result"
    }
   ],
   "source": [
    "len(df_interna[\"comp_interno4\"].value_counts())"
   ]
  },
  {
   "cell_type": "code",
   "execution_count": 12,
   "metadata": {},
   "outputs": [
    {
     "data": {
      "text/plain": [
       "[24.0, 79.0]"
      ]
     },
     "execution_count": 12,
     "metadata": {},
     "output_type": "execute_result"
    }
   ],
   "source": [
    "[df_interna[\"comp_interno4\"].min(), df_interna[\"comp_interno4\"].max()]"
   ]
  },
  {
   "cell_type": "code",
   "execution_count": 13,
   "metadata": {},
   "outputs": [
    {
     "data": {
      "text/plain": [
       "<AxesSubplot:>"
      ]
     },
     "execution_count": 13,
     "metadata": {},
     "output_type": "execute_result"
    },
    {
     "data": {
      "image/png": "[encoded data removed]",
      "text/plain": [
       "<Figure size 720x360 with 1 Axes>"
      ]
     },
     "metadata": {
      "needs_background": "light"
     },
     "output_type": "display_data"
    }
   ],
   "source": [
    "import matplotlib.pyplot as plt\n",
    "plt.figure(figsize=(10,5))\n",
    "\n",
    "df_interna[\"comp_interno4\"].value_counts().plot.bar()"
   ]
  },
  {
   "cell_type": "markdown",
   "metadata": {},
   "source": [
    "Para las categorias: <br> \n",
    "\n",
    "la **categoria1** va del 1 al 6, y la mayoría de los clientes tienen valor 1.<br>\n",
    "\n",
    "la **categoria2** va del 1 al 13, y la mayoría de los clientes tienen valor 9.<br>\n",
    "\n",
    "la **categoria3** va del 146 al 177, y la mayoría de los clientes tienen valor 146."
   ]
  },
  {
   "cell_type": "code",
   "execution_count": 14,
   "metadata": {},
   "outputs": [
    {
     "data": {
      "text/plain": [
       "[6, 13, 32]"
      ]
     },
     "execution_count": 14,
     "metadata": {},
     "output_type": "execute_result"
    }
   ],
   "source": [
    "[len(df_interna[\"categoria1\"].value_counts()), len(df_interna[\"categoria2\"].value_counts()), len(df_interna[\"categoria3\"].value_counts())]"
   ]
  },
  {
   "cell_type": "code",
   "execution_count": 15,
   "metadata": {},
   "outputs": [
    {
     "data": {
      "text/plain": [
       "[1.0, 6.0, 1.0, 13.0, 146.0, 177.0]"
      ]
     },
     "execution_count": 15,
     "metadata": {},
     "output_type": "execute_result"
    }
   ],
   "source": [
    "[df_interna[\"categoria1\"].min(), df_interna[\"categoria1\"].max(), df_interna[\"categoria2\"].min(), df_interna[\"categoria2\"].max(), df_interna[\"categoria3\"].min(), df_interna[\"categoria3\"].max()]"
   ]
  },
  {
   "cell_type": "code",
   "execution_count": 16,
   "metadata": {},
   "outputs": [
    {
     "data": {
      "text/plain": [
       "<AxesSubplot:title={'center':'categoria1'}>"
      ]
     },
     "execution_count": 16,
     "metadata": {},
     "output_type": "execute_result"
    },
    {
     "data": {
      "image/png": "[encoded data removed]",
      "text/plain": [
       "<Figure size 576x216 with 1 Axes>"
      ]
     },
     "metadata": {
      "needs_background": "light"
     },
     "output_type": "display_data"
    }
   ],
   "source": [
    "import matplotlib.pyplot as plt\n",
    "plt.figure(figsize=(8,3))\n",
    "\n",
    "df_interna[\"categoria1\"].value_counts().plot.bar(title=\"categoria1\")"
   ]
  },
  {
   "cell_type": "code",
   "execution_count": 17,
   "metadata": {},
   "outputs": [
    {
     "data": {
      "text/plain": [
       "<AxesSubplot:title={'center':'categoria2'}>"
      ]
     },
     "execution_count": 17,
     "metadata": {},
     "output_type": "execute_result"
    },
    {
     "data": {
      "image/png": "[encoded data removed]",
      "text/plain": [
       "<Figure size 576x216 with 1 Axes>"
      ]
     },
     "metadata": {
      "needs_background": "light"
     },
     "output_type": "display_data"
    }
   ],
   "source": [
    "import matplotlib.pyplot as plt\n",
    "plt.figure(figsize=(8,3))\n",
    "\n",
    "df_interna[\"categoria2\"].value_counts().plot.bar(title=\"categoria2\")"
   ]
  },
  {
   "cell_type": "code",
   "execution_count": 18,
   "metadata": {},
   "outputs": [
    {
     "data": {
      "text/plain": [
       "<AxesSubplot:title={'center':'categoria3'}>"
      ]
     },
     "execution_count": 18,
     "metadata": {},
     "output_type": "execute_result"
    },
    {
     "data": {
      "image/png": "[encoded data removed]",
      "text/plain": [
       "<Figure size 576x216 with 1 Axes>"
      ]
     },
     "metadata": {
      "needs_background": "light"
     },
     "output_type": "display_data"
    }
   ],
   "source": [
    "import matplotlib.pyplot as plt\n",
    "plt.figure(figsize=(8,3))\n",
    "\n",
    "df_interna[\"categoria3\"].value_counts().plot.bar(title=\"categoria3\")"
   ]
  },
  {
   "cell_type": "markdown",
   "metadata": {},
   "source": [
    "Para la **categoria1**, en base a su barplot parece que hay un orden implicito, la mayoria son tipo 1, despues tipo 2, y así, hasta tipo 6. Asumimos que esta variable representa lo valioso que es el cliente para el banco. Los tipo 1 son los más valiosos y los tipo 6 son los de menos prioridad.<br>\n",
    "\n",
    "Podemos comparar con los componentes internos, pero no parece haber una relación clara con ninguno:"
   ]
  },
  {
   "cell_type": "code",
   "execution_count": 19,
   "metadata": {
    "scrolled": true
   },
   "outputs": [
    {
     "data": {
      "text/plain": [
       "<AxesSubplot:xlabel='categoria1', ylabel='comp_interno1'>"
      ]
     },
     "execution_count": 19,
     "metadata": {},
     "output_type": "execute_result"
    },
    {
     "data": {
      "image/png": "[encoded data removed]",
      "text/plain": [
       "<Figure size 432x288 with 1 Axes>"
      ]
     },
     "metadata": {
      "needs_background": "light"
     },
     "output_type": "display_data"
    }
   ],
   "source": [
    "sns.boxplot(x='categoria1',y='comp_interno1',data=df_interna, palette='rainbow')"
   ]
  },
  {
   "cell_type": "code",
   "execution_count": 20,
   "metadata": {},
   "outputs": [
    {
     "data": {
      "text/plain": [
       "<AxesSubplot:xlabel='comp_interno2', ylabel='count'>"
      ]
     },
     "execution_count": 20,
     "metadata": {},
     "output_type": "execute_result"
    },
    {
     "data": {
      "image/png": "[encoded data removed]",
      "text/plain": [
       "<Figure size 720x504 with 2 Axes>"
      ]
     },
     "metadata": {
      "needs_background": "light"
     },
     "output_type": "display_data"
    }
   ],
   "source": [
    "plt.figure(figsize=(10,7))\n",
    "plt.subplot(221)\n",
    "sns.countplot(x='comp_interno2',data=df_interna.groupby(\"categoria1\").get_group(1), palette='rainbow')\n",
    "plt.subplot(222)\n",
    "sns.countplot(x='comp_interno2',data=df_interna.groupby(\"categoria1\").get_group(6), palette='rainbow')"
   ]
  },
  {
   "cell_type": "code",
   "execution_count": 21,
   "metadata": {},
   "outputs": [
    {
     "data": {
      "text/plain": [
       "<AxesSubplot:xlabel='categoria1', ylabel='comp_interno3'>"
      ]
     },
     "execution_count": 21,
     "metadata": {},
     "output_type": "execute_result"
    },
    {
     "data": {
      "image/png": "[encoded data removed]",
      "text/plain": [
       "<Figure size 432x288 with 1 Axes>"
      ]
     },
     "metadata": {
      "needs_background": "light"
     },
     "output_type": "display_data"
    }
   ],
   "source": [
    "sns.boxplot(x='categoria1',y='comp_interno3',data=df_interna, palette='rainbow')"
   ]
  },
  {
   "cell_type": "code",
   "execution_count": 22,
   "metadata": {},
   "outputs": [
    {
     "data": {
      "text/plain": [
       "<AxesSubplot:xlabel='categoria1', ylabel='comp_interno4'>"
      ]
     },
     "execution_count": 22,
     "metadata": {},
     "output_type": "execute_result"
    },
    {
     "data": {
      "image/png": "[encoded data removed]",
      "text/plain": [
       "<Figure size 432x288 with 1 Axes>"
      ]
     },
     "metadata": {
      "needs_background": "light"
     },
     "output_type": "display_data"
    }
   ],
   "source": [
    "sns.boxplot(x='categoria1',y='comp_interno4',data=df_interna, palette='rainbow')"
   ]
  },
  {
   "cell_type": "markdown",
   "metadata": {
    "scrolled": true
   },
   "source": [
    "Parece que la categoria2 se refiere al oficio de la persona o algo así. Notamos que la mayoría son tipo 9, y la minoría tipo 12.<br>\n",
    "\n",
    "Los del tipo 9, la mayoría no han estado en buró, y conforme se desciende segun el barplot de categoría2, la mayoría han estado en buró."
   ]
  },
  {
   "cell_type": "code",
   "execution_count": 23,
   "metadata": {},
   "outputs": [
    {
     "data": {
      "text/plain": [
       "<AxesSubplot:xlabel='comp_interno2', ylabel='count'>"
      ]
     },
     "execution_count": 23,
     "metadata": {},
     "output_type": "execute_result"
    },
    {
     "data": {
      "image/png": "[encoded data removed]",
      "text/plain": [
       "<Figure size 720x504 with 4 Axes>"
      ]
     },
     "metadata": {
      "needs_background": "light"
     },
     "output_type": "display_data"
    }
   ],
   "source": [
    "plt.figure(figsize=(10,7))\n",
    "plt.subplot(221)\n",
    "sns.countplot(x='comp_interno2',data=df_interna.groupby(\"categoria2\").get_group(9), palette='rainbow')\n",
    "plt.subplot(222)\n",
    "sns.countplot(x='comp_interno2',data=df_interna.groupby(\"categoria2\").get_group(6), palette='rainbow')\n",
    "plt.subplot(223)\n",
    "sns.countplot(x='comp_interno2',data=df_interna.groupby(\"categoria2\").get_group(5), palette='rainbow')\n",
    "plt.subplot(224)\n",
    "sns.countplot(x='comp_interno2',data=df_interna.groupby(\"categoria2\").get_group(12), palette='rainbow')"
   ]
  },
  {
   "cell_type": "markdown",
   "metadata": {},
   "source": [
    "Recordando que dijimos que el componente interno 3 lo ibamos a interpretar como el numero de años que el cliente llevaba con el banco, nos damos cuenta que la **categoria3** empieza con el codigo 146 para los clientes de menor antiguedad, y va ascendiento hasta 177 para los de mayor antiguedad:"
   ]
  },
  {
   "cell_type": "code",
   "execution_count": 24,
   "metadata": {
    "scrolled": true
   },
   "outputs": [
    {
     "data": {
      "text/plain": [
       "<AxesSubplot:xlabel='categoria3', ylabel='comp_interno3'>"
      ]
     },
     "execution_count": 24,
     "metadata": {},
     "output_type": "execute_result"
    },
    {
     "data": {
      "image/png": "[encoded data removed]",
      "text/plain": [
       "<Figure size 1080x360 with 1 Axes>"
      ]
     },
     "metadata": {
      "needs_background": "light"
     },
     "output_type": "display_data"
    }
   ],
   "source": [
    "plt.figure(figsize=(15,5))\n",
    "sns.boxplot(x='categoria3',y='comp_interno3',data=df_interna, palette='rainbow')"
   ]
  },
  {
   "cell_type": "code",
   "execution_count": 25,
   "metadata": {},
   "outputs": [
    {
     "data": {
      "text/plain": [
       "1.0    7240\n",
       "Name: comp_interno3, dtype: int64"
      ]
     },
     "execution_count": 25,
     "metadata": {},
     "output_type": "execute_result"
    }
   ],
   "source": [
    "df_interna.groupby('categoria3').get_group(146)['comp_interno3'].value_counts()"
   ]
  },
  {
   "cell_type": "code",
   "execution_count": 79,
   "metadata": {},
   "outputs": [
    {
     "data": {
      "text/plain": [
       "15.0    3711\n",
       "Name: comp_interno3, dtype: int64"
      ]
     },
     "execution_count": 79,
     "metadata": {},
     "output_type": "execute_result"
    }
   ],
   "source": [
    "df_interna.groupby('categoria3').get_group(160)['comp_interno3'].value_counts()"
   ]
  },
  {
   "cell_type": "markdown",
   "metadata": {},
   "source": [
    "## Para los componentes externos:\n",
    "\n",
    "tenemos 4 componentes."
   ]
  },
  {
   "cell_type": "code",
   "execution_count": 26,
   "metadata": {},
   "outputs": [
    {
     "data": {
      "text/html": [
       "<div>\n",
       "<style scoped>\n",
       "    .dataframe tbody tr th:only-of-type {\n",
       "        vertical-align: middle;\n",
       "    }\n",
       "\n",
       "    .dataframe tbody tr th {\n",
       "        vertical-align: top;\n",
       "    }\n",
       "\n",
       "    .dataframe thead th {\n",
       "        text-align: right;\n",
       "    }\n",
       "</style>\n",
       "<table border=\"1\" class=\"dataframe\">\n",
       "  <thead>\n",
       "    <tr style=\"text-align: right;\">\n",
       "      <th></th>\n",
       "      <th>_id_</th>\n",
       "      <th>comp_externo1</th>\n",
       "      <th>comp_externo2</th>\n",
       "      <th>comp_externo3</th>\n",
       "      <th>comp_externo4</th>\n",
       "    </tr>\n",
       "  </thead>\n",
       "  <tbody>\n",
       "    <tr>\n",
       "      <th>49990</th>\n",
       "      <td>23424</td>\n",
       "      <td>NaN</td>\n",
       "      <td>NaN</td>\n",
       "      <td>89.0</td>\n",
       "      <td>-230.0</td>\n",
       "    </tr>\n",
       "    <tr>\n",
       "      <th>49991</th>\n",
       "      <td>34554</td>\n",
       "      <td>159.420290</td>\n",
       "      <td>15.800057</td>\n",
       "      <td>102.0</td>\n",
       "      <td>-230.0</td>\n",
       "    </tr>\n",
       "    <tr>\n",
       "      <th>49992</th>\n",
       "      <td>63868</td>\n",
       "      <td>78.260870</td>\n",
       "      <td>7.756392</td>\n",
       "      <td>87.0</td>\n",
       "      <td>-230.0</td>\n",
       "    </tr>\n",
       "    <tr>\n",
       "      <th>49993</th>\n",
       "      <td>43136</td>\n",
       "      <td>35.652174</td>\n",
       "      <td>3.533467</td>\n",
       "      <td>120.0</td>\n",
       "      <td>-230.0</td>\n",
       "    </tr>\n",
       "    <tr>\n",
       "      <th>49994</th>\n",
       "      <td>19723</td>\n",
       "      <td>110.144928</td>\n",
       "      <td>9.910945</td>\n",
       "      <td>122.0</td>\n",
       "      <td>-230.0</td>\n",
       "    </tr>\n",
       "    <tr>\n",
       "      <th>49995</th>\n",
       "      <td>78795</td>\n",
       "      <td>140.579710</td>\n",
       "      <td>13.932778</td>\n",
       "      <td>95.0</td>\n",
       "      <td>-230.0</td>\n",
       "    </tr>\n",
       "    <tr>\n",
       "      <th>49996</th>\n",
       "      <td>9126</td>\n",
       "      <td>188.405797</td>\n",
       "      <td>9.652399</td>\n",
       "      <td>114.0</td>\n",
       "      <td>-230.0</td>\n",
       "    </tr>\n",
       "    <tr>\n",
       "      <th>49997</th>\n",
       "      <td>44847</td>\n",
       "      <td>434.782609</td>\n",
       "      <td>33.323758</td>\n",
       "      <td>124.0</td>\n",
       "      <td>-230.0</td>\n",
       "    </tr>\n",
       "    <tr>\n",
       "      <th>49998</th>\n",
       "      <td>87200</td>\n",
       "      <td>919.130435</td>\n",
       "      <td>57.454754</td>\n",
       "      <td>108.0</td>\n",
       "      <td>-230.0</td>\n",
       "    </tr>\n",
       "    <tr>\n",
       "      <th>49999</th>\n",
       "      <td>55083</td>\n",
       "      <td>217.391304</td>\n",
       "      <td>18.385521</td>\n",
       "      <td>-40.0</td>\n",
       "      <td>-230.0</td>\n",
       "    </tr>\n",
       "  </tbody>\n",
       "</table>\n",
       "</div>"
      ],
      "text/plain": [
       "        _id_  comp_externo1  comp_externo2  comp_externo3  comp_externo4\n",
       "49990  23424            NaN            NaN           89.0         -230.0\n",
       "49991  34554     159.420290      15.800057          102.0         -230.0\n",
       "49992  63868      78.260870       7.756392           87.0         -230.0\n",
       "49993  43136      35.652174       3.533467          120.0         -230.0\n",
       "49994  19723     110.144928       9.910945          122.0         -230.0\n",
       "49995  78795     140.579710      13.932778           95.0         -230.0\n",
       "49996   9126     188.405797       9.652399          114.0         -230.0\n",
       "49997  44847     434.782609      33.323758          124.0         -230.0\n",
       "49998  87200     919.130435      57.454754          108.0         -230.0\n",
       "49999  55083     217.391304      18.385521          -40.0         -230.0"
      ]
     },
     "execution_count": 26,
     "metadata": {},
     "output_type": "execute_result"
    }
   ],
   "source": [
    "df_externa.tail(10)"
   ]
  },
  {
   "cell_type": "markdown",
   "metadata": {},
   "source": [
    "Para el  **componente 1**, el minimo es 0, y máximo es 2,898,550.72, y la moda es 144.92. <br>\n",
    "\n",
    "Si estuvieramos en una escala de miles, podriamos pensar que se trata de los ahorros en pesos del cliente."
   ]
  },
  {
   "cell_type": "code",
   "execution_count": 27,
   "metadata": {},
   "outputs": [
    {
     "data": {
      "text/plain": [
       "144.927536     1079\n",
       "289.855072      790\n",
       "217.391304      780\n",
       "579.710145      685\n",
       "434.782609      602\n",
       "               ... \n",
       "291.631884        1\n",
       "1496.255072       1\n",
       "255.078261        1\n",
       "622.362319        1\n",
       "185.518841        1\n",
       "Name: comp_externo1, Length: 7533, dtype: int64"
      ]
     },
     "execution_count": 27,
     "metadata": {},
     "output_type": "execute_result"
    }
   ],
   "source": [
    " df_externa['comp_externo1'].value_counts()"
   ]
  },
  {
   "cell_type": "code",
   "execution_count": 28,
   "metadata": {},
   "outputs": [
    {
     "data": {
      "text/plain": [
       "[0.0,\n",
       " 2898550.7217391306,\n",
       " 0    144.927536\n",
       " dtype: float64]"
      ]
     },
     "execution_count": 28,
     "metadata": {},
     "output_type": "execute_result"
    }
   ],
   "source": [
    "[df_externa['comp_externo1'].min(), df_externa['comp_externo1'].max(), df_externa['comp_externo1'].mode()]"
   ]
  },
  {
   "cell_type": "markdown",
   "metadata": {},
   "source": [
    "Para confirmar un poco nuestra sospecha, vemos que solo hay un cliente con el comp_externo1 más alto, y no ha estado en buro (comp_interno2=b'1'), y es prioritario para el banco (categoria1=1 o 2):"
   ]
  },
  {
   "cell_type": "code",
   "execution_count": 29,
   "metadata": {},
   "outputs": [
    {
     "data": {
      "text/html": [
       "<div>\n",
       "<style scoped>\n",
       "    .dataframe tbody tr th:only-of-type {\n",
       "        vertical-align: middle;\n",
       "    }\n",
       "\n",
       "    .dataframe tbody tr th {\n",
       "        vertical-align: top;\n",
       "    }\n",
       "\n",
       "    .dataframe thead th {\n",
       "        text-align: right;\n",
       "    }\n",
       "</style>\n",
       "<table border=\"1\" class=\"dataframe\">\n",
       "  <thead>\n",
       "    <tr style=\"text-align: right;\">\n",
       "      <th></th>\n",
       "      <th>_id_</th>\n",
       "      <th>fecha_inicio</th>\n",
       "      <th>comp_interno1</th>\n",
       "      <th>comp_interno2</th>\n",
       "      <th>comp_interno3</th>\n",
       "      <th>comp_interno4</th>\n",
       "      <th>categoria1</th>\n",
       "      <th>categoria2</th>\n",
       "      <th>categoria3</th>\n",
       "    </tr>\n",
       "  </thead>\n",
       "  <tbody>\n",
       "    <tr>\n",
       "      <th>4228</th>\n",
       "      <td>17660</td>\n",
       "      <td>2016-10-17</td>\n",
       "      <td>0.0</td>\n",
       "      <td>b'1'</td>\n",
       "      <td>1.0</td>\n",
       "      <td>63.0</td>\n",
       "      <td>2.0</td>\n",
       "      <td>3.0</td>\n",
       "      <td>146.0</td>\n",
       "    </tr>\n",
       "  </tbody>\n",
       "</table>\n",
       "</div>"
      ],
      "text/plain": [
       "       _id_ fecha_inicio  comp_interno1 comp_interno2  comp_interno3  \\\n",
       "4228  17660   2016-10-17            0.0          b'1'            1.0   \n",
       "\n",
       "      comp_interno4  categoria1  categoria2  categoria3  \n",
       "4228           63.0         2.0         3.0       146.0  "
      ]
     },
     "execution_count": 29,
     "metadata": {},
     "output_type": "execute_result"
    }
   ],
   "source": [
    "df_interna[df_interna['_id_'].isin(df_externa['_id_'][df_externa['comp_externo1']==2898550.7217391306])]"
   ]
  },
  {
   "cell_type": "markdown",
   "metadata": {},
   "source": [
    "Sin embargo, tambien hay clientes con comp_interno1 de miles (balances de credito), y comp_externo1=0. Es decir gente con saldo deudor, y sin ahorros (_id_'s 91953 y 88947):"
   ]
  },
  {
   "cell_type": "code",
   "execution_count": 30,
   "metadata": {},
   "outputs": [
    {
     "data": {
      "text/html": [
       "<div>\n",
       "<style scoped>\n",
       "    .dataframe tbody tr th:only-of-type {\n",
       "        vertical-align: middle;\n",
       "    }\n",
       "\n",
       "    .dataframe tbody tr th {\n",
       "        vertical-align: top;\n",
       "    }\n",
       "\n",
       "    .dataframe thead th {\n",
       "        text-align: right;\n",
       "    }\n",
       "</style>\n",
       "<table border=\"1\" class=\"dataframe\">\n",
       "  <thead>\n",
       "    <tr style=\"text-align: right;\">\n",
       "      <th></th>\n",
       "      <th>_id_</th>\n",
       "      <th>fecha_inicio</th>\n",
       "      <th>comp_interno1</th>\n",
       "      <th>comp_interno2</th>\n",
       "      <th>comp_interno3</th>\n",
       "      <th>comp_interno4</th>\n",
       "      <th>categoria1</th>\n",
       "      <th>categoria2</th>\n",
       "      <th>categoria3</th>\n",
       "    </tr>\n",
       "  </thead>\n",
       "  <tbody>\n",
       "    <tr>\n",
       "      <th>1429</th>\n",
       "      <td>86801</td>\n",
       "      <td>2020-10-15</td>\n",
       "      <td>0.000000</td>\n",
       "      <td>b'0'</td>\n",
       "      <td>19.0</td>\n",
       "      <td>73.0</td>\n",
       "      <td>3.0</td>\n",
       "      <td>3.0</td>\n",
       "      <td>164.0</td>\n",
       "    </tr>\n",
       "    <tr>\n",
       "      <th>5496</th>\n",
       "      <td>33232</td>\n",
       "      <td>2017-11-09</td>\n",
       "      <td>0.000000</td>\n",
       "      <td>b'1'</td>\n",
       "      <td>15.0</td>\n",
       "      <td>64.0</td>\n",
       "      <td>1.0</td>\n",
       "      <td>9.0</td>\n",
       "      <td>160.0</td>\n",
       "    </tr>\n",
       "    <tr>\n",
       "      <th>10036</th>\n",
       "      <td>91953</td>\n",
       "      <td>2020-12-28</td>\n",
       "      <td>3039.513678</td>\n",
       "      <td>b'1'</td>\n",
       "      <td>6.0</td>\n",
       "      <td>49.0</td>\n",
       "      <td>2.0</td>\n",
       "      <td>3.0</td>\n",
       "      <td>151.0</td>\n",
       "    </tr>\n",
       "    <tr>\n",
       "      <th>23015</th>\n",
       "      <td>88947</td>\n",
       "      <td>2020-10-20</td>\n",
       "      <td>810.536981</td>\n",
       "      <td>b'0'</td>\n",
       "      <td>16.0</td>\n",
       "      <td>70.0</td>\n",
       "      <td>2.0</td>\n",
       "      <td>11.0</td>\n",
       "      <td>161.0</td>\n",
       "    </tr>\n",
       "    <tr>\n",
       "      <th>28482</th>\n",
       "      <td>55820</td>\n",
       "      <td>2018-12-11</td>\n",
       "      <td>0.000000</td>\n",
       "      <td>b'0'</td>\n",
       "      <td>15.0</td>\n",
       "      <td>48.0</td>\n",
       "      <td>1.0</td>\n",
       "      <td>9.0</td>\n",
       "      <td>160.0</td>\n",
       "    </tr>\n",
       "    <tr>\n",
       "      <th>40764</th>\n",
       "      <td>43446</td>\n",
       "      <td>2018-03-13</td>\n",
       "      <td>0.000000</td>\n",
       "      <td>b'1'</td>\n",
       "      <td>3.0</td>\n",
       "      <td>44.0</td>\n",
       "      <td>3.0</td>\n",
       "      <td>9.0</td>\n",
       "      <td>148.0</td>\n",
       "    </tr>\n",
       "  </tbody>\n",
       "</table>\n",
       "</div>"
      ],
      "text/plain": [
       "        _id_ fecha_inicio  comp_interno1 comp_interno2  comp_interno3  \\\n",
       "1429   86801   2020-10-15       0.000000          b'0'           19.0   \n",
       "5496   33232   2017-11-09       0.000000          b'1'           15.0   \n",
       "10036  91953   2020-12-28    3039.513678          b'1'            6.0   \n",
       "23015  88947   2020-10-20     810.536981          b'0'           16.0   \n",
       "28482  55820   2018-12-11       0.000000          b'0'           15.0   \n",
       "40764  43446   2018-03-13       0.000000          b'1'            3.0   \n",
       "\n",
       "       comp_interno4  categoria1  categoria2  categoria3  \n",
       "1429            73.0         3.0         3.0       164.0  \n",
       "5496            64.0         1.0         9.0       160.0  \n",
       "10036           49.0         2.0         3.0       151.0  \n",
       "23015           70.0         2.0        11.0       161.0  \n",
       "28482           48.0         1.0         9.0       160.0  \n",
       "40764           44.0         3.0         9.0       148.0  "
      ]
     },
     "execution_count": 30,
     "metadata": {},
     "output_type": "execute_result"
    }
   ],
   "source": [
    "df_interna[df_interna['_id_'].isin(df_externa['_id_'][df_externa['comp_externo1']==0.0])]"
   ]
  },
  {
   "cell_type": "code",
   "execution_count": 31,
   "metadata": {},
   "outputs": [
    {
     "data": {
      "text/html": [
       "<div>\n",
       "<style scoped>\n",
       "    .dataframe tbody tr th:only-of-type {\n",
       "        vertical-align: middle;\n",
       "    }\n",
       "\n",
       "    .dataframe tbody tr th {\n",
       "        vertical-align: top;\n",
       "    }\n",
       "\n",
       "    .dataframe thead th {\n",
       "        text-align: right;\n",
       "    }\n",
       "</style>\n",
       "<table border=\"1\" class=\"dataframe\">\n",
       "  <thead>\n",
       "    <tr style=\"text-align: right;\">\n",
       "      <th></th>\n",
       "      <th>_id_</th>\n",
       "      <th>comp_externo1</th>\n",
       "      <th>comp_externo2</th>\n",
       "      <th>comp_externo3</th>\n",
       "      <th>comp_externo4</th>\n",
       "    </tr>\n",
       "  </thead>\n",
       "  <tbody>\n",
       "    <tr>\n",
       "      <th>10036</th>\n",
       "      <td>91953</td>\n",
       "      <td>0.0</td>\n",
       "      <td>NaN</td>\n",
       "      <td>-608.0</td>\n",
       "      <td>-230.0</td>\n",
       "    </tr>\n",
       "    <tr>\n",
       "      <th>23015</th>\n",
       "      <td>88947</td>\n",
       "      <td>0.0</td>\n",
       "      <td>NaN</td>\n",
       "      <td>121.0</td>\n",
       "      <td>-230.0</td>\n",
       "    </tr>\n",
       "  </tbody>\n",
       "</table>\n",
       "</div>"
      ],
      "text/plain": [
       "        _id_  comp_externo1  comp_externo2  comp_externo3  comp_externo4\n",
       "10036  91953            0.0            NaN         -608.0         -230.0\n",
       "23015  88947            0.0            NaN          121.0         -230.0"
      ]
     },
     "execution_count": 31,
     "metadata": {},
     "output_type": "execute_result"
    }
   ],
   "source": [
    "df_externa[df_externa['_id_'].isin([91953, 88947])]"
   ]
  },
  {
   "cell_type": "markdown",
   "metadata": {},
   "source": [
    "Para el  **componente 2**, el minimo es 0, y máximo es 861, y la moda es 14.36. <br>\n",
    "\n",
    "Si estuvieramos en una escala de miles, podriamos pensar que se trata de los ingresos mensuales en pesos del cliente."
   ]
  },
  {
   "cell_type": "code",
   "execution_count": 32,
   "metadata": {},
   "outputs": [
    {
     "data": {
      "text/plain": [
       "14.363689    1021\n",
       "21.545533     746\n",
       "28.727377     574\n",
       "57.454754     504\n",
       "5.745475      480\n",
       "             ... \n",
       "86.944556       1\n",
       "93.995978       1\n",
       "23.702384       1\n",
       "23.510485       1\n",
       "18.386670       1\n",
       "Name: comp_externo2, Length: 6982, dtype: int64"
      ]
     },
     "execution_count": 32,
     "metadata": {},
     "output_type": "execute_result"
    }
   ],
   "source": [
    " df_externa['comp_externo2'].value_counts()"
   ]
  },
  {
   "cell_type": "code",
   "execution_count": 33,
   "metadata": {},
   "outputs": [
    {
     "data": {
      "text/plain": [
       "[0.0002872737719046,\n",
       " 861.8213157138754,\n",
       " 0    14.363689\n",
       " dtype: float64]"
      ]
     },
     "execution_count": 33,
     "metadata": {},
     "output_type": "execute_result"
    }
   ],
   "source": [
    "[df_externa['comp_externo2'].min(), df_externa['comp_externo2'].max(), df_externa['comp_externo2'].mode()]"
   ]
  },
  {
   "cell_type": "markdown",
   "metadata": {},
   "source": [
    "Para confirmar un poco nuestra sospecha, vemos que los clientes con comp_externo2 más alto no han estado en buro (comp_interno2=b'1'), y son prioritarios para el banco (categoria1=1 o 2):"
   ]
  },
  {
   "cell_type": "code",
   "execution_count": 34,
   "metadata": {},
   "outputs": [
    {
     "data": {
      "text/html": [
       "<div>\n",
       "<style scoped>\n",
       "    .dataframe tbody tr th:only-of-type {\n",
       "        vertical-align: middle;\n",
       "    }\n",
       "\n",
       "    .dataframe tbody tr th {\n",
       "        vertical-align: top;\n",
       "    }\n",
       "\n",
       "    .dataframe thead th {\n",
       "        text-align: right;\n",
       "    }\n",
       "</style>\n",
       "<table border=\"1\" class=\"dataframe\">\n",
       "  <thead>\n",
       "    <tr style=\"text-align: right;\">\n",
       "      <th></th>\n",
       "      <th>_id_</th>\n",
       "      <th>fecha_inicio</th>\n",
       "      <th>comp_interno1</th>\n",
       "      <th>comp_interno2</th>\n",
       "      <th>comp_interno3</th>\n",
       "      <th>comp_interno4</th>\n",
       "      <th>categoria1</th>\n",
       "      <th>categoria2</th>\n",
       "      <th>categoria3</th>\n",
       "    </tr>\n",
       "  </thead>\n",
       "  <tbody>\n",
       "    <tr>\n",
       "      <th>6602</th>\n",
       "      <td>70431</td>\n",
       "      <td>2019-09-23</td>\n",
       "      <td>5065.856130</td>\n",
       "      <td>b'1'</td>\n",
       "      <td>11.0</td>\n",
       "      <td>58.0</td>\n",
       "      <td>2.0</td>\n",
       "      <td>9.0</td>\n",
       "      <td>156.0</td>\n",
       "    </tr>\n",
       "    <tr>\n",
       "      <th>12715</th>\n",
       "      <td>78716</td>\n",
       "      <td>2020-04-28</td>\n",
       "      <td>2026.342452</td>\n",
       "      <td>b'1'</td>\n",
       "      <td>6.0</td>\n",
       "      <td>71.0</td>\n",
       "      <td>1.0</td>\n",
       "      <td>6.0</td>\n",
       "      <td>151.0</td>\n",
       "    </tr>\n",
       "    <tr>\n",
       "      <th>28677</th>\n",
       "      <td>65707</td>\n",
       "      <td>2019-06-19</td>\n",
       "      <td>1013.171226</td>\n",
       "      <td>b'1'</td>\n",
       "      <td>8.0</td>\n",
       "      <td>54.0</td>\n",
       "      <td>1.0</td>\n",
       "      <td>9.0</td>\n",
       "      <td>153.0</td>\n",
       "    </tr>\n",
       "    <tr>\n",
       "      <th>34252</th>\n",
       "      <td>90748</td>\n",
       "      <td>2020-12-14</td>\n",
       "      <td>5065.856130</td>\n",
       "      <td>b'1'</td>\n",
       "      <td>14.0</td>\n",
       "      <td>73.0</td>\n",
       "      <td>1.0</td>\n",
       "      <td>9.0</td>\n",
       "      <td>159.0</td>\n",
       "    </tr>\n",
       "  </tbody>\n",
       "</table>\n",
       "</div>"
      ],
      "text/plain": [
       "        _id_ fecha_inicio  comp_interno1 comp_interno2  comp_interno3  \\\n",
       "6602   70431   2019-09-23    5065.856130          b'1'           11.0   \n",
       "12715  78716   2020-04-28    2026.342452          b'1'            6.0   \n",
       "28677  65707   2019-06-19    1013.171226          b'1'            8.0   \n",
       "34252  90748   2020-12-14    5065.856130          b'1'           14.0   \n",
       "\n",
       "       comp_interno4  categoria1  categoria2  categoria3  \n",
       "6602            58.0         2.0         9.0       156.0  \n",
       "12715           71.0         1.0         6.0       151.0  \n",
       "28677           54.0         1.0         9.0       153.0  \n",
       "34252           73.0         1.0         9.0       159.0  "
      ]
     },
     "execution_count": 34,
     "metadata": {},
     "output_type": "execute_result"
    }
   ],
   "source": [
    "df_interna[df_interna['_id_'].isin(df_externa['_id_'][df_externa['comp_externo2']==861.8213157138754])]"
   ]
  },
  {
   "cell_type": "markdown",
   "metadata": {},
   "source": [
    "Sin embargo, tambien hay clientes con comp_interno1 de miles (balances de credito), y comp_externo2=0. Es decir gente con saldo deudor, y sin ingresos:"
   ]
  },
  {
   "cell_type": "code",
   "execution_count": 35,
   "metadata": {},
   "outputs": [
    {
     "data": {
      "text/html": [
       "<div>\n",
       "<style scoped>\n",
       "    .dataframe tbody tr th:only-of-type {\n",
       "        vertical-align: middle;\n",
       "    }\n",
       "\n",
       "    .dataframe tbody tr th {\n",
       "        vertical-align: top;\n",
       "    }\n",
       "\n",
       "    .dataframe thead th {\n",
       "        text-align: right;\n",
       "    }\n",
       "</style>\n",
       "<table border=\"1\" class=\"dataframe\">\n",
       "  <thead>\n",
       "    <tr style=\"text-align: right;\">\n",
       "      <th></th>\n",
       "      <th>_id_</th>\n",
       "      <th>fecha_inicio</th>\n",
       "      <th>comp_interno1</th>\n",
       "      <th>comp_interno2</th>\n",
       "      <th>comp_interno3</th>\n",
       "      <th>comp_interno4</th>\n",
       "      <th>categoria1</th>\n",
       "      <th>categoria2</th>\n",
       "      <th>categoria3</th>\n",
       "    </tr>\n",
       "  </thead>\n",
       "  <tbody>\n",
       "    <tr>\n",
       "      <th>5231</th>\n",
       "      <td>26231</td>\n",
       "      <td>2017-05-26</td>\n",
       "      <td>0.000000</td>\n",
       "      <td>b'1'</td>\n",
       "      <td>14.0</td>\n",
       "      <td>41.0</td>\n",
       "      <td>2.0</td>\n",
       "      <td>6.0</td>\n",
       "      <td>159.0</td>\n",
       "    </tr>\n",
       "    <tr>\n",
       "      <th>6975</th>\n",
       "      <td>19854</td>\n",
       "      <td>2017-01-12</td>\n",
       "      <td>17730.496454</td>\n",
       "      <td>b'0'</td>\n",
       "      <td>9.0</td>\n",
       "      <td>63.0</td>\n",
       "      <td>3.0</td>\n",
       "      <td>9.0</td>\n",
       "      <td>154.0</td>\n",
       "    </tr>\n",
       "    <tr>\n",
       "      <th>7420</th>\n",
       "      <td>33196</td>\n",
       "      <td>2017-08-10</td>\n",
       "      <td>0.000000</td>\n",
       "      <td>b'1'</td>\n",
       "      <td>6.0</td>\n",
       "      <td>71.0</td>\n",
       "      <td>3.0</td>\n",
       "      <td>11.0</td>\n",
       "      <td>151.0</td>\n",
       "    </tr>\n",
       "    <tr>\n",
       "      <th>8680</th>\n",
       "      <td>7461</td>\n",
       "      <td>2016-05-04</td>\n",
       "      <td>607.902736</td>\n",
       "      <td>b'1'</td>\n",
       "      <td>14.0</td>\n",
       "      <td>67.0</td>\n",
       "      <td>3.0</td>\n",
       "      <td>9.0</td>\n",
       "      <td>159.0</td>\n",
       "    </tr>\n",
       "    <tr>\n",
       "      <th>9721</th>\n",
       "      <td>98639</td>\n",
       "      <td>2021-04-09</td>\n",
       "      <td>0.000000</td>\n",
       "      <td>b'1'</td>\n",
       "      <td>28.0</td>\n",
       "      <td>62.0</td>\n",
       "      <td>4.0</td>\n",
       "      <td>9.0</td>\n",
       "      <td>173.0</td>\n",
       "    </tr>\n",
       "    <tr>\n",
       "      <th>10939</th>\n",
       "      <td>90673</td>\n",
       "      <td>2020-12-16</td>\n",
       "      <td>354.609929</td>\n",
       "      <td>b'0'</td>\n",
       "      <td>6.0</td>\n",
       "      <td>62.0</td>\n",
       "      <td>3.0</td>\n",
       "      <td>9.0</td>\n",
       "      <td>151.0</td>\n",
       "    </tr>\n",
       "    <tr>\n",
       "      <th>13986</th>\n",
       "      <td>21321</td>\n",
       "      <td>2017-03-14</td>\n",
       "      <td>0.000000</td>\n",
       "      <td>b'0'</td>\n",
       "      <td>16.0</td>\n",
       "      <td>54.0</td>\n",
       "      <td>2.0</td>\n",
       "      <td>9.0</td>\n",
       "      <td>161.0</td>\n",
       "    </tr>\n",
       "    <tr>\n",
       "      <th>16214</th>\n",
       "      <td>4716</td>\n",
       "      <td>2016-02-23</td>\n",
       "      <td>759.878419</td>\n",
       "      <td>b'1'</td>\n",
       "      <td>1.0</td>\n",
       "      <td>52.0</td>\n",
       "      <td>1.0</td>\n",
       "      <td>9.0</td>\n",
       "      <td>146.0</td>\n",
       "    </tr>\n",
       "    <tr>\n",
       "      <th>17140</th>\n",
       "      <td>17856</td>\n",
       "      <td>2016-10-25</td>\n",
       "      <td>0.000000</td>\n",
       "      <td>b'0'</td>\n",
       "      <td>1.0</td>\n",
       "      <td>75.0</td>\n",
       "      <td>3.0</td>\n",
       "      <td>11.0</td>\n",
       "      <td>146.0</td>\n",
       "    </tr>\n",
       "    <tr>\n",
       "      <th>18690</th>\n",
       "      <td>22317</td>\n",
       "      <td>2017-03-24</td>\n",
       "      <td>0.000000</td>\n",
       "      <td>b'0'</td>\n",
       "      <td>14.0</td>\n",
       "      <td>64.0</td>\n",
       "      <td>2.0</td>\n",
       "      <td>9.0</td>\n",
       "      <td>159.0</td>\n",
       "    </tr>\n",
       "    <tr>\n",
       "      <th>19849</th>\n",
       "      <td>42631</td>\n",
       "      <td>2018-02-26</td>\n",
       "      <td>0.000000</td>\n",
       "      <td>b'0'</td>\n",
       "      <td>27.0</td>\n",
       "      <td>73.0</td>\n",
       "      <td>3.0</td>\n",
       "      <td>9.0</td>\n",
       "      <td>172.0</td>\n",
       "    </tr>\n",
       "    <tr>\n",
       "      <th>25714</th>\n",
       "      <td>92290</td>\n",
       "      <td>2021-01-12</td>\n",
       "      <td>607.902736</td>\n",
       "      <td>b'0'</td>\n",
       "      <td>32.0</td>\n",
       "      <td>51.0</td>\n",
       "      <td>3.0</td>\n",
       "      <td>9.0</td>\n",
       "      <td>177.0</td>\n",
       "    </tr>\n",
       "    <tr>\n",
       "      <th>26653</th>\n",
       "      <td>93658</td>\n",
       "      <td>2021-01-20</td>\n",
       "      <td>0.000000</td>\n",
       "      <td>b'1'</td>\n",
       "      <td>19.0</td>\n",
       "      <td>60.0</td>\n",
       "      <td>4.0</td>\n",
       "      <td>9.0</td>\n",
       "      <td>164.0</td>\n",
       "    </tr>\n",
       "    <tr>\n",
       "      <th>27274</th>\n",
       "      <td>42092</td>\n",
       "      <td>2018-03-07</td>\n",
       "      <td>0.000000</td>\n",
       "      <td>b'0'</td>\n",
       "      <td>24.0</td>\n",
       "      <td>54.0</td>\n",
       "      <td>1.0</td>\n",
       "      <td>9.0</td>\n",
       "      <td>169.0</td>\n",
       "    </tr>\n",
       "    <tr>\n",
       "      <th>28968</th>\n",
       "      <td>86209</td>\n",
       "      <td>2020-10-01</td>\n",
       "      <td>1013.171226</td>\n",
       "      <td>b'1'</td>\n",
       "      <td>6.0</td>\n",
       "      <td>48.0</td>\n",
       "      <td>3.0</td>\n",
       "      <td>9.0</td>\n",
       "      <td>151.0</td>\n",
       "    </tr>\n",
       "    <tr>\n",
       "      <th>29656</th>\n",
       "      <td>23849</td>\n",
       "      <td>2017-02-08</td>\n",
       "      <td>253.292806</td>\n",
       "      <td>b'1'</td>\n",
       "      <td>21.0</td>\n",
       "      <td>54.0</td>\n",
       "      <td>1.0</td>\n",
       "      <td>9.0</td>\n",
       "      <td>166.0</td>\n",
       "    </tr>\n",
       "    <tr>\n",
       "      <th>32354</th>\n",
       "      <td>2504</td>\n",
       "      <td>2016-01-22</td>\n",
       "      <td>0.000000</td>\n",
       "      <td>b'0'</td>\n",
       "      <td>28.0</td>\n",
       "      <td>53.0</td>\n",
       "      <td>3.0</td>\n",
       "      <td>9.0</td>\n",
       "      <td>173.0</td>\n",
       "    </tr>\n",
       "    <tr>\n",
       "      <th>33224</th>\n",
       "      <td>74090</td>\n",
       "      <td>2019-11-22</td>\n",
       "      <td>0.000000</td>\n",
       "      <td>b'0'</td>\n",
       "      <td>15.0</td>\n",
       "      <td>62.0</td>\n",
       "      <td>2.0</td>\n",
       "      <td>9.0</td>\n",
       "      <td>160.0</td>\n",
       "    </tr>\n",
       "    <tr>\n",
       "      <th>33738</th>\n",
       "      <td>7902</td>\n",
       "      <td>2016-06-20</td>\n",
       "      <td>0.000000</td>\n",
       "      <td>b'1'</td>\n",
       "      <td>30.0</td>\n",
       "      <td>68.0</td>\n",
       "      <td>2.0</td>\n",
       "      <td>9.0</td>\n",
       "      <td>175.0</td>\n",
       "    </tr>\n",
       "    <tr>\n",
       "      <th>34883</th>\n",
       "      <td>87205</td>\n",
       "      <td>2020-08-20</td>\n",
       "      <td>1013.171226</td>\n",
       "      <td>b'1'</td>\n",
       "      <td>24.0</td>\n",
       "      <td>67.0</td>\n",
       "      <td>3.0</td>\n",
       "      <td>9.0</td>\n",
       "      <td>169.0</td>\n",
       "    </tr>\n",
       "    <tr>\n",
       "      <th>36172</th>\n",
       "      <td>34405</td>\n",
       "      <td>2017-12-11</td>\n",
       "      <td>0.000000</td>\n",
       "      <td>b'0'</td>\n",
       "      <td>1.0</td>\n",
       "      <td>58.0</td>\n",
       "      <td>3.0</td>\n",
       "      <td>8.0</td>\n",
       "      <td>146.0</td>\n",
       "    </tr>\n",
       "    <tr>\n",
       "      <th>38075</th>\n",
       "      <td>90170</td>\n",
       "      <td>2020-12-07</td>\n",
       "      <td>0.000000</td>\n",
       "      <td>b'1'</td>\n",
       "      <td>24.0</td>\n",
       "      <td>56.0</td>\n",
       "      <td>1.0</td>\n",
       "      <td>6.0</td>\n",
       "      <td>169.0</td>\n",
       "    </tr>\n",
       "    <tr>\n",
       "      <th>39147</th>\n",
       "      <td>4043</td>\n",
       "      <td>2016-03-18</td>\n",
       "      <td>0.000000</td>\n",
       "      <td>b'1'</td>\n",
       "      <td>19.0</td>\n",
       "      <td>42.0</td>\n",
       "      <td>3.0</td>\n",
       "      <td>3.0</td>\n",
       "      <td>164.0</td>\n",
       "    </tr>\n",
       "    <tr>\n",
       "      <th>43562</th>\n",
       "      <td>97131</td>\n",
       "      <td>2021-02-23</td>\n",
       "      <td>0.000000</td>\n",
       "      <td>b'1'</td>\n",
       "      <td>25.0</td>\n",
       "      <td>44.0</td>\n",
       "      <td>1.0</td>\n",
       "      <td>9.0</td>\n",
       "      <td>170.0</td>\n",
       "    </tr>\n",
       "    <tr>\n",
       "      <th>44681</th>\n",
       "      <td>91830</td>\n",
       "      <td>2020-12-01</td>\n",
       "      <td>0.000000</td>\n",
       "      <td>b'0'</td>\n",
       "      <td>30.0</td>\n",
       "      <td>64.0</td>\n",
       "      <td>1.0</td>\n",
       "      <td>11.0</td>\n",
       "      <td>175.0</td>\n",
       "    </tr>\n",
       "    <tr>\n",
       "      <th>46904</th>\n",
       "      <td>31294</td>\n",
       "      <td>2017-08-24</td>\n",
       "      <td>506.585613</td>\n",
       "      <td>b'1'</td>\n",
       "      <td>14.0</td>\n",
       "      <td>43.0</td>\n",
       "      <td>1.0</td>\n",
       "      <td>9.0</td>\n",
       "      <td>159.0</td>\n",
       "    </tr>\n",
       "    <tr>\n",
       "      <th>47509</th>\n",
       "      <td>20799</td>\n",
       "      <td>2016-12-09</td>\n",
       "      <td>810.536981</td>\n",
       "      <td>b'0'</td>\n",
       "      <td>22.0</td>\n",
       "      <td>44.0</td>\n",
       "      <td>1.0</td>\n",
       "      <td>3.0</td>\n",
       "      <td>167.0</td>\n",
       "    </tr>\n",
       "    <tr>\n",
       "      <th>48118</th>\n",
       "      <td>86546</td>\n",
       "      <td>2020-10-08</td>\n",
       "      <td>1114.488349</td>\n",
       "      <td>b'1'</td>\n",
       "      <td>10.0</td>\n",
       "      <td>75.0</td>\n",
       "      <td>1.0</td>\n",
       "      <td>9.0</td>\n",
       "      <td>155.0</td>\n",
       "    </tr>\n",
       "    <tr>\n",
       "      <th>48974</th>\n",
       "      <td>14266</td>\n",
       "      <td>2016-09-22</td>\n",
       "      <td>1013.171226</td>\n",
       "      <td>b'1'</td>\n",
       "      <td>21.0</td>\n",
       "      <td>74.0</td>\n",
       "      <td>1.0</td>\n",
       "      <td>9.0</td>\n",
       "      <td>166.0</td>\n",
       "    </tr>\n",
       "  </tbody>\n",
       "</table>\n",
       "</div>"
      ],
      "text/plain": [
       "        _id_ fecha_inicio  comp_interno1 comp_interno2  comp_interno3  \\\n",
       "5231   26231   2017-05-26       0.000000          b'1'           14.0   \n",
       "6975   19854   2017-01-12   17730.496454          b'0'            9.0   \n",
       "7420   33196   2017-08-10       0.000000          b'1'            6.0   \n",
       "8680    7461   2016-05-04     607.902736          b'1'           14.0   \n",
       "9721   98639   2021-04-09       0.000000          b'1'           28.0   \n",
       "10939  90673   2020-12-16     354.609929          b'0'            6.0   \n",
       "13986  21321   2017-03-14       0.000000          b'0'           16.0   \n",
       "16214   4716   2016-02-23     759.878419          b'1'            1.0   \n",
       "17140  17856   2016-10-25       0.000000          b'0'            1.0   \n",
       "18690  22317   2017-03-24       0.000000          b'0'           14.0   \n",
       "19849  42631   2018-02-26       0.000000          b'0'           27.0   \n",
       "25714  92290   2021-01-12     607.902736          b'0'           32.0   \n",
       "26653  93658   2021-01-20       0.000000          b'1'           19.0   \n",
       "27274  42092   2018-03-07       0.000000          b'0'           24.0   \n",
       "28968  86209   2020-10-01    1013.171226          b'1'            6.0   \n",
       "29656  23849   2017-02-08     253.292806          b'1'           21.0   \n",
       "32354   2504   2016-01-22       0.000000          b'0'           28.0   \n",
       "33224  74090   2019-11-22       0.000000          b'0'           15.0   \n",
       "33738   7902   2016-06-20       0.000000          b'1'           30.0   \n",
       "34883  87205   2020-08-20    1013.171226          b'1'           24.0   \n",
       "36172  34405   2017-12-11       0.000000          b'0'            1.0   \n",
       "38075  90170   2020-12-07       0.000000          b'1'           24.0   \n",
       "39147   4043   2016-03-18       0.000000          b'1'           19.0   \n",
       "43562  97131   2021-02-23       0.000000          b'1'           25.0   \n",
       "44681  91830   2020-12-01       0.000000          b'0'           30.0   \n",
       "46904  31294   2017-08-24     506.585613          b'1'           14.0   \n",
       "47509  20799   2016-12-09     810.536981          b'0'           22.0   \n",
       "48118  86546   2020-10-08    1114.488349          b'1'           10.0   \n",
       "48974  14266   2016-09-22    1013.171226          b'1'           21.0   \n",
       "\n",
       "       comp_interno4  categoria1  categoria2  categoria3  \n",
       "5231            41.0         2.0         6.0       159.0  \n",
       "6975            63.0         3.0         9.0       154.0  \n",
       "7420            71.0         3.0        11.0       151.0  \n",
       "8680            67.0         3.0         9.0       159.0  \n",
       "9721            62.0         4.0         9.0       173.0  \n",
       "10939           62.0         3.0         9.0       151.0  \n",
       "13986           54.0         2.0         9.0       161.0  \n",
       "16214           52.0         1.0         9.0       146.0  \n",
       "17140           75.0         3.0        11.0       146.0  \n",
       "18690           64.0         2.0         9.0       159.0  \n",
       "19849           73.0         3.0         9.0       172.0  \n",
       "25714           51.0         3.0         9.0       177.0  \n",
       "26653           60.0         4.0         9.0       164.0  \n",
       "27274           54.0         1.0         9.0       169.0  \n",
       "28968           48.0         3.0         9.0       151.0  \n",
       "29656           54.0         1.0         9.0       166.0  \n",
       "32354           53.0         3.0         9.0       173.0  \n",
       "33224           62.0         2.0         9.0       160.0  \n",
       "33738           68.0         2.0         9.0       175.0  \n",
       "34883           67.0         3.0         9.0       169.0  \n",
       "36172           58.0         3.0         8.0       146.0  \n",
       "38075           56.0         1.0         6.0       169.0  \n",
       "39147           42.0         3.0         3.0       164.0  \n",
       "43562           44.0         1.0         9.0       170.0  \n",
       "44681           64.0         1.0        11.0       175.0  \n",
       "46904           43.0         1.0         9.0       159.0  \n",
       "47509           44.0         1.0         3.0       167.0  \n",
       "48118           75.0         1.0         9.0       155.0  \n",
       "48974           74.0         1.0         9.0       166.0  "
      ]
     },
     "execution_count": 35,
     "metadata": {},
     "output_type": "execute_result"
    }
   ],
   "source": [
    "df_interna[df_interna['_id_'].isin(df_externa['_id_'][df_externa['comp_externo2']==0.0002872737719046])]"
   ]
  },
  {
   "cell_type": "markdown",
   "metadata": {},
   "source": [
    "Para esa gente, se verifica su comp_externo1, sus ingresos. La mayoría tiene ingresos que respaldan su credito, aunque no tengan ahorros."
   ]
  },
  {
   "cell_type": "code",
   "execution_count": 36,
   "metadata": {},
   "outputs": [
    {
     "data": {
      "text/html": [
       "<div>\n",
       "<style scoped>\n",
       "    .dataframe tbody tr th:only-of-type {\n",
       "        vertical-align: middle;\n",
       "    }\n",
       "\n",
       "    .dataframe tbody tr th {\n",
       "        vertical-align: top;\n",
       "    }\n",
       "\n",
       "    .dataframe thead th {\n",
       "        text-align: right;\n",
       "    }\n",
       "</style>\n",
       "<table border=\"1\" class=\"dataframe\">\n",
       "  <thead>\n",
       "    <tr style=\"text-align: right;\">\n",
       "      <th></th>\n",
       "      <th>_id_</th>\n",
       "      <th>comp_externo1</th>\n",
       "      <th>comp_externo2</th>\n",
       "      <th>comp_externo3</th>\n",
       "      <th>comp_externo4</th>\n",
       "    </tr>\n",
       "  </thead>\n",
       "  <tbody>\n",
       "    <tr>\n",
       "      <th>6975</th>\n",
       "      <td>19854</td>\n",
       "      <td>78.260870</td>\n",
       "      <td>0.000287</td>\n",
       "      <td>92.0</td>\n",
       "      <td>-230.0</td>\n",
       "    </tr>\n",
       "    <tr>\n",
       "      <th>8680</th>\n",
       "      <td>7461</td>\n",
       "      <td>2.898551</td>\n",
       "      <td>0.000287</td>\n",
       "      <td>140.0</td>\n",
       "      <td>-230.0</td>\n",
       "    </tr>\n",
       "    <tr>\n",
       "      <th>10939</th>\n",
       "      <td>90673</td>\n",
       "      <td>0.002899</td>\n",
       "      <td>0.000287</td>\n",
       "      <td>129.0</td>\n",
       "      <td>-230.0</td>\n",
       "    </tr>\n",
       "    <tr>\n",
       "      <th>16214</th>\n",
       "      <td>4716</td>\n",
       "      <td>75.942029</td>\n",
       "      <td>0.000287</td>\n",
       "      <td>119.0</td>\n",
       "      <td>-230.0</td>\n",
       "    </tr>\n",
       "    <tr>\n",
       "      <th>25714</th>\n",
       "      <td>92290</td>\n",
       "      <td>51.014493</td>\n",
       "      <td>0.000287</td>\n",
       "      <td>98.0</td>\n",
       "      <td>-230.0</td>\n",
       "    </tr>\n",
       "    <tr>\n",
       "      <th>28968</th>\n",
       "      <td>86209</td>\n",
       "      <td>246.376812</td>\n",
       "      <td>0.000287</td>\n",
       "      <td>96.0</td>\n",
       "      <td>-230.0</td>\n",
       "    </tr>\n",
       "    <tr>\n",
       "      <th>29656</th>\n",
       "      <td>23849</td>\n",
       "      <td>0.002899</td>\n",
       "      <td>0.000287</td>\n",
       "      <td>126.0</td>\n",
       "      <td>-230.0</td>\n",
       "    </tr>\n",
       "    <tr>\n",
       "      <th>34883</th>\n",
       "      <td>87205</td>\n",
       "      <td>101.449275</td>\n",
       "      <td>0.000287</td>\n",
       "      <td>132.0</td>\n",
       "      <td>-230.0</td>\n",
       "    </tr>\n",
       "    <tr>\n",
       "      <th>46904</th>\n",
       "      <td>31294</td>\n",
       "      <td>8.695652</td>\n",
       "      <td>0.000287</td>\n",
       "      <td>80.0</td>\n",
       "      <td>-230.0</td>\n",
       "    </tr>\n",
       "    <tr>\n",
       "      <th>47509</th>\n",
       "      <td>20799</td>\n",
       "      <td>104.347826</td>\n",
       "      <td>0.000287</td>\n",
       "      <td>-30.0</td>\n",
       "      <td>-230.0</td>\n",
       "    </tr>\n",
       "    <tr>\n",
       "      <th>48118</th>\n",
       "      <td>86546</td>\n",
       "      <td>147.826087</td>\n",
       "      <td>0.000287</td>\n",
       "      <td>60.0</td>\n",
       "      <td>-230.0</td>\n",
       "    </tr>\n",
       "    <tr>\n",
       "      <th>48974</th>\n",
       "      <td>14266</td>\n",
       "      <td>1.159420</td>\n",
       "      <td>0.000287</td>\n",
       "      <td>90.0</td>\n",
       "      <td>-230.0</td>\n",
       "    </tr>\n",
       "  </tbody>\n",
       "</table>\n",
       "</div>"
      ],
      "text/plain": [
       "        _id_  comp_externo1  comp_externo2  comp_externo3  comp_externo4\n",
       "6975   19854      78.260870       0.000287           92.0         -230.0\n",
       "8680    7461       2.898551       0.000287          140.0         -230.0\n",
       "10939  90673       0.002899       0.000287          129.0         -230.0\n",
       "16214   4716      75.942029       0.000287          119.0         -230.0\n",
       "25714  92290      51.014493       0.000287           98.0         -230.0\n",
       "28968  86209     246.376812       0.000287           96.0         -230.0\n",
       "29656  23849       0.002899       0.000287          126.0         -230.0\n",
       "34883  87205     101.449275       0.000287          132.0         -230.0\n",
       "46904  31294       8.695652       0.000287           80.0         -230.0\n",
       "47509  20799     104.347826       0.000287          -30.0         -230.0\n",
       "48118  86546     147.826087       0.000287           60.0         -230.0\n",
       "48974  14266       1.159420       0.000287           90.0         -230.0"
      ]
     },
     "execution_count": 36,
     "metadata": {},
     "output_type": "execute_result"
    }
   ],
   "source": [
    "df_externa[df_interna['_id_'].isin([19854, 7461, 90673, 4716,  92290, 86209, 23849, 87205, 31294, 20799, 86546, 14266])]\n"
   ]
  },
  {
   "cell_type": "markdown",
   "metadata": {},
   "source": [
    "El **comp_externo3** tiene valores negativos, y no se cómo interpretarlo. "
   ]
  },
  {
   "cell_type": "code",
   "execution_count": 37,
   "metadata": {},
   "outputs": [
    {
     "data": {
      "text/plain": [
       "-230           44431\n",
       "-229            3942\n",
       "-2147483648     1588\n",
       "-228              34\n",
       "-227               3\n",
       "-226               2\n",
       "Name: comp_externo4, dtype: int64"
      ]
     },
     "execution_count": 37,
     "metadata": {},
     "output_type": "execute_result"
    }
   ],
   "source": [
    "df_externa[\"comp_externo4\"].astype(int).value_counts()"
   ]
  },
  {
   "cell_type": "markdown",
   "metadata": {},
   "source": [
    "En la variable **comp_externo4**, parece haber un error. Los valores unicos son:\n",
    "\n",
    "<ul>\n",
    "<li>-226</li>\n",
    "<li>-227</li>\n",
    "<li>-228</li>\n",
    "<li>-229</li>\n",
    "<li>-230</li>\n",
    "<li>-2147483648</li>\n",
    "</ul>\n",
    "\n",
    "Claramente el ultimo valor es anómalo. Hay 1588 de 50000 observaciones con este valor. **comp_externo4** es categorica, y por tanto parece que no hay problema con el ultimo valor. Solo son codigos."
   ]
  },
  {
   "cell_type": "markdown",
   "metadata": {},
   "source": [
    "## base_ini_parte1\n",
    "\n",
    "Forma parte de la base_ini, junto con las bases interna y externa. Tiene como variables especiales comp_mixto1,e _id2_.<br>\n",
    "\n",
    "comp_mixto1 esta en el intervalo [0.2, 0.43006]"
   ]
  },
  {
   "cell_type": "code",
   "execution_count": 63,
   "metadata": {},
   "outputs": [],
   "source": [
    "#'base_ini_parte1.csv'\n",
    "\n",
    "df_parte1 = pd.read_csv('base_ini_parte1.csv')"
   ]
  },
  {
   "cell_type": "code",
   "execution_count": 39,
   "metadata": {},
   "outputs": [
    {
     "data": {
      "text/html": [
       "<div>\n",
       "<style scoped>\n",
       "    .dataframe tbody tr th:only-of-type {\n",
       "        vertical-align: middle;\n",
       "    }\n",
       "\n",
       "    .dataframe tbody tr th {\n",
       "        vertical-align: top;\n",
       "    }\n",
       "\n",
       "    .dataframe thead th {\n",
       "        text-align: right;\n",
       "    }\n",
       "</style>\n",
       "<table border=\"1\" class=\"dataframe\">\n",
       "  <thead>\n",
       "    <tr style=\"text-align: right;\">\n",
       "      <th></th>\n",
       "      <th>_id_</th>\n",
       "      <th>_id2_</th>\n",
       "      <th>comp_mixto1</th>\n",
       "    </tr>\n",
       "  </thead>\n",
       "  <tbody>\n",
       "    <tr>\n",
       "      <th>0</th>\n",
       "      <td>78213</td>\n",
       "      <td>1798899</td>\n",
       "      <td>0.33522</td>\n",
       "    </tr>\n",
       "    <tr>\n",
       "      <th>1</th>\n",
       "      <td>76457</td>\n",
       "      <td>1758511</td>\n",
       "      <td>0.33334</td>\n",
       "    </tr>\n",
       "    <tr>\n",
       "      <th>2</th>\n",
       "      <td>40666</td>\n",
       "      <td>935318</td>\n",
       "      <td>0.29186</td>\n",
       "    </tr>\n",
       "    <tr>\n",
       "      <th>3</th>\n",
       "      <td>8329</td>\n",
       "      <td>191567</td>\n",
       "      <td>0.29112</td>\n",
       "    </tr>\n",
       "    <tr>\n",
       "      <th>4</th>\n",
       "      <td>68389</td>\n",
       "      <td>1572947</td>\n",
       "      <td>0.27318</td>\n",
       "    </tr>\n",
       "    <tr>\n",
       "      <th>5</th>\n",
       "      <td>45732</td>\n",
       "      <td>1051836</td>\n",
       "      <td>0.32988</td>\n",
       "    </tr>\n",
       "    <tr>\n",
       "      <th>6</th>\n",
       "      <td>64416</td>\n",
       "      <td>1481568</td>\n",
       "      <td>0.34022</td>\n",
       "    </tr>\n",
       "    <tr>\n",
       "      <th>7</th>\n",
       "      <td>11459</td>\n",
       "      <td>263557</td>\n",
       "      <td>0.38000</td>\n",
       "    </tr>\n",
       "    <tr>\n",
       "      <th>8</th>\n",
       "      <td>35742</td>\n",
       "      <td>822066</td>\n",
       "      <td>0.35514</td>\n",
       "    </tr>\n",
       "    <tr>\n",
       "      <th>9</th>\n",
       "      <td>53185</td>\n",
       "      <td>1223255</td>\n",
       "      <td>0.37000</td>\n",
       "    </tr>\n",
       "  </tbody>\n",
       "</table>\n",
       "</div>"
      ],
      "text/plain": [
       "    _id_    _id2_  comp_mixto1\n",
       "0  78213  1798899      0.33522\n",
       "1  76457  1758511      0.33334\n",
       "2  40666   935318      0.29186\n",
       "3   8329   191567      0.29112\n",
       "4  68389  1572947      0.27318\n",
       "5  45732  1051836      0.32988\n",
       "6  64416  1481568      0.34022\n",
       "7  11459   263557      0.38000\n",
       "8  35742   822066      0.35514\n",
       "9  53185  1223255      0.37000"
      ]
     },
     "execution_count": 39,
     "metadata": {},
     "output_type": "execute_result"
    }
   ],
   "source": [
    "df_parte1.head(10)"
   ]
  },
  {
   "cell_type": "code",
   "execution_count": 40,
   "metadata": {},
   "outputs": [
    {
     "data": {
      "text/plain": [
       "(50000, 3)"
      ]
     },
     "execution_count": 40,
     "metadata": {},
     "output_type": "execute_result"
    }
   ],
   "source": [
    "df_parte1.shape"
   ]
  },
  {
   "cell_type": "code",
   "execution_count": 41,
   "metadata": {},
   "outputs": [
    {
     "data": {
      "text/plain": [
       "[0.2, 0.43006]"
      ]
     },
     "execution_count": 41,
     "metadata": {},
     "output_type": "execute_result"
    }
   ],
   "source": [
    "[df_parte1['comp_mixto1'].min(), df_parte1['comp_mixto1'].max()]"
   ]
  },
  {
   "cell_type": "markdown",
   "metadata": {},
   "source": [
    "_id2_ se usa en la base 'base_inversion.txt'. Esa base no tiene 50000 filas, sino solo 17536.<br>\n",
    "\n",
    "Por el nombre, asumo que la base 'base_inversion.txt' indica la cantidad que tiene en inversion en el banco cada cliente.<br>\n",
    "\n",
    "Como esta base usa _id_2, voy a asumir que la columna 'inversion' se relaciona con 'comp_mixto1' de la base_ini_parte1.<br>\n",
    "\n",
    "Al final, lo que importa para mi es 'comp_mixto1', entre más alto, significa que la combinacion de 'inversion' y los componentes internos y externos del banco, indican que el cliente es mejor, y por tanto tiene más posibilidad de obtener un crédito. <br>\n",
    "\n",
    "Basados en esto, voy a ignorar la base 'base_inversion.txt'. Incluye 17,536 registros. Si la incluyera, al querer las mismas variables explicativas para cada observacion, tendria que eliminar (50,000-17,536=32,464) registros."
   ]
  },
  {
   "cell_type": "code",
   "execution_count": 42,
   "metadata": {},
   "outputs": [],
   "source": [
    "#'base_inversion.txt'\n",
    "df_inversion = pd.read_csv('base_inversion.txt', sep=\" \")"
   ]
  },
  {
   "cell_type": "code",
   "execution_count": 43,
   "metadata": {},
   "outputs": [
    {
     "data": {
      "text/plain": [
       "17536"
      ]
     },
     "execution_count": 43,
     "metadata": {},
     "output_type": "execute_result"
    }
   ],
   "source": [
    "len(df_inversion)"
   ]
  },
  {
   "cell_type": "code",
   "execution_count": 44,
   "metadata": {},
   "outputs": [
    {
     "data": {
      "text/html": [
       "<div>\n",
       "<style scoped>\n",
       "    .dataframe tbody tr th:only-of-type {\n",
       "        vertical-align: middle;\n",
       "    }\n",
       "\n",
       "    .dataframe tbody tr th {\n",
       "        vertical-align: top;\n",
       "    }\n",
       "\n",
       "    .dataframe thead th {\n",
       "        text-align: right;\n",
       "    }\n",
       "</style>\n",
       "<table border=\"1\" class=\"dataframe\">\n",
       "  <thead>\n",
       "    <tr style=\"text-align: right;\">\n",
       "      <th></th>\n",
       "      <th>_id2_</th>\n",
       "      <th>inversion</th>\n",
       "    </tr>\n",
       "  </thead>\n",
       "  <tbody>\n",
       "    <tr>\n",
       "      <th>0</th>\n",
       "      <td>1758511</td>\n",
       "      <td>0.041039</td>\n",
       "    </tr>\n",
       "    <tr>\n",
       "      <th>1</th>\n",
       "      <td>1572947</td>\n",
       "      <td>77.422135</td>\n",
       "    </tr>\n",
       "    <tr>\n",
       "      <th>2</th>\n",
       "      <td>1051836</td>\n",
       "      <td>90.539953</td>\n",
       "    </tr>\n",
       "    <tr>\n",
       "      <th>3</th>\n",
       "      <td>1223255</td>\n",
       "      <td>90.205018</td>\n",
       "    </tr>\n",
       "    <tr>\n",
       "      <th>4</th>\n",
       "      <td>1894602</td>\n",
       "      <td>1.071354</td>\n",
       "    </tr>\n",
       "    <tr>\n",
       "      <th>5</th>\n",
       "      <td>1999436</td>\n",
       "      <td>992.635578</td>\n",
       "    </tr>\n",
       "    <tr>\n",
       "      <th>6</th>\n",
       "      <td>473386</td>\n",
       "      <td>1.021424</td>\n",
       "    </tr>\n",
       "    <tr>\n",
       "      <th>7</th>\n",
       "      <td>857992</td>\n",
       "      <td>0.105146</td>\n",
       "    </tr>\n",
       "    <tr>\n",
       "      <th>8</th>\n",
       "      <td>287684</td>\n",
       "      <td>4.085379</td>\n",
       "    </tr>\n",
       "    <tr>\n",
       "      <th>9</th>\n",
       "      <td>179952</td>\n",
       "      <td>21.695753</td>\n",
       "    </tr>\n",
       "  </tbody>\n",
       "</table>\n",
       "</div>"
      ],
      "text/plain": [
       "     _id2_   inversion\n",
       "0  1758511    0.041039\n",
       "1  1572947   77.422135\n",
       "2  1051836   90.539953\n",
       "3  1223255   90.205018\n",
       "4  1894602    1.071354\n",
       "5  1999436  992.635578\n",
       "6   473386    1.021424\n",
       "7   857992    0.105146\n",
       "8   287684    4.085379\n",
       "9   179952   21.695753"
      ]
     },
     "execution_count": 44,
     "metadata": {},
     "output_type": "execute_result"
    }
   ],
   "source": [
    "df_inversion.head(10)"
   ]
  },
  {
   "cell_type": "markdown",
   "metadata": {},
   "source": [
    "## CONCLUSIONES SOBRE base_init.\n",
    "\n",
    "Ajustaré una regresion logistica, con mi variable de respuesta Y=1 que representa un buen cliente para un préstamo, y Y=0 que representa un mal cliente para un préstamo. \n",
    "\n",
    "Dejare afuera a la 'categoria 3' porque es la variable 'comp_interno3' pero con otros valores. Ambas representan la antiguedad\n",
    "del cliente con el banco.\n",
    "\n",
    "Finalmente, obtenemos la base 'base_init' haciendo los cambios correspondientes:\n"
   ]
  },
  {
   "cell_type": "code",
   "execution_count": 64,
   "metadata": {},
   "outputs": [],
   "source": [
    "df_interna=df_interna.drop(labels=['fecha_inicio', 'categoria3'], axis=1)\n",
    "df_externa['comp_externo4']=df_externa['comp_externo4'].astype(int)\n",
    "df_parte1=df_parte1.drop(labels=['_id2_'], axis=1)"
   ]
  },
  {
   "cell_type": "code",
   "execution_count": 46,
   "metadata": {},
   "outputs": [
    {
     "data": {
      "text/html": [
       "<div>\n",
       "<style scoped>\n",
       "    .dataframe tbody tr th:only-of-type {\n",
       "        vertical-align: middle;\n",
       "    }\n",
       "\n",
       "    .dataframe tbody tr th {\n",
       "        vertical-align: top;\n",
       "    }\n",
       "\n",
       "    .dataframe thead th {\n",
       "        text-align: right;\n",
       "    }\n",
       "</style>\n",
       "<table border=\"1\" class=\"dataframe\">\n",
       "  <thead>\n",
       "    <tr style=\"text-align: right;\">\n",
       "      <th></th>\n",
       "      <th>_id_</th>\n",
       "      <th>comp_interno1</th>\n",
       "      <th>comp_interno2</th>\n",
       "      <th>comp_interno3</th>\n",
       "      <th>comp_interno4</th>\n",
       "      <th>categoria1</th>\n",
       "      <th>categoria2</th>\n",
       "    </tr>\n",
       "  </thead>\n",
       "  <tbody>\n",
       "    <tr>\n",
       "      <th>0</th>\n",
       "      <td>78213</td>\n",
       "      <td>0.000000</td>\n",
       "      <td>b'0'</td>\n",
       "      <td>11.0</td>\n",
       "      <td>58.0</td>\n",
       "      <td>2.0</td>\n",
       "      <td>9.0</td>\n",
       "    </tr>\n",
       "    <tr>\n",
       "      <th>1</th>\n",
       "      <td>76457</td>\n",
       "      <td>0.000000</td>\n",
       "      <td>b'1'</td>\n",
       "      <td>28.0</td>\n",
       "      <td>45.0</td>\n",
       "      <td>1.0</td>\n",
       "      <td>4.0</td>\n",
       "    </tr>\n",
       "    <tr>\n",
       "      <th>2</th>\n",
       "      <td>40666</td>\n",
       "      <td>0.000000</td>\n",
       "      <td>b'1'</td>\n",
       "      <td>25.0</td>\n",
       "      <td>45.0</td>\n",
       "      <td>1.0</td>\n",
       "      <td>9.0</td>\n",
       "    </tr>\n",
       "    <tr>\n",
       "      <th>3</th>\n",
       "      <td>8329</td>\n",
       "      <td>0.000000</td>\n",
       "      <td>b'1'</td>\n",
       "      <td>14.0</td>\n",
       "      <td>59.0</td>\n",
       "      <td>3.0</td>\n",
       "      <td>3.0</td>\n",
       "    </tr>\n",
       "    <tr>\n",
       "      <th>4</th>\n",
       "      <td>68389</td>\n",
       "      <td>2026.342452</td>\n",
       "      <td>b'1'</td>\n",
       "      <td>1.0</td>\n",
       "      <td>67.0</td>\n",
       "      <td>2.0</td>\n",
       "      <td>9.0</td>\n",
       "    </tr>\n",
       "    <tr>\n",
       "      <th>5</th>\n",
       "      <td>45732</td>\n",
       "      <td>3546.099291</td>\n",
       "      <td>b'1'</td>\n",
       "      <td>15.0</td>\n",
       "      <td>70.0</td>\n",
       "      <td>1.0</td>\n",
       "      <td>9.0</td>\n",
       "    </tr>\n",
       "    <tr>\n",
       "      <th>6</th>\n",
       "      <td>64416</td>\n",
       "      <td>557.244174</td>\n",
       "      <td>b'1'</td>\n",
       "      <td>24.0</td>\n",
       "      <td>71.0</td>\n",
       "      <td>3.0</td>\n",
       "      <td>9.0</td>\n",
       "    </tr>\n",
       "    <tr>\n",
       "      <th>7</th>\n",
       "      <td>11459</td>\n",
       "      <td>0.000000</td>\n",
       "      <td>b'0'</td>\n",
       "      <td>30.0</td>\n",
       "      <td>45.0</td>\n",
       "      <td>1.0</td>\n",
       "      <td>6.0</td>\n",
       "    </tr>\n",
       "    <tr>\n",
       "      <th>8</th>\n",
       "      <td>35742</td>\n",
       "      <td>506.585613</td>\n",
       "      <td>b'0'</td>\n",
       "      <td>9.0</td>\n",
       "      <td>50.0</td>\n",
       "      <td>3.0</td>\n",
       "      <td>3.0</td>\n",
       "    </tr>\n",
       "    <tr>\n",
       "      <th>9</th>\n",
       "      <td>53185</td>\n",
       "      <td>759.878419</td>\n",
       "      <td>b'1'</td>\n",
       "      <td>23.0</td>\n",
       "      <td>58.0</td>\n",
       "      <td>1.0</td>\n",
       "      <td>9.0</td>\n",
       "    </tr>\n",
       "  </tbody>\n",
       "</table>\n",
       "</div>"
      ],
      "text/plain": [
       "    _id_  comp_interno1 comp_interno2  comp_interno3  comp_interno4  \\\n",
       "0  78213       0.000000          b'0'           11.0           58.0   \n",
       "1  76457       0.000000          b'1'           28.0           45.0   \n",
       "2  40666       0.000000          b'1'           25.0           45.0   \n",
       "3   8329       0.000000          b'1'           14.0           59.0   \n",
       "4  68389    2026.342452          b'1'            1.0           67.0   \n",
       "5  45732    3546.099291          b'1'           15.0           70.0   \n",
       "6  64416     557.244174          b'1'           24.0           71.0   \n",
       "7  11459       0.000000          b'0'           30.0           45.0   \n",
       "8  35742     506.585613          b'0'            9.0           50.0   \n",
       "9  53185     759.878419          b'1'           23.0           58.0   \n",
       "\n",
       "   categoria1  categoria2  \n",
       "0         2.0         9.0  \n",
       "1         1.0         4.0  \n",
       "2         1.0         9.0  \n",
       "3         3.0         3.0  \n",
       "4         2.0         9.0  \n",
       "5         1.0         9.0  \n",
       "6         3.0         9.0  \n",
       "7         1.0         6.0  \n",
       "8         3.0         3.0  \n",
       "9         1.0         9.0  "
      ]
     },
     "execution_count": 46,
     "metadata": {},
     "output_type": "execute_result"
    }
   ],
   "source": [
    "df_interna.head(10)"
   ]
  },
  {
   "cell_type": "code",
   "execution_count": 65,
   "metadata": {},
   "outputs": [
    {
     "data": {
      "text/html": [
       "<div>\n",
       "<style scoped>\n",
       "    .dataframe tbody tr th:only-of-type {\n",
       "        vertical-align: middle;\n",
       "    }\n",
       "\n",
       "    .dataframe tbody tr th {\n",
       "        vertical-align: top;\n",
       "    }\n",
       "\n",
       "    .dataframe thead th {\n",
       "        text-align: right;\n",
       "    }\n",
       "</style>\n",
       "<table border=\"1\" class=\"dataframe\">\n",
       "  <thead>\n",
       "    <tr style=\"text-align: right;\">\n",
       "      <th></th>\n",
       "      <th>_id_</th>\n",
       "      <th>comp_interno1</th>\n",
       "      <th>comp_interno2</th>\n",
       "      <th>comp_interno3</th>\n",
       "      <th>comp_interno4</th>\n",
       "      <th>categoria1</th>\n",
       "      <th>categoria2</th>\n",
       "      <th>comp_externo1</th>\n",
       "      <th>comp_externo2</th>\n",
       "      <th>comp_externo3</th>\n",
       "      <th>comp_externo4</th>\n",
       "    </tr>\n",
       "  </thead>\n",
       "  <tbody>\n",
       "    <tr>\n",
       "      <th>0</th>\n",
       "      <td>78213</td>\n",
       "      <td>0.000000</td>\n",
       "      <td>b'0'</td>\n",
       "      <td>11.0</td>\n",
       "      <td>58.0</td>\n",
       "      <td>2.0</td>\n",
       "      <td>9.0</td>\n",
       "      <td>260.869565</td>\n",
       "      <td>25.854639</td>\n",
       "      <td>56.0</td>\n",
       "      <td>-230</td>\n",
       "    </tr>\n",
       "    <tr>\n",
       "      <th>1</th>\n",
       "      <td>76457</td>\n",
       "      <td>0.000000</td>\n",
       "      <td>b'1'</td>\n",
       "      <td>28.0</td>\n",
       "      <td>45.0</td>\n",
       "      <td>1.0</td>\n",
       "      <td>4.0</td>\n",
       "      <td>40.579710</td>\n",
       "      <td>2.872738</td>\n",
       "      <td>62.0</td>\n",
       "      <td>-230</td>\n",
       "    </tr>\n",
       "    <tr>\n",
       "      <th>2</th>\n",
       "      <td>40666</td>\n",
       "      <td>0.000000</td>\n",
       "      <td>b'1'</td>\n",
       "      <td>25.0</td>\n",
       "      <td>45.0</td>\n",
       "      <td>1.0</td>\n",
       "      <td>9.0</td>\n",
       "      <td>NaN</td>\n",
       "      <td>NaN</td>\n",
       "      <td>119.0</td>\n",
       "      <td>-230</td>\n",
       "    </tr>\n",
       "    <tr>\n",
       "      <th>3</th>\n",
       "      <td>8329</td>\n",
       "      <td>0.000000</td>\n",
       "      <td>b'1'</td>\n",
       "      <td>14.0</td>\n",
       "      <td>59.0</td>\n",
       "      <td>3.0</td>\n",
       "      <td>3.0</td>\n",
       "      <td>349.275362</td>\n",
       "      <td>34.616490</td>\n",
       "      <td>94.0</td>\n",
       "      <td>-230</td>\n",
       "    </tr>\n",
       "    <tr>\n",
       "      <th>4</th>\n",
       "      <td>68389</td>\n",
       "      <td>2026.342452</td>\n",
       "      <td>b'1'</td>\n",
       "      <td>1.0</td>\n",
       "      <td>67.0</td>\n",
       "      <td>2.0</td>\n",
       "      <td>9.0</td>\n",
       "      <td>276.811594</td>\n",
       "      <td>27.434645</td>\n",
       "      <td>125.0</td>\n",
       "      <td>-230</td>\n",
       "    </tr>\n",
       "    <tr>\n",
       "      <th>5</th>\n",
       "      <td>45732</td>\n",
       "      <td>3546.099291</td>\n",
       "      <td>b'1'</td>\n",
       "      <td>15.0</td>\n",
       "      <td>70.0</td>\n",
       "      <td>1.0</td>\n",
       "      <td>9.0</td>\n",
       "      <td>640.579710</td>\n",
       "      <td>63.487504</td>\n",
       "      <td>81.0</td>\n",
       "      <td>-230</td>\n",
       "    </tr>\n",
       "    <tr>\n",
       "      <th>6</th>\n",
       "      <td>64416</td>\n",
       "      <td>557.244174</td>\n",
       "      <td>b'1'</td>\n",
       "      <td>24.0</td>\n",
       "      <td>71.0</td>\n",
       "      <td>3.0</td>\n",
       "      <td>9.0</td>\n",
       "      <td>NaN</td>\n",
       "      <td>NaN</td>\n",
       "      <td>-608.0</td>\n",
       "      <td>-2147483648</td>\n",
       "    </tr>\n",
       "    <tr>\n",
       "      <th>7</th>\n",
       "      <td>11459</td>\n",
       "      <td>0.000000</td>\n",
       "      <td>b'0'</td>\n",
       "      <td>30.0</td>\n",
       "      <td>45.0</td>\n",
       "      <td>1.0</td>\n",
       "      <td>6.0</td>\n",
       "      <td>92.753623</td>\n",
       "      <td>NaN</td>\n",
       "      <td>128.0</td>\n",
       "      <td>-230</td>\n",
       "    </tr>\n",
       "    <tr>\n",
       "      <th>8</th>\n",
       "      <td>35742</td>\n",
       "      <td>506.585613</td>\n",
       "      <td>b'0'</td>\n",
       "      <td>9.0</td>\n",
       "      <td>50.0</td>\n",
       "      <td>3.0</td>\n",
       "      <td>3.0</td>\n",
       "      <td>217.391304</td>\n",
       "      <td>21.545533</td>\n",
       "      <td>114.0</td>\n",
       "      <td>-230</td>\n",
       "    </tr>\n",
       "    <tr>\n",
       "      <th>9</th>\n",
       "      <td>53185</td>\n",
       "      <td>759.878419</td>\n",
       "      <td>b'1'</td>\n",
       "      <td>23.0</td>\n",
       "      <td>58.0</td>\n",
       "      <td>1.0</td>\n",
       "      <td>9.0</td>\n",
       "      <td>200.000000</td>\n",
       "      <td>19.821890</td>\n",
       "      <td>109.0</td>\n",
       "      <td>-230</td>\n",
       "    </tr>\n",
       "  </tbody>\n",
       "</table>\n",
       "</div>"
      ],
      "text/plain": [
       "    _id_  comp_interno1 comp_interno2  comp_interno3  comp_interno4  \\\n",
       "0  78213       0.000000          b'0'           11.0           58.0   \n",
       "1  76457       0.000000          b'1'           28.0           45.0   \n",
       "2  40666       0.000000          b'1'           25.0           45.0   \n",
       "3   8329       0.000000          b'1'           14.0           59.0   \n",
       "4  68389    2026.342452          b'1'            1.0           67.0   \n",
       "5  45732    3546.099291          b'1'           15.0           70.0   \n",
       "6  64416     557.244174          b'1'           24.0           71.0   \n",
       "7  11459       0.000000          b'0'           30.0           45.0   \n",
       "8  35742     506.585613          b'0'            9.0           50.0   \n",
       "9  53185     759.878419          b'1'           23.0           58.0   \n",
       "\n",
       "   categoria1  categoria2  comp_externo1  comp_externo2  comp_externo3  \\\n",
       "0         2.0         9.0     260.869565      25.854639           56.0   \n",
       "1         1.0         4.0      40.579710       2.872738           62.0   \n",
       "2         1.0         9.0            NaN            NaN          119.0   \n",
       "3         3.0         3.0     349.275362      34.616490           94.0   \n",
       "4         2.0         9.0     276.811594      27.434645          125.0   \n",
       "5         1.0         9.0     640.579710      63.487504           81.0   \n",
       "6         3.0         9.0            NaN            NaN         -608.0   \n",
       "7         1.0         6.0      92.753623            NaN          128.0   \n",
       "8         3.0         3.0     217.391304      21.545533          114.0   \n",
       "9         1.0         9.0     200.000000      19.821890          109.0   \n",
       "\n",
       "   comp_externo4  \n",
       "0           -230  \n",
       "1           -230  \n",
       "2           -230  \n",
       "3           -230  \n",
       "4           -230  \n",
       "5           -230  \n",
       "6    -2147483648  \n",
       "7           -230  \n",
       "8           -230  \n",
       "9           -230  "
      ]
     },
     "execution_count": 65,
     "metadata": {},
     "output_type": "execute_result"
    }
   ],
   "source": [
    "base_init=df_interna.merge(df_externa, on='_id_')\n",
    "base_init.head(10)"
   ]
  },
  {
   "cell_type": "code",
   "execution_count": 66,
   "metadata": {},
   "outputs": [],
   "source": [
    "base_init=base_init.drop(base_init['_id_'][base_init['comp_externo1'].isna()].index)\n",
    "base_init=base_init.drop(base_init['_id_'][base_init['comp_externo2'].isna()].index)"
   ]
  },
  {
   "cell_type": "code",
   "execution_count": 67,
   "metadata": {},
   "outputs": [
    {
     "name": "stderr",
     "output_type": "stream",
     "text": [
      "c:\\users\\tyler\\appdata\\local\\programs\\python\\python38\\lib\\site-packages\\pandas\\core\\frame.py:9186: FutureWarning: Passing 'suffixes' as a <class 'NoneType'>, is not supported and may give unexpected results. Provide 'suffixes' as a tuple instead. In the future a 'TypeError' will be raised.\n",
      "  return merge(\n"
     ]
    },
    {
     "data": {
      "text/html": [
       "<div>\n",
       "<style scoped>\n",
       "    .dataframe tbody tr th:only-of-type {\n",
       "        vertical-align: middle;\n",
       "    }\n",
       "\n",
       "    .dataframe tbody tr th {\n",
       "        vertical-align: top;\n",
       "    }\n",
       "\n",
       "    .dataframe thead th {\n",
       "        text-align: right;\n",
       "    }\n",
       "</style>\n",
       "<table border=\"1\" class=\"dataframe\">\n",
       "  <thead>\n",
       "    <tr style=\"text-align: right;\">\n",
       "      <th></th>\n",
       "      <th>_id_</th>\n",
       "      <th>comp_interno1</th>\n",
       "      <th>comp_interno2</th>\n",
       "      <th>comp_interno3</th>\n",
       "      <th>comp_interno4</th>\n",
       "      <th>categoria1</th>\n",
       "      <th>categoria2</th>\n",
       "      <th>comp_externo1</th>\n",
       "      <th>comp_externo2</th>\n",
       "      <th>comp_externo3</th>\n",
       "      <th>comp_externo4</th>\n",
       "      <th>comp_mixto1</th>\n",
       "    </tr>\n",
       "  </thead>\n",
       "  <tbody>\n",
       "    <tr>\n",
       "      <th>0</th>\n",
       "      <td>78213</td>\n",
       "      <td>0.000000</td>\n",
       "      <td>b'0'</td>\n",
       "      <td>11.0</td>\n",
       "      <td>58.0</td>\n",
       "      <td>2.0</td>\n",
       "      <td>9.0</td>\n",
       "      <td>260.869565</td>\n",
       "      <td>25.854639</td>\n",
       "      <td>56.0</td>\n",
       "      <td>-230</td>\n",
       "      <td>0.33522</td>\n",
       "    </tr>\n",
       "    <tr>\n",
       "      <th>1</th>\n",
       "      <td>76457</td>\n",
       "      <td>0.000000</td>\n",
       "      <td>b'1'</td>\n",
       "      <td>28.0</td>\n",
       "      <td>45.0</td>\n",
       "      <td>1.0</td>\n",
       "      <td>4.0</td>\n",
       "      <td>40.579710</td>\n",
       "      <td>2.872738</td>\n",
       "      <td>62.0</td>\n",
       "      <td>-230</td>\n",
       "      <td>0.33334</td>\n",
       "    </tr>\n",
       "    <tr>\n",
       "      <th>2</th>\n",
       "      <td>8329</td>\n",
       "      <td>0.000000</td>\n",
       "      <td>b'1'</td>\n",
       "      <td>14.0</td>\n",
       "      <td>59.0</td>\n",
       "      <td>3.0</td>\n",
       "      <td>3.0</td>\n",
       "      <td>349.275362</td>\n",
       "      <td>34.616490</td>\n",
       "      <td>94.0</td>\n",
       "      <td>-230</td>\n",
       "      <td>0.29112</td>\n",
       "    </tr>\n",
       "    <tr>\n",
       "      <th>3</th>\n",
       "      <td>68389</td>\n",
       "      <td>2026.342452</td>\n",
       "      <td>b'1'</td>\n",
       "      <td>1.0</td>\n",
       "      <td>67.0</td>\n",
       "      <td>2.0</td>\n",
       "      <td>9.0</td>\n",
       "      <td>276.811594</td>\n",
       "      <td>27.434645</td>\n",
       "      <td>125.0</td>\n",
       "      <td>-230</td>\n",
       "      <td>0.27318</td>\n",
       "    </tr>\n",
       "    <tr>\n",
       "      <th>4</th>\n",
       "      <td>45732</td>\n",
       "      <td>3546.099291</td>\n",
       "      <td>b'1'</td>\n",
       "      <td>15.0</td>\n",
       "      <td>70.0</td>\n",
       "      <td>1.0</td>\n",
       "      <td>9.0</td>\n",
       "      <td>640.579710</td>\n",
       "      <td>63.487504</td>\n",
       "      <td>81.0</td>\n",
       "      <td>-230</td>\n",
       "      <td>0.32988</td>\n",
       "    </tr>\n",
       "    <tr>\n",
       "      <th>...</th>\n",
       "      <td>...</td>\n",
       "      <td>...</td>\n",
       "      <td>...</td>\n",
       "      <td>...</td>\n",
       "      <td>...</td>\n",
       "      <td>...</td>\n",
       "      <td>...</td>\n",
       "      <td>...</td>\n",
       "      <td>...</td>\n",
       "      <td>...</td>\n",
       "      <td>...</td>\n",
       "      <td>...</td>\n",
       "    </tr>\n",
       "    <tr>\n",
       "      <th>44401</th>\n",
       "      <td>78795</td>\n",
       "      <td>0.000000</td>\n",
       "      <td>b'1'</td>\n",
       "      <td>2.0</td>\n",
       "      <td>50.0</td>\n",
       "      <td>2.0</td>\n",
       "      <td>6.0</td>\n",
       "      <td>140.579710</td>\n",
       "      <td>13.932778</td>\n",
       "      <td>95.0</td>\n",
       "      <td>-230</td>\n",
       "      <td>0.34318</td>\n",
       "    </tr>\n",
       "    <tr>\n",
       "      <th>44402</th>\n",
       "      <td>9126</td>\n",
       "      <td>1215.805471</td>\n",
       "      <td>b'1'</td>\n",
       "      <td>30.0</td>\n",
       "      <td>70.0</td>\n",
       "      <td>3.0</td>\n",
       "      <td>4.0</td>\n",
       "      <td>188.405797</td>\n",
       "      <td>9.652399</td>\n",
       "      <td>114.0</td>\n",
       "      <td>-230</td>\n",
       "      <td>0.38000</td>\n",
       "    </tr>\n",
       "    <tr>\n",
       "      <th>44403</th>\n",
       "      <td>44847</td>\n",
       "      <td>0.000000</td>\n",
       "      <td>b'1'</td>\n",
       "      <td>3.0</td>\n",
       "      <td>58.0</td>\n",
       "      <td>2.0</td>\n",
       "      <td>9.0</td>\n",
       "      <td>434.782609</td>\n",
       "      <td>33.323758</td>\n",
       "      <td>124.0</td>\n",
       "      <td>-230</td>\n",
       "      <td>0.34000</td>\n",
       "    </tr>\n",
       "    <tr>\n",
       "      <th>44404</th>\n",
       "      <td>87200</td>\n",
       "      <td>0.000000</td>\n",
       "      <td>b'1'</td>\n",
       "      <td>19.0</td>\n",
       "      <td>59.0</td>\n",
       "      <td>3.0</td>\n",
       "      <td>4.0</td>\n",
       "      <td>919.130435</td>\n",
       "      <td>57.454754</td>\n",
       "      <td>108.0</td>\n",
       "      <td>-230</td>\n",
       "      <td>0.26984</td>\n",
       "    </tr>\n",
       "    <tr>\n",
       "      <th>44405</th>\n",
       "      <td>55083</td>\n",
       "      <td>1013.171226</td>\n",
       "      <td>b'0'</td>\n",
       "      <td>3.0</td>\n",
       "      <td>55.0</td>\n",
       "      <td>1.0</td>\n",
       "      <td>9.0</td>\n",
       "      <td>217.391304</td>\n",
       "      <td>18.385521</td>\n",
       "      <td>-40.0</td>\n",
       "      <td>-230</td>\n",
       "      <td>0.37000</td>\n",
       "    </tr>\n",
       "  </tbody>\n",
       "</table>\n",
       "<p>44406 rows × 12 columns</p>\n",
       "</div>"
      ],
      "text/plain": [
       "        _id_  comp_interno1 comp_interno2  comp_interno3  comp_interno4  \\\n",
       "0      78213       0.000000          b'0'           11.0           58.0   \n",
       "1      76457       0.000000          b'1'           28.0           45.0   \n",
       "2       8329       0.000000          b'1'           14.0           59.0   \n",
       "3      68389    2026.342452          b'1'            1.0           67.0   \n",
       "4      45732    3546.099291          b'1'           15.0           70.0   \n",
       "...      ...            ...           ...            ...            ...   \n",
       "44401  78795       0.000000          b'1'            2.0           50.0   \n",
       "44402   9126    1215.805471          b'1'           30.0           70.0   \n",
       "44403  44847       0.000000          b'1'            3.0           58.0   \n",
       "44404  87200       0.000000          b'1'           19.0           59.0   \n",
       "44405  55083    1013.171226          b'0'            3.0           55.0   \n",
       "\n",
       "       categoria1  categoria2  comp_externo1  comp_externo2  comp_externo3  \\\n",
       "0             2.0         9.0     260.869565      25.854639           56.0   \n",
       "1             1.0         4.0      40.579710       2.872738           62.0   \n",
       "2             3.0         3.0     349.275362      34.616490           94.0   \n",
       "3             2.0         9.0     276.811594      27.434645          125.0   \n",
       "4             1.0         9.0     640.579710      63.487504           81.0   \n",
       "...           ...         ...            ...            ...            ...   \n",
       "44401         2.0         6.0     140.579710      13.932778           95.0   \n",
       "44402         3.0         4.0     188.405797       9.652399          114.0   \n",
       "44403         2.0         9.0     434.782609      33.323758          124.0   \n",
       "44404         3.0         4.0     919.130435      57.454754          108.0   \n",
       "44405         1.0         9.0     217.391304      18.385521          -40.0   \n",
       "\n",
       "       comp_externo4  comp_mixto1  \n",
       "0               -230      0.33522  \n",
       "1               -230      0.33334  \n",
       "2               -230      0.29112  \n",
       "3               -230      0.27318  \n",
       "4               -230      0.32988  \n",
       "...              ...          ...  \n",
       "44401           -230      0.34318  \n",
       "44402           -230      0.38000  \n",
       "44403           -230      0.34000  \n",
       "44404           -230      0.26984  \n",
       "44405           -230      0.37000  \n",
       "\n",
       "[44406 rows x 12 columns]"
      ]
     },
     "execution_count": 67,
     "metadata": {},
     "output_type": "execute_result"
    }
   ],
   "source": [
    "base_init=base_init.merge(df_parte1, on='_id_', how='left', suffixes=(None))\n",
    "len(base_init)\n",
    "base_init"
   ]
  },
  {
   "cell_type": "markdown",
   "metadata": {},
   "source": [
    "## Base_comportamiento.\n",
    "\n",
    "Se trata de una base que almacena el comportamiento en los pagos de los créditos de cada cliente.\n",
    "\n",
    "Se distribuye en 2 bases: 'base_comportamiento_2.txt' y 'base_comportamiento_3.csv'\n",
    "\n",
    "Las variables son: \n",
    "\n",
    "1. num_caso\n",
    "2. mes_informacion \n",
    "3. comportamiento_j.  El numero de pagos pendientes de un credito en un determinado mes.\n",
    "4. Tiempo_aparicion. El tiempo de vida en meses de un credito, a un determinado mes. "
   ]
  },
  {
   "cell_type": "code",
   "execution_count": 68,
   "metadata": {},
   "outputs": [],
   "source": [
    "#'base_comportamiento_2.txt'\n",
    "#'base_comportamiento_3.csv'\n",
    "\n",
    "df_comp_2=pd.read_csv('base_comportamiento_2.txt', sep=\" \")\n",
    "df_comp_3=pd.read_csv('base_comportamiento_3.csv')"
   ]
  },
  {
   "cell_type": "code",
   "execution_count": 51,
   "metadata": {},
   "outputs": [
    {
     "data": {
      "text/html": [
       "<div>\n",
       "<style scoped>\n",
       "    .dataframe tbody tr th:only-of-type {\n",
       "        vertical-align: middle;\n",
       "    }\n",
       "\n",
       "    .dataframe tbody tr th {\n",
       "        vertical-align: top;\n",
       "    }\n",
       "\n",
       "    .dataframe thead th {\n",
       "        text-align: right;\n",
       "    }\n",
       "</style>\n",
       "<table border=\"1\" class=\"dataframe\">\n",
       "  <thead>\n",
       "    <tr style=\"text-align: right;\">\n",
       "      <th></th>\n",
       "      <th>num_caso</th>\n",
       "      <th>mes_informacion</th>\n",
       "      <th>Tiempo_aparicion</th>\n",
       "    </tr>\n",
       "  </thead>\n",
       "  <tbody>\n",
       "    <tr>\n",
       "      <th>0</th>\n",
       "      <td>1</td>\n",
       "      <td>2016-04-01 00:00:00</td>\n",
       "      <td>0.0</td>\n",
       "    </tr>\n",
       "    <tr>\n",
       "      <th>1</th>\n",
       "      <td>1</td>\n",
       "      <td>2016-05-01 00:00:00</td>\n",
       "      <td>1.0</td>\n",
       "    </tr>\n",
       "    <tr>\n",
       "      <th>2</th>\n",
       "      <td>1</td>\n",
       "      <td>2016-06-01 00:00:00</td>\n",
       "      <td>2.0</td>\n",
       "    </tr>\n",
       "    <tr>\n",
       "      <th>3</th>\n",
       "      <td>1</td>\n",
       "      <td>2016-07-01 00:00:00</td>\n",
       "      <td>3.0</td>\n",
       "    </tr>\n",
       "    <tr>\n",
       "      <th>4</th>\n",
       "      <td>1</td>\n",
       "      <td>2016-08-01 00:00:00</td>\n",
       "      <td>4.0</td>\n",
       "    </tr>\n",
       "    <tr>\n",
       "      <th>5</th>\n",
       "      <td>1</td>\n",
       "      <td>2016-09-01 00:00:00</td>\n",
       "      <td>5.0</td>\n",
       "    </tr>\n",
       "    <tr>\n",
       "      <th>6</th>\n",
       "      <td>1</td>\n",
       "      <td>2016-10-01 00:00:00</td>\n",
       "      <td>6.0</td>\n",
       "    </tr>\n",
       "    <tr>\n",
       "      <th>7</th>\n",
       "      <td>1</td>\n",
       "      <td>2016-11-01 00:00:00</td>\n",
       "      <td>7.0</td>\n",
       "    </tr>\n",
       "    <tr>\n",
       "      <th>8</th>\n",
       "      <td>1</td>\n",
       "      <td>2016-12-01 00:00:00</td>\n",
       "      <td>8.0</td>\n",
       "    </tr>\n",
       "    <tr>\n",
       "      <th>9</th>\n",
       "      <td>1</td>\n",
       "      <td>2017-01-01 00:00:00</td>\n",
       "      <td>9.0</td>\n",
       "    </tr>\n",
       "  </tbody>\n",
       "</table>\n",
       "</div>"
      ],
      "text/plain": [
       "   num_caso      mes_informacion  Tiempo_aparicion\n",
       "0         1  2016-04-01 00:00:00               0.0\n",
       "1         1  2016-05-01 00:00:00               1.0\n",
       "2         1  2016-06-01 00:00:00               2.0\n",
       "3         1  2016-07-01 00:00:00               3.0\n",
       "4         1  2016-08-01 00:00:00               4.0\n",
       "5         1  2016-09-01 00:00:00               5.0\n",
       "6         1  2016-10-01 00:00:00               6.0\n",
       "7         1  2016-11-01 00:00:00               7.0\n",
       "8         1  2016-12-01 00:00:00               8.0\n",
       "9         1  2017-01-01 00:00:00               9.0"
      ]
     },
     "execution_count": 51,
     "metadata": {},
     "output_type": "execute_result"
    }
   ],
   "source": [
    "df_comp_2.head(10)"
   ]
  },
  {
   "cell_type": "code",
   "execution_count": 53,
   "metadata": {},
   "outputs": [
    {
     "data": {
      "text/html": [
       "<div>\n",
       "<style scoped>\n",
       "    .dataframe tbody tr th:only-of-type {\n",
       "        vertical-align: middle;\n",
       "    }\n",
       "\n",
       "    .dataframe tbody tr th {\n",
       "        vertical-align: top;\n",
       "    }\n",
       "\n",
       "    .dataframe thead th {\n",
       "        text-align: right;\n",
       "    }\n",
       "</style>\n",
       "<table border=\"1\" class=\"dataframe\">\n",
       "  <thead>\n",
       "    <tr style=\"text-align: right;\">\n",
       "      <th></th>\n",
       "      <th>num_caso</th>\n",
       "      <th>mes_informacion</th>\n",
       "      <th>comportamiento_j</th>\n",
       "    </tr>\n",
       "  </thead>\n",
       "  <tbody>\n",
       "    <tr>\n",
       "      <th>0</th>\n",
       "      <td>1</td>\n",
       "      <td>2016-04-01 00:00:00</td>\n",
       "      <td>0.0</td>\n",
       "    </tr>\n",
       "    <tr>\n",
       "      <th>1</th>\n",
       "      <td>1</td>\n",
       "      <td>2016-05-01 00:00:00</td>\n",
       "      <td>0.0</td>\n",
       "    </tr>\n",
       "    <tr>\n",
       "      <th>2</th>\n",
       "      <td>1</td>\n",
       "      <td>2016-06-01 00:00:00</td>\n",
       "      <td>0.0</td>\n",
       "    </tr>\n",
       "    <tr>\n",
       "      <th>3</th>\n",
       "      <td>1</td>\n",
       "      <td>2016-07-01 00:00:00</td>\n",
       "      <td>0.0</td>\n",
       "    </tr>\n",
       "    <tr>\n",
       "      <th>4</th>\n",
       "      <td>1</td>\n",
       "      <td>2016-08-01 00:00:00</td>\n",
       "      <td>0.0</td>\n",
       "    </tr>\n",
       "    <tr>\n",
       "      <th>5</th>\n",
       "      <td>1</td>\n",
       "      <td>2016-09-01 00:00:00</td>\n",
       "      <td>0.0</td>\n",
       "    </tr>\n",
       "    <tr>\n",
       "      <th>6</th>\n",
       "      <td>1</td>\n",
       "      <td>2016-10-01 00:00:00</td>\n",
       "      <td>0.0</td>\n",
       "    </tr>\n",
       "    <tr>\n",
       "      <th>7</th>\n",
       "      <td>1</td>\n",
       "      <td>2016-11-01 00:00:00</td>\n",
       "      <td>0.0</td>\n",
       "    </tr>\n",
       "    <tr>\n",
       "      <th>8</th>\n",
       "      <td>1</td>\n",
       "      <td>2016-12-01 00:00:00</td>\n",
       "      <td>0.0</td>\n",
       "    </tr>\n",
       "    <tr>\n",
       "      <th>9</th>\n",
       "      <td>1</td>\n",
       "      <td>2017-01-01 00:00:00</td>\n",
       "      <td>1.0</td>\n",
       "    </tr>\n",
       "  </tbody>\n",
       "</table>\n",
       "</div>"
      ],
      "text/plain": [
       "   num_caso      mes_informacion  comportamiento_j\n",
       "0         1  2016-04-01 00:00:00               0.0\n",
       "1         1  2016-05-01 00:00:00               0.0\n",
       "2         1  2016-06-01 00:00:00               0.0\n",
       "3         1  2016-07-01 00:00:00               0.0\n",
       "4         1  2016-08-01 00:00:00               0.0\n",
       "5         1  2016-09-01 00:00:00               0.0\n",
       "6         1  2016-10-01 00:00:00               0.0\n",
       "7         1  2016-11-01 00:00:00               0.0\n",
       "8         1  2016-12-01 00:00:00               0.0\n",
       "9         1  2017-01-01 00:00:00               1.0"
      ]
     },
     "execution_count": 53,
     "metadata": {},
     "output_type": "execute_result"
    }
   ],
   "source": [
    "df_comp_3.head(10)"
   ]
  },
  {
   "cell_type": "markdown",
   "metadata": {},
   "source": [
    "Notamos que tenemos 49,352 casos. En la base_init hay 50,000 registros. Esto implica que hay 648 clientes que no tienen historial crediticio registrado:"
   ]
  },
  {
   "cell_type": "code",
   "execution_count": 69,
   "metadata": {},
   "outputs": [
    {
     "data": {
      "text/plain": [
       "49352"
      ]
     },
     "execution_count": 69,
     "metadata": {},
     "output_type": "execute_result"
    }
   ],
   "source": [
    "len(df_comp_2['num_caso'].unique())"
   ]
  },
  {
   "cell_type": "markdown",
   "metadata": {},
   "source": [
    "La distribucion del numero de pagos vencidos que se obtiene de la columna 'comportamiento_j' muestra que a 3 decimales, la cantidad de clientes que alguna vez tuvieron un credito con más de 9 pagos vencidos es 0%:"
   ]
  },
  {
   "cell_type": "code",
   "execution_count": 55,
   "metadata": {},
   "outputs": [
    {
     "data": {
      "text/plain": [
       "0.0       88.46000000000001%\n",
       "1.0                    9.75%\n",
       "2.0                     0.8%\n",
       "3.0                    0.43%\n",
       "4.0                    0.16%\n",
       "5.0                    0.11%\n",
       "6.0                    0.09%\n",
       "7.0     0.06999999999999999%\n",
       "8.0     0.06999999999999999%\n",
       "9.0                    0.06%\n",
       "10.0                    0.0%\n",
       "12.0                    0.0%\n",
       "11.0                    0.0%\n",
       "13.0                    0.0%\n",
       "18.0                    0.0%\n",
       "16.0                    0.0%\n",
       "14.0                    0.0%\n",
       "15.0                    0.0%\n",
       "Name: comportamiento_j, dtype: object"
      ]
     },
     "execution_count": 55,
     "metadata": {},
     "output_type": "execute_result"
    }
   ],
   "source": [
    "(100*df_comp_3['comportamiento_j'].value_counts(normalize=True).round(4)).astype(str)+\"%\""
   ]
  },
  {
   "cell_type": "markdown",
   "metadata": {},
   "source": [
    "Con base a esto, este banco decide clasificar como clientes aptos para un prestamo a aquellos cuyo máximo de pagos vencidos sea 6. Es decir, clasifica como 1 a estos, y 0 a todos los demas. Con esto, le prestaríamos al 98% de nuestra cartera actual:"
   ]
  },
  {
   "cell_type": "code",
   "execution_count": 56,
   "metadata": {},
   "outputs": [
    {
     "data": {
      "text/plain": [
       "0.020971794456151726"
      ]
     },
     "execution_count": 56,
     "metadata": {},
     "output_type": "execute_result"
    }
   ],
   "source": [
    "len(df_comp_3['num_caso'][df_comp_3['comportamiento_j']>6].value_counts())/len(df_comp_2['num_caso'].unique())"
   ]
  },
  {
   "cell_type": "code",
   "execution_count": 70,
   "metadata": {},
   "outputs": [
    {
     "data": {
      "text/html": [
       "<div>\n",
       "<style scoped>\n",
       "    .dataframe tbody tr th:only-of-type {\n",
       "        vertical-align: middle;\n",
       "    }\n",
       "\n",
       "    .dataframe tbody tr th {\n",
       "        vertical-align: top;\n",
       "    }\n",
       "\n",
       "    .dataframe thead th {\n",
       "        text-align: right;\n",
       "    }\n",
       "</style>\n",
       "<table border=\"1\" class=\"dataframe\">\n",
       "  <thead>\n",
       "    <tr style=\"text-align: right;\">\n",
       "      <th></th>\n",
       "      <th>num_caso</th>\n",
       "      <th>credito_1si_0no</th>\n",
       "    </tr>\n",
       "  </thead>\n",
       "  <tbody>\n",
       "    <tr>\n",
       "      <th>0</th>\n",
       "      <td>1</td>\n",
       "      <td>1</td>\n",
       "    </tr>\n",
       "    <tr>\n",
       "      <th>1</th>\n",
       "      <td>7</td>\n",
       "      <td>1</td>\n",
       "    </tr>\n",
       "    <tr>\n",
       "      <th>2</th>\n",
       "      <td>8</td>\n",
       "      <td>1</td>\n",
       "    </tr>\n",
       "    <tr>\n",
       "      <th>3</th>\n",
       "      <td>9</td>\n",
       "      <td>1</td>\n",
       "    </tr>\n",
       "    <tr>\n",
       "      <th>4</th>\n",
       "      <td>10</td>\n",
       "      <td>1</td>\n",
       "    </tr>\n",
       "    <tr>\n",
       "      <th>5</th>\n",
       "      <td>14</td>\n",
       "      <td>1</td>\n",
       "    </tr>\n",
       "    <tr>\n",
       "      <th>6</th>\n",
       "      <td>18</td>\n",
       "      <td>1</td>\n",
       "    </tr>\n",
       "    <tr>\n",
       "      <th>7</th>\n",
       "      <td>21</td>\n",
       "      <td>1</td>\n",
       "    </tr>\n",
       "    <tr>\n",
       "      <th>8</th>\n",
       "      <td>22</td>\n",
       "      <td>1</td>\n",
       "    </tr>\n",
       "    <tr>\n",
       "      <th>9</th>\n",
       "      <td>24</td>\n",
       "      <td>1</td>\n",
       "    </tr>\n",
       "  </tbody>\n",
       "</table>\n",
       "</div>"
      ],
      "text/plain": [
       "   num_caso  credito_1si_0no\n",
       "0         1                1\n",
       "1         7                1\n",
       "2         8                1\n",
       "3         9                1\n",
       "4        10                1\n",
       "5        14                1\n",
       "6        18                1\n",
       "7        21                1\n",
       "8        22                1\n",
       "9        24                1"
      ]
     },
     "execution_count": 70,
     "metadata": {},
     "output_type": "execute_result"
    }
   ],
   "source": [
    "d = {'num_caso': df_comp_3['num_caso'].unique().tolist(), 'credito_1si_0no': [1] * len(df_comp_3['num_caso'].unique())}\n",
    "df_clasif = pd.DataFrame(data=d)\n",
    "df_clasif.head(10)"
   ]
  },
  {
   "cell_type": "code",
   "execution_count": 71,
   "metadata": {},
   "outputs": [
    {
     "data": {
      "text/html": [
       "<div>\n",
       "<style scoped>\n",
       "    .dataframe tbody tr th:only-of-type {\n",
       "        vertical-align: middle;\n",
       "    }\n",
       "\n",
       "    .dataframe tbody tr th {\n",
       "        vertical-align: top;\n",
       "    }\n",
       "\n",
       "    .dataframe thead th {\n",
       "        text-align: right;\n",
       "    }\n",
       "</style>\n",
       "<table border=\"1\" class=\"dataframe\">\n",
       "  <thead>\n",
       "    <tr style=\"text-align: right;\">\n",
       "      <th></th>\n",
       "      <th>num_caso</th>\n",
       "      <th>credito_1si_0no</th>\n",
       "    </tr>\n",
       "  </thead>\n",
       "  <tbody>\n",
       "    <tr>\n",
       "      <th>966</th>\n",
       "      <td>1943</td>\n",
       "      <td>1</td>\n",
       "    </tr>\n",
       "    <tr>\n",
       "      <th>967</th>\n",
       "      <td>1953</td>\n",
       "      <td>1</td>\n",
       "    </tr>\n",
       "    <tr>\n",
       "      <th>968</th>\n",
       "      <td>1958</td>\n",
       "      <td>0</td>\n",
       "    </tr>\n",
       "    <tr>\n",
       "      <th>969</th>\n",
       "      <td>1960</td>\n",
       "      <td>1</td>\n",
       "    </tr>\n",
       "    <tr>\n",
       "      <th>970</th>\n",
       "      <td>1962</td>\n",
       "      <td>1</td>\n",
       "    </tr>\n",
       "    <tr>\n",
       "      <th>971</th>\n",
       "      <td>1964</td>\n",
       "      <td>1</td>\n",
       "    </tr>\n",
       "    <tr>\n",
       "      <th>972</th>\n",
       "      <td>1965</td>\n",
       "      <td>1</td>\n",
       "    </tr>\n",
       "    <tr>\n",
       "      <th>973</th>\n",
       "      <td>1966</td>\n",
       "      <td>1</td>\n",
       "    </tr>\n",
       "    <tr>\n",
       "      <th>974</th>\n",
       "      <td>1967</td>\n",
       "      <td>1</td>\n",
       "    </tr>\n",
       "    <tr>\n",
       "      <th>975</th>\n",
       "      <td>1968</td>\n",
       "      <td>1</td>\n",
       "    </tr>\n",
       "    <tr>\n",
       "      <th>976</th>\n",
       "      <td>1970</td>\n",
       "      <td>1</td>\n",
       "    </tr>\n",
       "    <tr>\n",
       "      <th>977</th>\n",
       "      <td>1973</td>\n",
       "      <td>0</td>\n",
       "    </tr>\n",
       "    <tr>\n",
       "      <th>978</th>\n",
       "      <td>1976</td>\n",
       "      <td>1</td>\n",
       "    </tr>\n",
       "    <tr>\n",
       "      <th>979</th>\n",
       "      <td>1977</td>\n",
       "      <td>1</td>\n",
       "    </tr>\n",
       "    <tr>\n",
       "      <th>980</th>\n",
       "      <td>1979</td>\n",
       "      <td>1</td>\n",
       "    </tr>\n",
       "    <tr>\n",
       "      <th>981</th>\n",
       "      <td>1980</td>\n",
       "      <td>1</td>\n",
       "    </tr>\n",
       "    <tr>\n",
       "      <th>982</th>\n",
       "      <td>1983</td>\n",
       "      <td>1</td>\n",
       "    </tr>\n",
       "    <tr>\n",
       "      <th>983</th>\n",
       "      <td>1985</td>\n",
       "      <td>1</td>\n",
       "    </tr>\n",
       "    <tr>\n",
       "      <th>984</th>\n",
       "      <td>1986</td>\n",
       "      <td>1</td>\n",
       "    </tr>\n",
       "    <tr>\n",
       "      <th>985</th>\n",
       "      <td>1987</td>\n",
       "      <td>1</td>\n",
       "    </tr>\n",
       "    <tr>\n",
       "      <th>986</th>\n",
       "      <td>1989</td>\n",
       "      <td>1</td>\n",
       "    </tr>\n",
       "    <tr>\n",
       "      <th>987</th>\n",
       "      <td>1991</td>\n",
       "      <td>1</td>\n",
       "    </tr>\n",
       "    <tr>\n",
       "      <th>988</th>\n",
       "      <td>1992</td>\n",
       "      <td>1</td>\n",
       "    </tr>\n",
       "    <tr>\n",
       "      <th>989</th>\n",
       "      <td>1993</td>\n",
       "      <td>1</td>\n",
       "    </tr>\n",
       "    <tr>\n",
       "      <th>990</th>\n",
       "      <td>1994</td>\n",
       "      <td>1</td>\n",
       "    </tr>\n",
       "    <tr>\n",
       "      <th>991</th>\n",
       "      <td>1995</td>\n",
       "      <td>1</td>\n",
       "    </tr>\n",
       "    <tr>\n",
       "      <th>992</th>\n",
       "      <td>1997</td>\n",
       "      <td>1</td>\n",
       "    </tr>\n",
       "    <tr>\n",
       "      <th>993</th>\n",
       "      <td>1998</td>\n",
       "      <td>1</td>\n",
       "    </tr>\n",
       "    <tr>\n",
       "      <th>994</th>\n",
       "      <td>2001</td>\n",
       "      <td>1</td>\n",
       "    </tr>\n",
       "    <tr>\n",
       "      <th>995</th>\n",
       "      <td>2003</td>\n",
       "      <td>1</td>\n",
       "    </tr>\n",
       "    <tr>\n",
       "      <th>996</th>\n",
       "      <td>2005</td>\n",
       "      <td>1</td>\n",
       "    </tr>\n",
       "    <tr>\n",
       "      <th>997</th>\n",
       "      <td>2008</td>\n",
       "      <td>1</td>\n",
       "    </tr>\n",
       "    <tr>\n",
       "      <th>998</th>\n",
       "      <td>2010</td>\n",
       "      <td>1</td>\n",
       "    </tr>\n",
       "    <tr>\n",
       "      <th>999</th>\n",
       "      <td>2012</td>\n",
       "      <td>1</td>\n",
       "    </tr>\n",
       "  </tbody>\n",
       "</table>\n",
       "</div>"
      ],
      "text/plain": [
       "     num_caso  credito_1si_0no\n",
       "966      1943                1\n",
       "967      1953                1\n",
       "968      1958                0\n",
       "969      1960                1\n",
       "970      1962                1\n",
       "971      1964                1\n",
       "972      1965                1\n",
       "973      1966                1\n",
       "974      1967                1\n",
       "975      1968                1\n",
       "976      1970                1\n",
       "977      1973                0\n",
       "978      1976                1\n",
       "979      1977                1\n",
       "980      1979                1\n",
       "981      1980                1\n",
       "982      1983                1\n",
       "983      1985                1\n",
       "984      1986                1\n",
       "985      1987                1\n",
       "986      1989                1\n",
       "987      1991                1\n",
       "988      1992                1\n",
       "989      1993                1\n",
       "990      1994                1\n",
       "991      1995                1\n",
       "992      1997                1\n",
       "993      1998                1\n",
       "994      2001                1\n",
       "995      2003                1\n",
       "996      2005                1\n",
       "997      2008                1\n",
       "998      2010                1\n",
       "999      2012                1"
      ]
     },
     "execution_count": 71,
     "metadata": {},
     "output_type": "execute_result"
    }
   ],
   "source": [
    "df_clasif['credito_1si_0no'][df_clasif['num_caso'].isin(df_comp_3['num_caso'][df_comp_3['comportamiento_j']>6].unique())]=0\n",
    "\n",
    "df_clasif[966:1000]"
   ]
  },
  {
   "cell_type": "markdown",
   "metadata": {},
   "source": [
    "## Modelo de Regresion Logística.\n",
    "\n",
    "Se ajusta un modelo de regresion logistica a los datos seleccionados. Para esta parte, se usa el archivo \"T1_1.R\"\n",
    "\n",
    "porque es mas comodo para mi hacer el modelo en R. Aqui simplemente obtenemos la base final, y la importamos a un archivo\n",
    "\n",
    "base_final.csv :"
   ]
  },
  {
   "cell_type": "code",
   "execution_count": 72,
   "metadata": {},
   "outputs": [
    {
     "name": "stderr",
     "output_type": "stream",
     "text": [
      "c:\\users\\tyler\\appdata\\local\\programs\\python\\python38\\lib\\site-packages\\pandas\\core\\frame.py:9186: FutureWarning: Passing 'suffixes' as a <class 'NoneType'>, is not supported and may give unexpected results. Provide 'suffixes' as a tuple instead. In the future a 'TypeError' will be raised.\n",
      "  return merge(\n"
     ]
    }
   ],
   "source": [
    "df_clasif.rename(columns={'num_caso': '_id_'}, inplace=True)\n",
    "base_init=base_init.merge(df_clasif, on='_id_', suffixes=(None))\n",
    "base_init.to_csv(\"base_final.csv\")"
   ]
  },
  {
   "cell_type": "code",
   "execution_count": 59,
   "metadata": {},
   "outputs": [
    {
     "data": {
      "text/html": [
       "<div>\n",
       "<style scoped>\n",
       "    .dataframe tbody tr th:only-of-type {\n",
       "        vertical-align: middle;\n",
       "    }\n",
       "\n",
       "    .dataframe tbody tr th {\n",
       "        vertical-align: top;\n",
       "    }\n",
       "\n",
       "    .dataframe thead th {\n",
       "        text-align: right;\n",
       "    }\n",
       "</style>\n",
       "<table border=\"1\" class=\"dataframe\">\n",
       "  <thead>\n",
       "    <tr style=\"text-align: right;\">\n",
       "      <th></th>\n",
       "      <th>Unnamed: 0</th>\n",
       "      <th>_id_</th>\n",
       "      <th>comp_interno1</th>\n",
       "      <th>comp_interno2</th>\n",
       "      <th>comp_interno3</th>\n",
       "      <th>comp_interno4</th>\n",
       "      <th>categoria1</th>\n",
       "      <th>categoria2</th>\n",
       "      <th>comp_externo1</th>\n",
       "      <th>comp_externo2</th>\n",
       "      <th>comp_externo3</th>\n",
       "      <th>comp_externo4</th>\n",
       "      <th>comp_mixto1</th>\n",
       "      <th>credito_1si_0no</th>\n",
       "    </tr>\n",
       "  </thead>\n",
       "  <tbody>\n",
       "    <tr>\n",
       "      <th>0</th>\n",
       "      <td>0</td>\n",
       "      <td>78213</td>\n",
       "      <td>0.000000</td>\n",
       "      <td>b'0'</td>\n",
       "      <td>11.0</td>\n",
       "      <td>58.0</td>\n",
       "      <td>2.0</td>\n",
       "      <td>9.0</td>\n",
       "      <td>260.869565</td>\n",
       "      <td>25.854639</td>\n",
       "      <td>56.0</td>\n",
       "      <td>-230</td>\n",
       "      <td>0.33522</td>\n",
       "      <td>1</td>\n",
       "    </tr>\n",
       "    <tr>\n",
       "      <th>1</th>\n",
       "      <td>1</td>\n",
       "      <td>76457</td>\n",
       "      <td>0.000000</td>\n",
       "      <td>b'1'</td>\n",
       "      <td>28.0</td>\n",
       "      <td>45.0</td>\n",
       "      <td>1.0</td>\n",
       "      <td>4.0</td>\n",
       "      <td>40.579710</td>\n",
       "      <td>2.872738</td>\n",
       "      <td>62.0</td>\n",
       "      <td>-230</td>\n",
       "      <td>0.33334</td>\n",
       "      <td>1</td>\n",
       "    </tr>\n",
       "    <tr>\n",
       "      <th>2</th>\n",
       "      <td>2</td>\n",
       "      <td>8329</td>\n",
       "      <td>0.000000</td>\n",
       "      <td>b'1'</td>\n",
       "      <td>14.0</td>\n",
       "      <td>59.0</td>\n",
       "      <td>3.0</td>\n",
       "      <td>3.0</td>\n",
       "      <td>349.275362</td>\n",
       "      <td>34.616490</td>\n",
       "      <td>94.0</td>\n",
       "      <td>-230</td>\n",
       "      <td>0.29112</td>\n",
       "      <td>1</td>\n",
       "    </tr>\n",
       "    <tr>\n",
       "      <th>3</th>\n",
       "      <td>3</td>\n",
       "      <td>68389</td>\n",
       "      <td>2026.342452</td>\n",
       "      <td>b'1'</td>\n",
       "      <td>1.0</td>\n",
       "      <td>67.0</td>\n",
       "      <td>2.0</td>\n",
       "      <td>9.0</td>\n",
       "      <td>276.811594</td>\n",
       "      <td>27.434645</td>\n",
       "      <td>125.0</td>\n",
       "      <td>-230</td>\n",
       "      <td>0.27318</td>\n",
       "      <td>1</td>\n",
       "    </tr>\n",
       "    <tr>\n",
       "      <th>4</th>\n",
       "      <td>4</td>\n",
       "      <td>45732</td>\n",
       "      <td>3546.099291</td>\n",
       "      <td>b'1'</td>\n",
       "      <td>15.0</td>\n",
       "      <td>70.0</td>\n",
       "      <td>1.0</td>\n",
       "      <td>9.0</td>\n",
       "      <td>640.579710</td>\n",
       "      <td>63.487504</td>\n",
       "      <td>81.0</td>\n",
       "      <td>-230</td>\n",
       "      <td>0.32988</td>\n",
       "      <td>1</td>\n",
       "    </tr>\n",
       "    <tr>\n",
       "      <th>5</th>\n",
       "      <td>5</td>\n",
       "      <td>35742</td>\n",
       "      <td>506.585613</td>\n",
       "      <td>b'0'</td>\n",
       "      <td>9.0</td>\n",
       "      <td>50.0</td>\n",
       "      <td>3.0</td>\n",
       "      <td>3.0</td>\n",
       "      <td>217.391304</td>\n",
       "      <td>21.545533</td>\n",
       "      <td>114.0</td>\n",
       "      <td>-230</td>\n",
       "      <td>0.35514</td>\n",
       "      <td>1</td>\n",
       "    </tr>\n",
       "    <tr>\n",
       "      <th>6</th>\n",
       "      <td>6</td>\n",
       "      <td>53185</td>\n",
       "      <td>759.878419</td>\n",
       "      <td>b'1'</td>\n",
       "      <td>23.0</td>\n",
       "      <td>58.0</td>\n",
       "      <td>1.0</td>\n",
       "      <td>9.0</td>\n",
       "      <td>200.000000</td>\n",
       "      <td>19.821890</td>\n",
       "      <td>109.0</td>\n",
       "      <td>-230</td>\n",
       "      <td>0.37000</td>\n",
       "      <td>1</td>\n",
       "    </tr>\n",
       "    <tr>\n",
       "      <th>7</th>\n",
       "      <td>7</td>\n",
       "      <td>98701</td>\n",
       "      <td>0.000000</td>\n",
       "      <td>b'1'</td>\n",
       "      <td>19.0</td>\n",
       "      <td>50.0</td>\n",
       "      <td>3.0</td>\n",
       "      <td>9.0</td>\n",
       "      <td>558.840580</td>\n",
       "      <td>55.386383</td>\n",
       "      <td>125.0</td>\n",
       "      <td>-230</td>\n",
       "      <td>0.36508</td>\n",
       "      <td>1</td>\n",
       "    </tr>\n",
       "    <tr>\n",
       "      <th>8</th>\n",
       "      <td>8</td>\n",
       "      <td>82374</td>\n",
       "      <td>0.000000</td>\n",
       "      <td>b'1'</td>\n",
       "      <td>22.0</td>\n",
       "      <td>61.0</td>\n",
       "      <td>1.0</td>\n",
       "      <td>9.0</td>\n",
       "      <td>214.202899</td>\n",
       "      <td>21.229532</td>\n",
       "      <td>37.0</td>\n",
       "      <td>-230</td>\n",
       "      <td>0.31664</td>\n",
       "      <td>1</td>\n",
       "    </tr>\n",
       "    <tr>\n",
       "      <th>9</th>\n",
       "      <td>9</td>\n",
       "      <td>86932</td>\n",
       "      <td>2532.928065</td>\n",
       "      <td>b'1'</td>\n",
       "      <td>26.0</td>\n",
       "      <td>59.0</td>\n",
       "      <td>3.0</td>\n",
       "      <td>9.0</td>\n",
       "      <td>420.289855</td>\n",
       "      <td>41.654697</td>\n",
       "      <td>118.0</td>\n",
       "      <td>-230</td>\n",
       "      <td>0.33008</td>\n",
       "      <td>1</td>\n",
       "    </tr>\n",
       "  </tbody>\n",
       "</table>\n",
       "</div>"
      ],
      "text/plain": [
       "   Unnamed: 0   _id_  comp_interno1 comp_interno2  comp_interno3  \\\n",
       "0           0  78213       0.000000          b'0'           11.0   \n",
       "1           1  76457       0.000000          b'1'           28.0   \n",
       "2           2   8329       0.000000          b'1'           14.0   \n",
       "3           3  68389    2026.342452          b'1'            1.0   \n",
       "4           4  45732    3546.099291          b'1'           15.0   \n",
       "5           5  35742     506.585613          b'0'            9.0   \n",
       "6           6  53185     759.878419          b'1'           23.0   \n",
       "7           7  98701       0.000000          b'1'           19.0   \n",
       "8           8  82374       0.000000          b'1'           22.0   \n",
       "9           9  86932    2532.928065          b'1'           26.0   \n",
       "\n",
       "   comp_interno4  categoria1  categoria2  comp_externo1  comp_externo2  \\\n",
       "0           58.0         2.0         9.0     260.869565      25.854639   \n",
       "1           45.0         1.0         4.0      40.579710       2.872738   \n",
       "2           59.0         3.0         3.0     349.275362      34.616490   \n",
       "3           67.0         2.0         9.0     276.811594      27.434645   \n",
       "4           70.0         1.0         9.0     640.579710      63.487504   \n",
       "5           50.0         3.0         3.0     217.391304      21.545533   \n",
       "6           58.0         1.0         9.0     200.000000      19.821890   \n",
       "7           50.0         3.0         9.0     558.840580      55.386383   \n",
       "8           61.0         1.0         9.0     214.202899      21.229532   \n",
       "9           59.0         3.0         9.0     420.289855      41.654697   \n",
       "\n",
       "   comp_externo3  comp_externo4  comp_mixto1  credito_1si_0no  \n",
       "0           56.0           -230      0.33522                1  \n",
       "1           62.0           -230      0.33334                1  \n",
       "2           94.0           -230      0.29112                1  \n",
       "3          125.0           -230      0.27318                1  \n",
       "4           81.0           -230      0.32988                1  \n",
       "5          114.0           -230      0.35514                1  \n",
       "6          109.0           -230      0.37000                1  \n",
       "7          125.0           -230      0.36508                1  \n",
       "8           37.0           -230      0.31664                1  \n",
       "9          118.0           -230      0.33008                1  "
      ]
     },
     "execution_count": 59,
     "metadata": {},
     "output_type": "execute_result"
    }
   ],
   "source": [
    "pd.read_csv('base_final.csv').head(10)"
   ]
  },
  {
   "cell_type": "markdown",
   "metadata": {},
   "source": [
    "# Problema 2:\n",
    "\n",
    "De la base data_schools sacar obtener el error estándar con Bootstrap de las variables de la base. \n",
    "Recordemos que tienen que simular N Muestras Boostrap con tamño n. Luego, el otro ejercicio es que lo hagan con n-1."
   ]
  },
  {
   "cell_type": "code",
   "execution_count": 85,
   "metadata": {},
   "outputs": [
    {
     "data": {
      "text/html": [
       "<div>\n",
       "<style scoped>\n",
       "    .dataframe tbody tr th:only-of-type {\n",
       "        vertical-align: middle;\n",
       "    }\n",
       "\n",
       "    .dataframe tbody tr th {\n",
       "        vertical-align: top;\n",
       "    }\n",
       "\n",
       "    .dataframe thead th {\n",
       "        text-align: right;\n",
       "    }\n",
       "</style>\n",
       "<table border=\"1\" class=\"dataframe\">\n",
       "  <thead>\n",
       "    <tr style=\"text-align: right;\">\n",
       "      <th></th>\n",
       "      <th>escuela</th>\n",
       "      <th>LSAT</th>\n",
       "      <th>GPA</th>\n",
       "    </tr>\n",
       "  </thead>\n",
       "  <tbody>\n",
       "    <tr>\n",
       "      <th>0</th>\n",
       "      <td>1</td>\n",
       "      <td>622</td>\n",
       "      <td>3.23</td>\n",
       "    </tr>\n",
       "    <tr>\n",
       "      <th>1</th>\n",
       "      <td>2</td>\n",
       "      <td>542</td>\n",
       "      <td>2.83</td>\n",
       "    </tr>\n",
       "    <tr>\n",
       "      <th>2</th>\n",
       "      <td>3</td>\n",
       "      <td>579</td>\n",
       "      <td>3.24</td>\n",
       "    </tr>\n",
       "    <tr>\n",
       "      <th>3</th>\n",
       "      <td>4</td>\n",
       "      <td>653</td>\n",
       "      <td>3.12</td>\n",
       "    </tr>\n",
       "    <tr>\n",
       "      <th>4</th>\n",
       "      <td>5</td>\n",
       "      <td>606</td>\n",
       "      <td>3.09</td>\n",
       "    </tr>\n",
       "    <tr>\n",
       "      <th>5</th>\n",
       "      <td>6</td>\n",
       "      <td>576</td>\n",
       "      <td>3.39</td>\n",
       "    </tr>\n",
       "    <tr>\n",
       "      <th>6</th>\n",
       "      <td>7</td>\n",
       "      <td>620</td>\n",
       "      <td>3.10</td>\n",
       "    </tr>\n",
       "    <tr>\n",
       "      <th>7</th>\n",
       "      <td>8</td>\n",
       "      <td>615</td>\n",
       "      <td>3.40</td>\n",
       "    </tr>\n",
       "    <tr>\n",
       "      <th>8</th>\n",
       "      <td>9</td>\n",
       "      <td>553</td>\n",
       "      <td>2.97</td>\n",
       "    </tr>\n",
       "    <tr>\n",
       "      <th>9</th>\n",
       "      <td>10</td>\n",
       "      <td>607</td>\n",
       "      <td>2.91</td>\n",
       "    </tr>\n",
       "  </tbody>\n",
       "</table>\n",
       "</div>"
      ],
      "text/plain": [
       "   escuela  LSAT   GPA\n",
       "0        1   622  3.23\n",
       "1        2   542  2.83\n",
       "2        3   579  3.24\n",
       "3        4   653  3.12\n",
       "4        5   606  3.09\n",
       "5        6   576  3.39\n",
       "6        7   620  3.10\n",
       "7        8   615  3.40\n",
       "8        9   553  2.97\n",
       "9       10   607  2.91"
      ]
     },
     "execution_count": 85,
     "metadata": {},
     "output_type": "execute_result"
    }
   ],
   "source": [
    "import numpy as np\n",
    "import pandas as pd\n",
    "import matplotlib.pyplot as plt\n",
    "from pylab import*\n",
    "from scipy.stats import spearmanr\n",
    "import statistics\n",
    "#'data_schools.xlsx'\n",
    "schools=pd.read_excel('data_schools.xlsx')\n",
    "schools.head(10)"
   ]
  },
  {
   "cell_type": "code",
   "execution_count": 6,
   "metadata": {},
   "outputs": [],
   "source": [
    "#Dado una lista de numeros, esta funcion calcula su error estandar empirico.\n",
    "\n",
    "def error_estandar(arr):\n",
    "    media=mean(np.random.choice(arr,len(arr),replace=True))\n",
    "    arr=(arr-media)**2\n",
    "    varianza=sum(arr)/(len(arr)-1)\n",
    "    return varianza**(1/2)"
   ]
  },
  {
   "cell_type": "code",
   "execution_count": 80,
   "metadata": {},
   "outputs": [],
   "source": [
    "#Programamos una funcion que devuelve una lista de\n",
    "# N coeficientes de correlacion, tal que cada coeficiente corresponde a una \n",
    "# muestra aleatoria con reemplazo de tamanio m, extraida de un df con columnas \"escuela\", \"LSAT\", y \"GPA\".\n",
    "\n",
    "def f1(N, m, df):\n",
    "    #Guardamos las correlaciones en una lista:\n",
    "    correlaciones=[]\n",
    "    for i in range(N):\n",
    "        #Obtenemos una m.a. de tamanio m de 'df':\n",
    "        #NOTA: El metodo sample tiene el argumento random_state.\n",
    "        #Pero no es como en R, si fijas ese parametro, siempre va a muestrear las mismas\n",
    "        #escuelas para cada i.\n",
    "        df_random=df.sample(n=m, replace=True)[[\"escuela\"]]\n",
    "        df_random[\"f_seleccion\"]=1\n",
    "        df_random=pd.merge(df, df_random, how=\"left\", on=[\"escuela\"])\n",
    "        df_random[\"f_seleccion\"]=df_random[\"f_seleccion\"].fillna(0)\n",
    "        df_random[\"f_seleccion\"]=df_random[\"f_seleccion\"].astype(int)\n",
    "        #calculamos la correlacion de la muestra y la guardamos en la lista:\n",
    "        correlaciones.append(spearmanr(df_random[df_random[\"f_seleccion\"]==1].LSAT, df_random[df_random[\"f_seleccion\"]==1].GPA)[0])\n",
    "    \n",
    "    #una vez que la lista tiene N entradas llenas, se devuelve:\n",
    "    return correlaciones\n",
    "\n"
   ]
  },
  {
   "cell_type": "code",
   "execution_count": 79,
   "metadata": {},
   "outputs": [
    {
     "data": {
      "text/html": [
       "<div>\n",
       "<style scoped>\n",
       "    .dataframe tbody tr th:only-of-type {\n",
       "        vertical-align: middle;\n",
       "    }\n",
       "\n",
       "    .dataframe tbody tr th {\n",
       "        vertical-align: top;\n",
       "    }\n",
       "\n",
       "    .dataframe thead th {\n",
       "        text-align: right;\n",
       "    }\n",
       "</style>\n",
       "<table border=\"1\" class=\"dataframe\">\n",
       "  <thead>\n",
       "    <tr style=\"text-align: right;\">\n",
       "      <th></th>\n",
       "      <th>escuela</th>\n",
       "    </tr>\n",
       "  </thead>\n",
       "  <tbody>\n",
       "    <tr>\n",
       "      <th>37</th>\n",
       "      <td>38</td>\n",
       "    </tr>\n",
       "    <tr>\n",
       "      <th>12</th>\n",
       "      <td>13</td>\n",
       "    </tr>\n",
       "    <tr>\n",
       "      <th>72</th>\n",
       "      <td>73</td>\n",
       "    </tr>\n",
       "    <tr>\n",
       "      <th>9</th>\n",
       "      <td>10</td>\n",
       "    </tr>\n",
       "  </tbody>\n",
       "</table>\n",
       "</div>"
      ],
      "text/plain": [
       "    escuela\n",
       "37       38\n",
       "12       13\n",
       "72       73\n",
       "9        10"
      ]
     },
     "execution_count": 79,
     "metadata": {},
     "output_type": "execute_result"
    }
   ],
   "source": [
    "#Por ejemplo, si random_state=1, entonces siempre van a salir las escuelas 38, 13, 73 y 10:\n",
    "schools.sample(n=4,replace=True, random_state=1)[[\"escuela\"]]\n"
   ]
  },
  {
   "cell_type": "code",
   "execution_count": 74,
   "metadata": {},
   "outputs": [
    {
     "data": {
      "text/plain": [
       "(82, 3)"
      ]
     },
     "execution_count": 74,
     "metadata": {},
     "output_type": "execute_result"
    }
   ],
   "source": [
    "schools.shape"
   ]
  },
  {
   "cell_type": "code",
   "execution_count": 23,
   "metadata": {},
   "outputs": [
    {
     "name": "stdout",
     "output_type": "stream",
     "text": [
      "m=15: 0.14873892990668794\n",
      "m=14: 0.1523958364803714\n"
     ]
    }
   ],
   "source": [
    "#Simulamos N muestras bootstrap de tamanio m y obtenemos el error estandar. Y Luego con m-1:\n",
    "\n",
    "N=1000\n",
    "m=15\n",
    "\n",
    "m1=f1(N, m, schools)\n",
    "print('m={}: {}'.format(m, error_estandar(m1)))\n",
    "\n",
    "m=m-1\n",
    "\n",
    "m2=f1(N, m, schools)\n",
    "print('m={}: {}'.format(m, error_estandar(m2)))\n"
   ]
  },
  {
   "cell_type": "code",
   "execution_count": 29,
   "metadata": {},
   "outputs": [
    {
     "data": {
      "image/png": "[encoded data removed]",
      "text/plain": [
       "<Figure size 864x576 with 2 Axes>"
      ]
     },
     "metadata": {
      "needs_background": "light"
     },
     "output_type": "display_data"
    }
   ],
   "source": [
    "#Graficamos los histogramas de las correlaciones:\n",
    "fig, ax=subplots(figsize=(12,8))\n",
    "plt.subplot(221)\n",
    "hist(m1,density=True,bins=20,edgecolor=\"w\",color=\"cadetblue\",alpha=0.9, facecolor='red')\n",
    "ax.xaxis.set_tick_params(labelsize=18,labelcolor=\"black\")\n",
    "ax.yaxis.set_tick_params(labelsize=18,labelcolor=\"black\")\n",
    "plt.title(r'N={}, m={}'.format(N, m))\n",
    "\n",
    "\n",
    "plt.subplot(222)\n",
    "hist(m2,density=True,bins=20,edgecolor=\"w\",color=\"cadetblue\",alpha=0.9, facecolor='orange')\n",
    "ax.xaxis.set_tick_params(labelsize=18,labelcolor=\"black\")\n",
    "ax.yaxis.set_tick_params(labelsize=18,labelcolor=\"black\")\n",
    "plt.title(r'N={}, m={}'.format(N, m-1))\n",
    "\n",
    "\n",
    "show()"
   ]
  },
  {
   "cell_type": "markdown",
   "metadata": {},
   "source": [
    "En el archivo 'Bootstrap parte 2'\n",
    "\n",
    "Se menciona:\n",
    "\n",
    "1. De tarea, obtener el error estandar de la correlacion y mostrar para que N la precisión con respecto a la correlación de la muestra total\n",
    "\n",
    "2. Grafique los histogramas de las correlaciones\n",
    "\n",
    "3. Grafique el  histograma pero sobre una muestra bostrap considerando la muestra completa"
   ]
  },
  {
   "cell_type": "markdown",
   "metadata": {},
   "source": [
    "## 1. De tarea, obtener el error estandar de la correlacion y mostrar para que N la precisión con respecto a la correlación de la muestra total"
   ]
  },
  {
   "cell_type": "code",
   "execution_count": 48,
   "metadata": {},
   "outputs": [
    {
     "name": "stdout",
     "output_type": "stream",
     "text": [
      "Spearmans correlation: 0.753\n"
     ]
    }
   ],
   "source": [
    "#La correlacion de la muestra total es 0.753.\n",
    "\n",
    "corr= spearmanr(schools.LSAT, schools.GPA)[0]\n",
    "print('Spearmans correlation: %.3f' % corr)"
   ]
  },
  {
   "cell_type": "code",
   "execution_count": 37,
   "metadata": {},
   "outputs": [],
   "source": [
    "def seq(start, end, by):\n",
    "    return [by * n for n in range(int(start/by), int((end + by)/by))]"
   ]
  },
  {
   "cell_type": "code",
   "execution_count": 39,
   "metadata": {},
   "outputs": [
    {
     "data": {
      "text/plain": [
       "[20, 30, 40, 50, 60, 70, 80, 90, 100]"
      ]
     },
     "execution_count": 39,
     "metadata": {},
     "output_type": "execute_result"
    }
   ],
   "source": [
    "seq(start=20, end=100, by=10)"
   ]
  },
  {
   "cell_type": "code",
   "execution_count": 113,
   "metadata": {},
   "outputs": [
    {
     "data": {
      "image/png": "[encoded data removed]",
      "text/plain": [
       "<Figure size 864x576 with 2 Axes>"
      ]
     },
     "metadata": {
      "needs_background": "light"
     },
     "output_type": "display_data"
    }
   ],
   "source": [
    "#El dataset de las escuelas tiene 82 observaciones. En la clase del Miercoles 20/10 se dijo que m=15, y N era el parametro.\n",
    "\n",
    "\n",
    "fig,ax = plt.subplots(figsize=(12,8))\n",
    "\n",
    "#Graficamos N=20,40,...,300 contra el error estandar de las correlaciones de N muestras bootstrap:\n",
    "ax.plot(seq(start=20, end=300, by=20),[error_estandar(f1(N, m, schools)) for N in seq(start=20, end=300, by=20)], color=\"red\", marker=\"o\")\n",
    "ax.set_xlabel(\"N\",fontsize=14)\n",
    "ax.set_ylabel(\"error estandar de correlaciones\",color=\"red\",fontsize=14)\n",
    "\n",
    "# Dibujamos un eje y secundario para la diferencia de la moda de las correlaciones con la correlacion de la muestra total:\n",
    "ax2=ax.twinx()\n",
    "ax2.plot(seq(start=20, end=300, by=20),[abs(statistics.mode(f1(N, m, schools))-corr) for N in seq(start=20, end=300, by=20)],color=\"blue\",marker=\"o\")\n",
    "ax2.set_ylabel(\"diferencia con correl. de la muestra\",color=\"blue\",fontsize=14)\n",
    "\n",
    "show()\n",
    "\n",
    "# Guardamos la grafica\n",
    "fig.savefig('intento(1).jpg',\n",
    "          format='jpeg',\n",
    "          dpi=100,\n",
    "          bbox_inches='tight')\n",
    "\n",
    "#Al final, la N optima deberia disminuir error estandar, y diferencia con la correlacion de la muestra total."
   ]
  },
  {
   "cell_type": "code",
   "execution_count": 115,
   "metadata": {},
   "outputs": [
    {
     "data": {
      "image/png": "[encoded data removed]",
      "text/plain": [
       "<Figure size 864x576 with 2 Axes>"
      ]
     },
     "metadata": {
      "needs_background": "light"
     },
     "output_type": "display_data"
    }
   ],
   "source": [
    "fig,ax = plt.subplots(figsize=(12,8))\n",
    "\n",
    "#Graficamos N=20,40,...,300 contra el error estandar de las correlaciones de N muestras bootstrap:\n",
    "ax.plot(seq(start=20, end=300, by=20),[error_estandar(f1(N, m, schools)) for N in seq(start=20, end=300, by=20)], color=\"red\", marker=\"o\")\n",
    "ax.set_xlabel(\"N\",fontsize=14)\n",
    "ax.set_ylabel(\"error estandar de correlaciones\",color=\"red\",fontsize=14)\n",
    "\n",
    "# Dibujamos un eje y secundario para la diferencia de la moda de las correlaciones con la correlacion de la muestra total:\n",
    "ax2=ax.twinx()\n",
    "ax2.plot(seq(start=20, end=300, by=20),[abs(statistics.mode(f1(N, m, schools))-corr) for N in seq(start=20, end=300, by=20)],color=\"blue\",marker=\"o\")\n",
    "ax2.set_ylabel(\"diferencia con correl. de la muestra\",color=\"blue\",fontsize=14)\n",
    "\n",
    "show()\n",
    "\n",
    "# Guardamos la grafica\n",
    "fig.savefig('intento(2).jpg',\n",
    "          format='jpeg',\n",
    "          dpi=100,\n",
    "          bbox_inches='tight')"
   ]
  },
  {
   "cell_type": "code",
   "execution_count": 116,
   "metadata": {},
   "outputs": [
    {
     "data": {
      "image/png": "[encoded data removed]",
      "text/plain": [
       "<Figure size 864x576 with 2 Axes>"
      ]
     },
     "metadata": {
      "needs_background": "light"
     },
     "output_type": "display_data"
    }
   ],
   "source": [
    "#Parece que no hay una N especifica, pero la mayoria de las veces, la que disminuye\n",
    "#error estandar, y diferencia entre la moda de la muestra con la correlacion de la muestra original esta entre 180 y 230:\n",
    "fig,ax = plt.subplots(figsize=(12,8))\n",
    "\n",
    "#Graficamos N=180,185,...,230 contra el error estandar de las correlaciones de N muestras bootstrap:\n",
    "ax.plot(seq(start=180, end=230, by=5),[error_estandar(f1(N, m, schools)) for N in seq(start=180, end=230, by=5)], color=\"red\", marker=\"o\")\n",
    "ax.set_xlabel(\"N\",fontsize=14)\n",
    "ax.set_ylabel(\"error estandar de correlaciones\",color=\"red\",fontsize=14)\n",
    "\n",
    "# Dibujamos un eje y secundario para la diferencia de la moda de las correlaciones con la correlacion de la muestra total:\n",
    "ax2=ax.twinx()\n",
    "ax2.plot(seq(start=180, end=230, by=5),[abs(statistics.mode(f1(N, m, schools))-corr) for N in seq(start=180, end=230, by=5)],color=\"blue\",marker=\"o\")\n",
    "ax2.set_ylabel(\"diferencia con correl. de la muestra\",color=\"blue\",fontsize=14)\n",
    "\n",
    "show()\n",
    "\n",
    "# Guardamos la grafica\n",
    "fig.savefig('intento(3).jpg',\n",
    "          format='jpeg',\n",
    "          dpi=100,\n",
    "          bbox_inches='tight')"
   ]
  },
  {
   "cell_type": "markdown",
   "metadata": {},
   "source": [
    "## 2. Grafique los histogramas de las correlaciones"
   ]
  },
  {
   "cell_type": "code",
   "execution_count": 121,
   "metadata": {},
   "outputs": [
    {
     "name": "stdout",
     "output_type": "stream",
     "text": [
      "m=15: 0.13664693462628902\n",
      "m=15: 0.15632082247212697\n"
     ]
    },
    {
     "data": {
      "image/png": "[encoded data removed]",
      "text/plain": [
       "<Figure size 864x576 with 2 Axes>"
      ]
     },
     "metadata": {
      "needs_background": "light"
     },
     "output_type": "display_data"
    }
   ],
   "source": [
    "#Simulamos N muestras bootstrap de tamanio 15. Con base en el ejercicio anterior escogemos N=190 y N=210:\n",
    "\n",
    "N1=190\n",
    "m=15\n",
    "\n",
    "m1=f1(N1, m, schools)\n",
    "print('m={}: {}'.format(m, error_estandar(m1)))\n",
    "\n",
    "\n",
    "N2=210\n",
    "m2=f1(N2, m, schools)\n",
    "print('m={}: {}'.format(m, error_estandar(m2)))\n",
    "\n",
    "\n",
    "#Graficamos los histogramas de las correlaciones:\n",
    "fig, ax=subplots(figsize=(12,8))\n",
    "plt.subplot(221)\n",
    "hist(m1,density=True,bins=20,edgecolor=\"w\",color=\"cadetblue\",alpha=0.9, facecolor='red')\n",
    "ax.xaxis.set_tick_params(labelsize=18,labelcolor=\"black\")\n",
    "ax.yaxis.set_tick_params(labelsize=18,labelcolor=\"black\")\n",
    "axvline(x=corr,color='green', linestyle='--',linewidth=3,label=\"correlacion de muestra original\")\n",
    "axvline(x=statistics.mode(m1),color='black', linestyle='--',linewidth=3,label=\"Moda de muestra bootstrap\")\n",
    "plt.title(r'N={}, m={}'.format(N1, m))\n",
    "legend()\n",
    "\n",
    "plt.subplot(222)\n",
    "hist(m2,density=True,bins=20,edgecolor=\"w\",color=\"cadetblue\",alpha=0.9, facecolor='orange')\n",
    "ax.xaxis.set_tick_params(labelsize=18,labelcolor=\"black\")\n",
    "ax.yaxis.set_tick_params(labelsize=18,labelcolor=\"black\")\n",
    "axvline(x=corr,color='green', linestyle='--',linewidth=3,label=\"correlacion de muestra original\")\n",
    "axvline(x=statistics.mode(m2),color='black', linestyle='--',linewidth=3,label=\"Moda de muestra bootstrap\")\n",
    "plt.title(r'N={}, m={}'.format(N2, m))\n",
    "legend()\n",
    "\n",
    "show()"
   ]
  },
  {
   "cell_type": "markdown",
   "metadata": {},
   "source": [
    "## 3. Grafique el  histograma pero sobre una muestra bostrap considerando la muestra completa"
   ]
  },
  {
   "cell_type": "code",
   "execution_count": 122,
   "metadata": {},
   "outputs": [
    {
     "name": "stdout",
     "output_type": "stream",
     "text": [
      "m=82: 0.054796249649424394\n",
      "m=82: 0.05922359913882367\n"
     ]
    },
    {
     "data": {
      "image/png": "[encoded data removed]",
      "text/plain": [
       "<Figure size 864x576 with 2 Axes>"
      ]
     },
     "metadata": {
      "needs_background": "light"
     },
     "output_type": "display_data"
    }
   ],
   "source": [
    "#Simulamos N muestras bootstrap del tamanio de la muestra completa: 82.\n",
    "N1=190\n",
    "m=82\n",
    "\n",
    "m1=f1(N1, m, schools)\n",
    "print('m={}: {}'.format(m, error_estandar(m1)))\n",
    "\n",
    "\n",
    "N2=210\n",
    "m2=f1(N2, m, schools)\n",
    "print('m={}: {}'.format(m, error_estandar(m2)))\n",
    "\n",
    "\n",
    "#Graficamos los histogramas de las correlaciones:\n",
    "fig, ax=subplots(figsize=(12,8))\n",
    "plt.subplot(221)\n",
    "hist(m1,density=True,bins=20,edgecolor=\"w\",color=\"cadetblue\",alpha=0.9, facecolor='red')\n",
    "ax.xaxis.set_tick_params(labelsize=18,labelcolor=\"black\")\n",
    "ax.yaxis.set_tick_params(labelsize=18,labelcolor=\"black\")\n",
    "axvline(x=corr,color='green', linestyle='--',linewidth=3,label=\"correlacion de muestra original\")\n",
    "axvline(x=statistics.mode(m1),color='black', linestyle='--',linewidth=3,label=\"Moda de muestra bootstrap\")\n",
    "plt.title(r'N={}, m={}'.format(N1, m))\n",
    "legend()\n",
    "\n",
    "plt.subplot(222)\n",
    "hist(m2,density=True,bins=20,edgecolor=\"w\",color=\"cadetblue\",alpha=0.9, facecolor='orange')\n",
    "ax.xaxis.set_tick_params(labelsize=18,labelcolor=\"black\")\n",
    "ax.yaxis.set_tick_params(labelsize=18,labelcolor=\"black\")\n",
    "axvline(x=corr,color='green', linestyle='--',linewidth=3,label=\"correlacion de muestra original\")\n",
    "axvline(x=statistics.mode(m2),color='black', linestyle='--',linewidth=3,label=\"Moda de muestra bootstrap\")\n",
    "plt.title(r'N={}, m={}'.format(N2, m))\n",
    "legend()\n",
    "\n",
    "show()"
   ]
  },
  {
   "cell_type": "markdown",
   "metadata": {},
   "source": [
    "# Problema 3.  Me acomodo mas en R."
   ]
  }
 ],
 "metadata": {
  "kernelspec": {
   "display_name": "Python 3",
   "language": "python",
   "name": "python3"
  },
  "language_info": {
   "codemirror_mode": {
    "name": "ipython",
    "version": 3
   },
   "file_extension": ".py",
   "mimetype": "text/x-python",
   "name": "python",
   "nbconvert_exporter": "python",
   "pygments_lexer": "ipython3",
   "version": "3.8.10"
  }
 },
 "nbformat": 4,
 "nbformat_minor": 4
}
