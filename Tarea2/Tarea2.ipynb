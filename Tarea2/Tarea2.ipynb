{
 "cells": [
  {
   "cell_type": "markdown",
   "id": "brave-schedule",
   "metadata": {},
   "source": [
    "# Tarea 2.\n",
    "## Valle Luna Jorge Alberto. 315076183."
   ]
  },
  {
   "cell_type": "code",
   "execution_count": 1,
   "id": "photographic-victory",
   "metadata": {},
   "outputs": [],
   "source": [
    "import pandas as pd\n",
    "from sklearn.linear_model import LogisticRegression\n",
    "from sklearn.metrics import roc_curve, auc\n",
    "from sklearn.tree import DecisionTreeClassifier\n",
    "from sklearn.pipeline import Pipeline\n",
    "from sklearn import metrics\n",
    "import numpy as np\n",
    "from pylab import*\n",
    "import seaborn as sns"
   ]
  },
  {
   "cell_type": "code",
   "execution_count": 2,
   "id": "engaging-express",
   "metadata": {},
   "outputs": [],
   "source": [
    "import random"
   ]
  },
  {
   "cell_type": "markdown",
   "id": "above-shareware",
   "metadata": {},
   "source": [
    "# <font color='blue'>Primero limpiamos la base que generé en la Tarea 1:</font> "
   ]
  },
  {
   "cell_type": "code",
   "execution_count": 3,
   "id": "liable-journalism",
   "metadata": {},
   "outputs": [],
   "source": [
    "#'base_final.csv'\n",
    "df= pd.read_csv('base_final.csv', index_col=0)"
   ]
  },
  {
   "cell_type": "code",
   "execution_count": 4,
   "id": "loaded-hardwood",
   "metadata": {},
   "outputs": [
    {
     "data": {
      "text/html": [
       "<div>\n",
       "<style scoped>\n",
       "    .dataframe tbody tr th:only-of-type {\n",
       "        vertical-align: middle;\n",
       "    }\n",
       "\n",
       "    .dataframe tbody tr th {\n",
       "        vertical-align: top;\n",
       "    }\n",
       "\n",
       "    .dataframe thead th {\n",
       "        text-align: right;\n",
       "    }\n",
       "</style>\n",
       "<table border=\"1\" class=\"dataframe\">\n",
       "  <thead>\n",
       "    <tr style=\"text-align: right;\">\n",
       "      <th></th>\n",
       "      <th>_id_</th>\n",
       "      <th>comp_interno1</th>\n",
       "      <th>comp_interno2</th>\n",
       "      <th>comp_interno3</th>\n",
       "      <th>comp_interno4</th>\n",
       "      <th>categoria1</th>\n",
       "      <th>categoria2</th>\n",
       "      <th>comp_externo1</th>\n",
       "      <th>comp_externo2</th>\n",
       "      <th>comp_externo3</th>\n",
       "      <th>comp_externo4</th>\n",
       "      <th>comp_mixto1</th>\n",
       "      <th>credito_1si_0no</th>\n",
       "    </tr>\n",
       "  </thead>\n",
       "  <tbody>\n",
       "    <tr>\n",
       "      <th>0</th>\n",
       "      <td>78213</td>\n",
       "      <td>0.000000</td>\n",
       "      <td>b'0'</td>\n",
       "      <td>11.0</td>\n",
       "      <td>58.0</td>\n",
       "      <td>2.0</td>\n",
       "      <td>9.0</td>\n",
       "      <td>260.869565</td>\n",
       "      <td>25.854639</td>\n",
       "      <td>56.0</td>\n",
       "      <td>-230</td>\n",
       "      <td>0.33522</td>\n",
       "      <td>1</td>\n",
       "    </tr>\n",
       "    <tr>\n",
       "      <th>1</th>\n",
       "      <td>76457</td>\n",
       "      <td>0.000000</td>\n",
       "      <td>b'1'</td>\n",
       "      <td>28.0</td>\n",
       "      <td>45.0</td>\n",
       "      <td>1.0</td>\n",
       "      <td>4.0</td>\n",
       "      <td>40.579710</td>\n",
       "      <td>2.872738</td>\n",
       "      <td>62.0</td>\n",
       "      <td>-230</td>\n",
       "      <td>0.33334</td>\n",
       "      <td>1</td>\n",
       "    </tr>\n",
       "    <tr>\n",
       "      <th>2</th>\n",
       "      <td>8329</td>\n",
       "      <td>0.000000</td>\n",
       "      <td>b'1'</td>\n",
       "      <td>14.0</td>\n",
       "      <td>59.0</td>\n",
       "      <td>3.0</td>\n",
       "      <td>3.0</td>\n",
       "      <td>349.275362</td>\n",
       "      <td>34.616490</td>\n",
       "      <td>94.0</td>\n",
       "      <td>-230</td>\n",
       "      <td>0.29112</td>\n",
       "      <td>1</td>\n",
       "    </tr>\n",
       "    <tr>\n",
       "      <th>3</th>\n",
       "      <td>68389</td>\n",
       "      <td>2026.342452</td>\n",
       "      <td>b'1'</td>\n",
       "      <td>1.0</td>\n",
       "      <td>67.0</td>\n",
       "      <td>2.0</td>\n",
       "      <td>9.0</td>\n",
       "      <td>276.811594</td>\n",
       "      <td>27.434645</td>\n",
       "      <td>125.0</td>\n",
       "      <td>-230</td>\n",
       "      <td>0.27318</td>\n",
       "      <td>1</td>\n",
       "    </tr>\n",
       "    <tr>\n",
       "      <th>4</th>\n",
       "      <td>45732</td>\n",
       "      <td>3546.099291</td>\n",
       "      <td>b'1'</td>\n",
       "      <td>15.0</td>\n",
       "      <td>70.0</td>\n",
       "      <td>1.0</td>\n",
       "      <td>9.0</td>\n",
       "      <td>640.579710</td>\n",
       "      <td>63.487504</td>\n",
       "      <td>81.0</td>\n",
       "      <td>-230</td>\n",
       "      <td>0.32988</td>\n",
       "      <td>1</td>\n",
       "    </tr>\n",
       "    <tr>\n",
       "      <th>5</th>\n",
       "      <td>35742</td>\n",
       "      <td>506.585613</td>\n",
       "      <td>b'0'</td>\n",
       "      <td>9.0</td>\n",
       "      <td>50.0</td>\n",
       "      <td>3.0</td>\n",
       "      <td>3.0</td>\n",
       "      <td>217.391304</td>\n",
       "      <td>21.545533</td>\n",
       "      <td>114.0</td>\n",
       "      <td>-230</td>\n",
       "      <td>0.35514</td>\n",
       "      <td>1</td>\n",
       "    </tr>\n",
       "    <tr>\n",
       "      <th>6</th>\n",
       "      <td>53185</td>\n",
       "      <td>759.878419</td>\n",
       "      <td>b'1'</td>\n",
       "      <td>23.0</td>\n",
       "      <td>58.0</td>\n",
       "      <td>1.0</td>\n",
       "      <td>9.0</td>\n",
       "      <td>200.000000</td>\n",
       "      <td>19.821890</td>\n",
       "      <td>109.0</td>\n",
       "      <td>-230</td>\n",
       "      <td>0.37000</td>\n",
       "      <td>1</td>\n",
       "    </tr>\n",
       "    <tr>\n",
       "      <th>7</th>\n",
       "      <td>98701</td>\n",
       "      <td>0.000000</td>\n",
       "      <td>b'1'</td>\n",
       "      <td>19.0</td>\n",
       "      <td>50.0</td>\n",
       "      <td>3.0</td>\n",
       "      <td>9.0</td>\n",
       "      <td>558.840580</td>\n",
       "      <td>55.386383</td>\n",
       "      <td>125.0</td>\n",
       "      <td>-230</td>\n",
       "      <td>0.36508</td>\n",
       "      <td>1</td>\n",
       "    </tr>\n",
       "    <tr>\n",
       "      <th>8</th>\n",
       "      <td>82374</td>\n",
       "      <td>0.000000</td>\n",
       "      <td>b'1'</td>\n",
       "      <td>22.0</td>\n",
       "      <td>61.0</td>\n",
       "      <td>1.0</td>\n",
       "      <td>9.0</td>\n",
       "      <td>214.202899</td>\n",
       "      <td>21.229532</td>\n",
       "      <td>37.0</td>\n",
       "      <td>-230</td>\n",
       "      <td>0.31664</td>\n",
       "      <td>1</td>\n",
       "    </tr>\n",
       "    <tr>\n",
       "      <th>9</th>\n",
       "      <td>86932</td>\n",
       "      <td>2532.928065</td>\n",
       "      <td>b'1'</td>\n",
       "      <td>26.0</td>\n",
       "      <td>59.0</td>\n",
       "      <td>3.0</td>\n",
       "      <td>9.0</td>\n",
       "      <td>420.289855</td>\n",
       "      <td>41.654697</td>\n",
       "      <td>118.0</td>\n",
       "      <td>-230</td>\n",
       "      <td>0.33008</td>\n",
       "      <td>1</td>\n",
       "    </tr>\n",
       "  </tbody>\n",
       "</table>\n",
       "</div>"
      ],
      "text/plain": [
       "    _id_  comp_interno1 comp_interno2  comp_interno3  comp_interno4  \\\n",
       "0  78213       0.000000          b'0'           11.0           58.0   \n",
       "1  76457       0.000000          b'1'           28.0           45.0   \n",
       "2   8329       0.000000          b'1'           14.0           59.0   \n",
       "3  68389    2026.342452          b'1'            1.0           67.0   \n",
       "4  45732    3546.099291          b'1'           15.0           70.0   \n",
       "5  35742     506.585613          b'0'            9.0           50.0   \n",
       "6  53185     759.878419          b'1'           23.0           58.0   \n",
       "7  98701       0.000000          b'1'           19.0           50.0   \n",
       "8  82374       0.000000          b'1'           22.0           61.0   \n",
       "9  86932    2532.928065          b'1'           26.0           59.0   \n",
       "\n",
       "   categoria1  categoria2  comp_externo1  comp_externo2  comp_externo3  \\\n",
       "0         2.0         9.0     260.869565      25.854639           56.0   \n",
       "1         1.0         4.0      40.579710       2.872738           62.0   \n",
       "2         3.0         3.0     349.275362      34.616490           94.0   \n",
       "3         2.0         9.0     276.811594      27.434645          125.0   \n",
       "4         1.0         9.0     640.579710      63.487504           81.0   \n",
       "5         3.0         3.0     217.391304      21.545533          114.0   \n",
       "6         1.0         9.0     200.000000      19.821890          109.0   \n",
       "7         3.0         9.0     558.840580      55.386383          125.0   \n",
       "8         1.0         9.0     214.202899      21.229532           37.0   \n",
       "9         3.0         9.0     420.289855      41.654697          118.0   \n",
       "\n",
       "   comp_externo4  comp_mixto1  credito_1si_0no  \n",
       "0           -230      0.33522                1  \n",
       "1           -230      0.33334                1  \n",
       "2           -230      0.29112                1  \n",
       "3           -230      0.27318                1  \n",
       "4           -230      0.32988                1  \n",
       "5           -230      0.35514                1  \n",
       "6           -230      0.37000                1  \n",
       "7           -230      0.36508                1  \n",
       "8           -230      0.31664                1  \n",
       "9           -230      0.33008                1  "
      ]
     },
     "execution_count": 4,
     "metadata": {},
     "output_type": "execute_result"
    }
   ],
   "source": [
    "df.head(10)"
   ]
  },
  {
   "cell_type": "code",
   "execution_count": 5,
   "id": "metallic-reporter",
   "metadata": {},
   "outputs": [
    {
     "name": "stderr",
     "output_type": "stream",
     "text": [
      "<ipython-input-5-b11d8e9601f9>:1: FutureWarning: In a future version of pandas all arguments of DataFrame.drop except for the argument 'labels' will be keyword-only\n",
      "  df=df.drop('_id_',1)\n"
     ]
    },
    {
     "data": {
      "text/html": [
       "<div>\n",
       "<style scoped>\n",
       "    .dataframe tbody tr th:only-of-type {\n",
       "        vertical-align: middle;\n",
       "    }\n",
       "\n",
       "    .dataframe tbody tr th {\n",
       "        vertical-align: top;\n",
       "    }\n",
       "\n",
       "    .dataframe thead th {\n",
       "        text-align: right;\n",
       "    }\n",
       "</style>\n",
       "<table border=\"1\" class=\"dataframe\">\n",
       "  <thead>\n",
       "    <tr style=\"text-align: right;\">\n",
       "      <th></th>\n",
       "      <th>comp_interno1</th>\n",
       "      <th>comp_interno2</th>\n",
       "      <th>comp_interno3</th>\n",
       "      <th>comp_interno4</th>\n",
       "      <th>categoria1</th>\n",
       "      <th>categoria2</th>\n",
       "      <th>comp_externo1</th>\n",
       "      <th>comp_externo2</th>\n",
       "      <th>comp_externo3</th>\n",
       "      <th>comp_externo4</th>\n",
       "      <th>comp_mixto1</th>\n",
       "      <th>credito_1si_0no</th>\n",
       "    </tr>\n",
       "  </thead>\n",
       "  <tbody>\n",
       "    <tr>\n",
       "      <th>0</th>\n",
       "      <td>0.000000</td>\n",
       "      <td>b'0'</td>\n",
       "      <td>11.0</td>\n",
       "      <td>58.0</td>\n",
       "      <td>2.0</td>\n",
       "      <td>9.0</td>\n",
       "      <td>260.869565</td>\n",
       "      <td>25.854639</td>\n",
       "      <td>56.0</td>\n",
       "      <td>-230</td>\n",
       "      <td>0.33522</td>\n",
       "      <td>1</td>\n",
       "    </tr>\n",
       "    <tr>\n",
       "      <th>1</th>\n",
       "      <td>0.000000</td>\n",
       "      <td>b'1'</td>\n",
       "      <td>28.0</td>\n",
       "      <td>45.0</td>\n",
       "      <td>1.0</td>\n",
       "      <td>4.0</td>\n",
       "      <td>40.579710</td>\n",
       "      <td>2.872738</td>\n",
       "      <td>62.0</td>\n",
       "      <td>-230</td>\n",
       "      <td>0.33334</td>\n",
       "      <td>1</td>\n",
       "    </tr>\n",
       "    <tr>\n",
       "      <th>2</th>\n",
       "      <td>0.000000</td>\n",
       "      <td>b'1'</td>\n",
       "      <td>14.0</td>\n",
       "      <td>59.0</td>\n",
       "      <td>3.0</td>\n",
       "      <td>3.0</td>\n",
       "      <td>349.275362</td>\n",
       "      <td>34.616490</td>\n",
       "      <td>94.0</td>\n",
       "      <td>-230</td>\n",
       "      <td>0.29112</td>\n",
       "      <td>1</td>\n",
       "    </tr>\n",
       "    <tr>\n",
       "      <th>3</th>\n",
       "      <td>2026.342452</td>\n",
       "      <td>b'1'</td>\n",
       "      <td>1.0</td>\n",
       "      <td>67.0</td>\n",
       "      <td>2.0</td>\n",
       "      <td>9.0</td>\n",
       "      <td>276.811594</td>\n",
       "      <td>27.434645</td>\n",
       "      <td>125.0</td>\n",
       "      <td>-230</td>\n",
       "      <td>0.27318</td>\n",
       "      <td>1</td>\n",
       "    </tr>\n",
       "    <tr>\n",
       "      <th>4</th>\n",
       "      <td>3546.099291</td>\n",
       "      <td>b'1'</td>\n",
       "      <td>15.0</td>\n",
       "      <td>70.0</td>\n",
       "      <td>1.0</td>\n",
       "      <td>9.0</td>\n",
       "      <td>640.579710</td>\n",
       "      <td>63.487504</td>\n",
       "      <td>81.0</td>\n",
       "      <td>-230</td>\n",
       "      <td>0.32988</td>\n",
       "      <td>1</td>\n",
       "    </tr>\n",
       "    <tr>\n",
       "      <th>5</th>\n",
       "      <td>506.585613</td>\n",
       "      <td>b'0'</td>\n",
       "      <td>9.0</td>\n",
       "      <td>50.0</td>\n",
       "      <td>3.0</td>\n",
       "      <td>3.0</td>\n",
       "      <td>217.391304</td>\n",
       "      <td>21.545533</td>\n",
       "      <td>114.0</td>\n",
       "      <td>-230</td>\n",
       "      <td>0.35514</td>\n",
       "      <td>1</td>\n",
       "    </tr>\n",
       "    <tr>\n",
       "      <th>6</th>\n",
       "      <td>759.878419</td>\n",
       "      <td>b'1'</td>\n",
       "      <td>23.0</td>\n",
       "      <td>58.0</td>\n",
       "      <td>1.0</td>\n",
       "      <td>9.0</td>\n",
       "      <td>200.000000</td>\n",
       "      <td>19.821890</td>\n",
       "      <td>109.0</td>\n",
       "      <td>-230</td>\n",
       "      <td>0.37000</td>\n",
       "      <td>1</td>\n",
       "    </tr>\n",
       "    <tr>\n",
       "      <th>7</th>\n",
       "      <td>0.000000</td>\n",
       "      <td>b'1'</td>\n",
       "      <td>19.0</td>\n",
       "      <td>50.0</td>\n",
       "      <td>3.0</td>\n",
       "      <td>9.0</td>\n",
       "      <td>558.840580</td>\n",
       "      <td>55.386383</td>\n",
       "      <td>125.0</td>\n",
       "      <td>-230</td>\n",
       "      <td>0.36508</td>\n",
       "      <td>1</td>\n",
       "    </tr>\n",
       "    <tr>\n",
       "      <th>8</th>\n",
       "      <td>0.000000</td>\n",
       "      <td>b'1'</td>\n",
       "      <td>22.0</td>\n",
       "      <td>61.0</td>\n",
       "      <td>1.0</td>\n",
       "      <td>9.0</td>\n",
       "      <td>214.202899</td>\n",
       "      <td>21.229532</td>\n",
       "      <td>37.0</td>\n",
       "      <td>-230</td>\n",
       "      <td>0.31664</td>\n",
       "      <td>1</td>\n",
       "    </tr>\n",
       "    <tr>\n",
       "      <th>9</th>\n",
       "      <td>2532.928065</td>\n",
       "      <td>b'1'</td>\n",
       "      <td>26.0</td>\n",
       "      <td>59.0</td>\n",
       "      <td>3.0</td>\n",
       "      <td>9.0</td>\n",
       "      <td>420.289855</td>\n",
       "      <td>41.654697</td>\n",
       "      <td>118.0</td>\n",
       "      <td>-230</td>\n",
       "      <td>0.33008</td>\n",
       "      <td>1</td>\n",
       "    </tr>\n",
       "  </tbody>\n",
       "</table>\n",
       "</div>"
      ],
      "text/plain": [
       "   comp_interno1 comp_interno2  comp_interno3  comp_interno4  categoria1  \\\n",
       "0       0.000000          b'0'           11.0           58.0         2.0   \n",
       "1       0.000000          b'1'           28.0           45.0         1.0   \n",
       "2       0.000000          b'1'           14.0           59.0         3.0   \n",
       "3    2026.342452          b'1'            1.0           67.0         2.0   \n",
       "4    3546.099291          b'1'           15.0           70.0         1.0   \n",
       "5     506.585613          b'0'            9.0           50.0         3.0   \n",
       "6     759.878419          b'1'           23.0           58.0         1.0   \n",
       "7       0.000000          b'1'           19.0           50.0         3.0   \n",
       "8       0.000000          b'1'           22.0           61.0         1.0   \n",
       "9    2532.928065          b'1'           26.0           59.0         3.0   \n",
       "\n",
       "   categoria2  comp_externo1  comp_externo2  comp_externo3  comp_externo4  \\\n",
       "0         9.0     260.869565      25.854639           56.0           -230   \n",
       "1         4.0      40.579710       2.872738           62.0           -230   \n",
       "2         3.0     349.275362      34.616490           94.0           -230   \n",
       "3         9.0     276.811594      27.434645          125.0           -230   \n",
       "4         9.0     640.579710      63.487504           81.0           -230   \n",
       "5         3.0     217.391304      21.545533          114.0           -230   \n",
       "6         9.0     200.000000      19.821890          109.0           -230   \n",
       "7         9.0     558.840580      55.386383          125.0           -230   \n",
       "8         9.0     214.202899      21.229532           37.0           -230   \n",
       "9         9.0     420.289855      41.654697          118.0           -230   \n",
       "\n",
       "   comp_mixto1  credito_1si_0no  \n",
       "0      0.33522                1  \n",
       "1      0.33334                1  \n",
       "2      0.29112                1  \n",
       "3      0.27318                1  \n",
       "4      0.32988                1  \n",
       "5      0.35514                1  \n",
       "6      0.37000                1  \n",
       "7      0.36508                1  \n",
       "8      0.31664                1  \n",
       "9      0.33008                1  "
      ]
     },
     "execution_count": 5,
     "metadata": {},
     "output_type": "execute_result"
    }
   ],
   "source": [
    "df=df.drop('_id_',1)\n",
    "df.head(10)"
   ]
  },
  {
   "cell_type": "code",
   "execution_count": 6,
   "id": "descending-communication",
   "metadata": {},
   "outputs": [
    {
     "name": "stdout",
     "output_type": "stream",
     "text": [
      "<class 'pandas.core.frame.DataFrame'>\n",
      "Int64Index: 43822 entries, 0 to 43821\n",
      "Data columns (total 12 columns):\n",
      " #   Column           Non-Null Count  Dtype  \n",
      "---  ------           --------------  -----  \n",
      " 0   comp_interno1    43822 non-null  float64\n",
      " 1   comp_interno2    43822 non-null  object \n",
      " 2   comp_interno3    43822 non-null  float64\n",
      " 3   comp_interno4    43822 non-null  float64\n",
      " 4   categoria1       43822 non-null  float64\n",
      " 5   categoria2       43822 non-null  float64\n",
      " 6   comp_externo1    43822 non-null  float64\n",
      " 7   comp_externo2    43822 non-null  float64\n",
      " 8   comp_externo3    43816 non-null  float64\n",
      " 9   comp_externo4    43822 non-null  int64  \n",
      " 10  comp_mixto1      43822 non-null  float64\n",
      " 11  credito_1si_0no  43822 non-null  int64  \n",
      "dtypes: float64(9), int64(2), object(1)\n",
      "memory usage: 4.3+ MB\n"
     ]
    }
   ],
   "source": [
    "df.info()"
   ]
  },
  {
   "cell_type": "markdown",
   "id": "numerical-poetry",
   "metadata": {},
   "source": [
    "# a) Empezamos por cambiar la variable categórica 'comp_interno2' de tipo 'String' a tipo 'int'"
   ]
  },
  {
   "cell_type": "code",
   "execution_count": 7,
   "id": "incomplete-think",
   "metadata": {},
   "outputs": [],
   "source": [
    "#Creamos un vector de ceros, de la misma longitud que el numero de observaciones en la base:\n",
    "s=pd.Series(0, index=np.arange(len(df['comp_interno2'])))\n",
    "\n",
    "#Cambiamos todos los b'1' por 1:\n",
    "s[df['comp_interno2']==\"b'1'\"]=1\n",
    "\n",
    "#Insertamos el vector a la base, y removemos el vector tipo 'String':\n",
    "df.insert(loc=2, column=\"comp_interno2_c\", value=s, allow_duplicates=False)\n",
    "df=df.drop(labels=['comp_interno2'], axis=1)"
   ]
  },
  {
   "cell_type": "markdown",
   "id": "helpful-heritage",
   "metadata": {},
   "source": [
    "# b) Después tratamos las observaciones que tengan alguna variable explicativa nula:"
   ]
  },
  {
   "cell_type": "code",
   "execution_count": 8,
   "id": "eligible-degree",
   "metadata": {},
   "outputs": [
    {
     "name": "stdout",
     "output_type": "stream",
     "text": [
      "<class 'pandas.core.frame.DataFrame'>\n",
      "Int64Index: 43822 entries, 0 to 43821\n",
      "Data columns (total 12 columns):\n",
      " #   Column           Non-Null Count  Dtype  \n",
      "---  ------           --------------  -----  \n",
      " 0   comp_interno1    43822 non-null  float64\n",
      " 1   comp_interno2_c  43822 non-null  int64  \n",
      " 2   comp_interno3    43822 non-null  float64\n",
      " 3   comp_interno4    43822 non-null  float64\n",
      " 4   categoria1       43822 non-null  float64\n",
      " 5   categoria2       43822 non-null  float64\n",
      " 6   comp_externo1    43822 non-null  float64\n",
      " 7   comp_externo2    43822 non-null  float64\n",
      " 8   comp_externo3    43816 non-null  float64\n",
      " 9   comp_externo4    43822 non-null  int64  \n",
      " 10  comp_mixto1      43822 non-null  float64\n",
      " 11  credito_1si_0no  43822 non-null  int64  \n",
      "dtypes: float64(9), int64(3)\n",
      "memory usage: 4.3 MB\n"
     ]
    }
   ],
   "source": [
    "#Vemos que la variable 'comp_externo3' tiene 6 nulls:\n",
    "df.info()"
   ]
  },
  {
   "cell_type": "code",
   "execution_count": 9,
   "id": "loaded-fight",
   "metadata": {},
   "outputs": [
    {
     "name": "stdout",
     "output_type": "stream",
     "text": [
      "<class 'pandas.core.frame.DataFrame'>\n",
      "Int64Index: 43816 entries, 0 to 43821\n",
      "Data columns (total 12 columns):\n",
      " #   Column           Non-Null Count  Dtype  \n",
      "---  ------           --------------  -----  \n",
      " 0   comp_interno1    43816 non-null  float64\n",
      " 1   comp_interno2_c  43816 non-null  int64  \n",
      " 2   comp_interno3    43816 non-null  float64\n",
      " 3   comp_interno4    43816 non-null  float64\n",
      " 4   categoria1       43816 non-null  float64\n",
      " 5   categoria2       43816 non-null  float64\n",
      " 6   comp_externo1    43816 non-null  float64\n",
      " 7   comp_externo2    43816 non-null  float64\n",
      " 8   comp_externo3    43816 non-null  float64\n",
      " 9   comp_externo4    43816 non-null  int64  \n",
      " 10  comp_mixto1      43816 non-null  float64\n",
      " 11  credito_1si_0no  43816 non-null  int64  \n",
      "dtypes: float64(9), int64(3)\n",
      "memory usage: 4.3 MB\n"
     ]
    }
   ],
   "source": [
    "#Como solo son 6 observaciones, yo prefiero quitarlas de la base:\n",
    "bool_series = pd.notnull(df['comp_externo3']) \n",
    "bool_series = bool_series[bool_series==False]\n",
    "df.iloc[bool_series.index]\n",
    "df=df.drop(bool_series.index)\n",
    "df.info()"
   ]
  },
  {
   "cell_type": "markdown",
   "id": "starting-airport",
   "metadata": {},
   "source": [
    "# <font color='blue'>Despues programo un método para separar las muestras de training y de test, de tal modo que en la muestra de training tenga igual numero de observaciones con variable de respuesta credito_1si_0no=1, y credito_1si_0no=0</font> \n"
   ]
  },
  {
   "cell_type": "code",
   "execution_count": 10,
   "id": "useful-barcelona",
   "metadata": {},
   "outputs": [
    {
     "name": "stdout",
     "output_type": "stream",
     "text": [
      "No. observaciones con credito_1si_0no=0: 876\n",
      "No. observaciones con credito_1si_0no=1: 42940\n"
     ]
    }
   ],
   "source": [
    "#Tenemos un sesgo en las clases de la variable de respuesta:\n",
    "\n",
    "X = df.copy()\n",
    "y= X.pop('credito_1si_0no')\n",
    "\n",
    "X_0=X[y==0]\n",
    "X_1=X[y==1]\n",
    "\n",
    "print('No. observaciones con credito_1si_0no=0: {}'.format(len(X_0)))\n",
    "print('No. observaciones con credito_1si_0no=1: {}'.format(len(X_1)))\n"
   ]
  },
  {
   "cell_type": "code",
   "execution_count": 11,
   "id": "young-spank",
   "metadata": {},
   "outputs": [],
   "source": [
    "def train_test_split(base, test_size = 0.30, random_state = 100):\n",
    "    random.seed(random_state)\n",
    "    \n",
    "    X=base.copy() \n",
    "    y= X.pop('credito_1si_0no')\n",
    "    \n",
    "    X_0=base[y==0]\n",
    "    X_1=base[y==1]\n",
    "\n",
    "    training_size0=int((1-test_size)*len(X_0))\n",
    "\n",
    "    i0=random.sample(list(X_0.index.to_list()), training_size0)\n",
    "    i1=random.sample(list(X_1.index.to_list()), training_size0)\n",
    "\n",
    "    index0 = X_0.index.isin(i0)\n",
    "    index1 = X_1.index.isin(i1)\n",
    "\n",
    "    X_0test=X_0[~index0]\n",
    "    X_1test=X_1[~index1]\n",
    "\n",
    "    X_0train=X_0.loc[i0]\n",
    "    X_1train=X_1.loc[i1]\n",
    "\n",
    "\n",
    "\n",
    "    print(len(X_1train))\n",
    "    print(len(X_0train))\n",
    "    print(len(X_0test))\n",
    "    print(len(X_1test))\n",
    "\n",
    "    X_train=pd.concat([X_0train,X_1train], axis=0)\n",
    "    X_test=pd.concat([X_0test,X_1test], axis=0)\n",
    "    y_train = X_train.pop('credito_1si_0no')\n",
    "    y_test = X_test.pop('credito_1si_0no')\n",
    "    return X_train, X_test, y_train, y_test"
   ]
  },
  {
   "cell_type": "markdown",
   "id": "enhanced-concept",
   "metadata": {},
   "source": [
    "# 1.- Hacer un modelo regresión logistica con woes con la tabla que generaron en la tarea 1."
   ]
  },
  {
   "cell_type": "markdown",
   "id": "floral-tournament",
   "metadata": {},
   "source": [
    "Al no poder instalar el paquete 'optbinning' en mi computadora, decidí obtener la tabla de WOES en R, a partir de la tabla que generé en la tarea 1, con ayuda del archivo 'T2_1.R':"
   ]
  },
  {
   "cell_type": "code",
   "execution_count": 12,
   "id": "persistent-czech",
   "metadata": {},
   "outputs": [
    {
     "data": {
      "text/html": [
       "<div>\n",
       "<style scoped>\n",
       "    .dataframe tbody tr th:only-of-type {\n",
       "        vertical-align: middle;\n",
       "    }\n",
       "\n",
       "    .dataframe tbody tr th {\n",
       "        vertical-align: top;\n",
       "    }\n",
       "\n",
       "    .dataframe thead th {\n",
       "        text-align: right;\n",
       "    }\n",
       "</style>\n",
       "<table border=\"1\" class=\"dataframe\">\n",
       "  <thead>\n",
       "    <tr style=\"text-align: right;\">\n",
       "      <th></th>\n",
       "      <th>credito_1si_0no</th>\n",
       "      <th>WoE_comp_interno1</th>\n",
       "      <th>WoE_comp_interno2</th>\n",
       "      <th>WoE_comp_interno3</th>\n",
       "      <th>WoE_comp_interno4</th>\n",
       "      <th>WoE_categoria1</th>\n",
       "      <th>WoE_categoria2</th>\n",
       "      <th>WoE_comp_externo1</th>\n",
       "      <th>WoE_comp_externo2</th>\n",
       "      <th>WoE_comp_externo3</th>\n",
       "      <th>WoE_comp_externo4</th>\n",
       "      <th>WoE_comp_mixto1</th>\n",
       "    </tr>\n",
       "  </thead>\n",
       "  <tbody>\n",
       "    <tr>\n",
       "      <th>0</th>\n",
       "      <td>1</td>\n",
       "      <td>-3.512234</td>\n",
       "      <td>-1.424997</td>\n",
       "      <td>25.480470</td>\n",
       "      <td>15.430694</td>\n",
       "      <td>-34.835067</td>\n",
       "      <td>-7.300074</td>\n",
       "      <td>-44.835068</td>\n",
       "      <td>-43.646610</td>\n",
       "      <td>79.139435</td>\n",
       "      <td>-15.030518</td>\n",
       "      <td>-80.097634</td>\n",
       "    </tr>\n",
       "    <tr>\n",
       "      <th>1</th>\n",
       "      <td>1</td>\n",
       "      <td>-3.512234</td>\n",
       "      <td>0.568378</td>\n",
       "      <td>67.359497</td>\n",
       "      <td>-20.114799</td>\n",
       "      <td>38.062158</td>\n",
       "      <td>90.829516</td>\n",
       "      <td>81.834293</td>\n",
       "      <td>66.476932</td>\n",
       "      <td>79.139435</td>\n",
       "      <td>-15.030518</td>\n",
       "      <td>-80.097634</td>\n",
       "    </tr>\n",
       "    <tr>\n",
       "      <th>2</th>\n",
       "      <td>1</td>\n",
       "      <td>-3.512234</td>\n",
       "      <td>0.568378</td>\n",
       "      <td>-47.234287</td>\n",
       "      <td>15.430694</td>\n",
       "      <td>-75.821733</td>\n",
       "      <td>-61.487001</td>\n",
       "      <td>-44.835068</td>\n",
       "      <td>-43.646610</td>\n",
       "      <td>2.665439</td>\n",
       "      <td>-15.030518</td>\n",
       "      <td>-80.097634</td>\n",
       "    </tr>\n",
       "    <tr>\n",
       "      <th>3</th>\n",
       "      <td>1</td>\n",
       "      <td>3.760202</td>\n",
       "      <td>0.568378</td>\n",
       "      <td>-27.734462</td>\n",
       "      <td>15.430694</td>\n",
       "      <td>-34.835067</td>\n",
       "      <td>-7.300074</td>\n",
       "      <td>-44.835068</td>\n",
       "      <td>-43.646610</td>\n",
       "      <td>-225.708899</td>\n",
       "      <td>-15.030518</td>\n",
       "      <td>-80.097634</td>\n",
       "    </tr>\n",
       "    <tr>\n",
       "      <th>4</th>\n",
       "      <td>1</td>\n",
       "      <td>3.760202</td>\n",
       "      <td>0.568378</td>\n",
       "      <td>50.403136</td>\n",
       "      <td>-26.725301</td>\n",
       "      <td>38.062158</td>\n",
       "      <td>-7.300074</td>\n",
       "      <td>-44.835068</td>\n",
       "      <td>-43.646610</td>\n",
       "      <td>2.665439</td>\n",
       "      <td>-15.030518</td>\n",
       "      <td>-80.097634</td>\n",
       "    </tr>\n",
       "  </tbody>\n",
       "</table>\n",
       "</div>"
      ],
      "text/plain": [
       "   credito_1si_0no  WoE_comp_interno1  WoE_comp_interno2  WoE_comp_interno3  \\\n",
       "0                1          -3.512234          -1.424997          25.480470   \n",
       "1                1          -3.512234           0.568378          67.359497   \n",
       "2                1          -3.512234           0.568378         -47.234287   \n",
       "3                1           3.760202           0.568378         -27.734462   \n",
       "4                1           3.760202           0.568378          50.403136   \n",
       "\n",
       "   WoE_comp_interno4  WoE_categoria1  WoE_categoria2  WoE_comp_externo1  \\\n",
       "0          15.430694      -34.835067       -7.300074         -44.835068   \n",
       "1         -20.114799       38.062158       90.829516          81.834293   \n",
       "2          15.430694      -75.821733      -61.487001         -44.835068   \n",
       "3          15.430694      -34.835067       -7.300074         -44.835068   \n",
       "4         -26.725301       38.062158       -7.300074         -44.835068   \n",
       "\n",
       "   WoE_comp_externo2  WoE_comp_externo3  WoE_comp_externo4  WoE_comp_mixto1  \n",
       "0         -43.646610          79.139435         -15.030518       -80.097634  \n",
       "1          66.476932          79.139435         -15.030518       -80.097634  \n",
       "2         -43.646610           2.665439         -15.030518       -80.097634  \n",
       "3         -43.646610        -225.708899         -15.030518       -80.097634  \n",
       "4         -43.646610           2.665439         -15.030518       -80.097634  "
      ]
     },
     "execution_count": 12,
     "metadata": {},
     "output_type": "execute_result"
    }
   ],
   "source": [
    "df_WOE= pd.read_csv('base_WOES.csv')\n",
    "df_WOE.head(5)"
   ]
  },
  {
   "cell_type": "markdown",
   "id": "peripheral-uruguay",
   "metadata": {},
   "source": [
    "<b><font color='red'>En la variable 'WoE_categoria2' hay 102 observaciones con valor '-inf', y en 'WoE_comp_externo4' hay 1. Las eliminamos:</font></b>"
   ]
  },
  {
   "cell_type": "code",
   "execution_count": 13,
   "id": "indoor-heater",
   "metadata": {},
   "outputs": [
    {
     "data": {
      "text/plain": [
       "-7.300074      28907\n",
       " 40.150102      5477\n",
       "-61.487001      2658\n",
       "-0.189232       1804\n",
       "-29.746176      1541\n",
       "-99.492860       935\n",
       " 3.541845        773\n",
       " 90.829516       706\n",
       " 55.744070       407\n",
       " 15.452336       344\n",
       " 105.897964      162\n",
       "-inf             102\n",
       "Name: WoE_categoria2, dtype: int64"
      ]
     },
     "execution_count": 13,
     "metadata": {},
     "output_type": "execute_result"
    }
   ],
   "source": [
    "df_WOE['WoE_categoria2'].value_counts()"
   ]
  },
  {
   "cell_type": "code",
   "execution_count": 14,
   "id": "mediterranean-ecology",
   "metadata": {},
   "outputs": [
    {
     "data": {
      "text/plain": [
       "-15.030518     40462\n",
       " 102.869424     3260\n",
       "-42.529513        76\n",
       " 111.960426       17\n",
       "-inf               1\n",
       "Name: WoE_comp_externo4, dtype: int64"
      ]
     },
     "execution_count": 14,
     "metadata": {},
     "output_type": "execute_result"
    }
   ],
   "source": [
    "df_WOE['WoE_comp_externo4'].value_counts()"
   ]
  },
  {
   "cell_type": "code",
   "execution_count": 15,
   "id": "confused-macro",
   "metadata": {},
   "outputs": [],
   "source": [
    "df_WOE=df_WOE.drop([x for x in df_WOE.index if df_WOE['WoE_categoria2'].loc[x]==float('-inf')])\n",
    "df_WOE=df_WOE.drop([x for x in df_WOE.index if df_WOE['WoE_comp_externo4'].loc[x]==float('-inf')])"
   ]
  },
  {
   "cell_type": "code",
   "execution_count": 16,
   "id": "documentary-alberta",
   "metadata": {},
   "outputs": [
    {
     "data": {
      "text/plain": [
       "-7.300074      28906\n",
       " 40.150102      5477\n",
       "-61.487001      2658\n",
       "-0.189232       1804\n",
       "-29.746176      1541\n",
       "-99.492860       935\n",
       " 3.541845        773\n",
       " 90.829516       706\n",
       " 55.744070       407\n",
       " 15.452336       344\n",
       " 105.897964      162\n",
       "Name: WoE_categoria2, dtype: int64"
      ]
     },
     "execution_count": 16,
     "metadata": {},
     "output_type": "execute_result"
    }
   ],
   "source": [
    "df_WOE['WoE_categoria2'].value_counts()"
   ]
  },
  {
   "cell_type": "code",
   "execution_count": 17,
   "id": "gothic-fever",
   "metadata": {},
   "outputs": [
    {
     "data": {
      "text/plain": [
       "-15.030518     40369\n",
       " 102.869424     3251\n",
       "-42.529513        76\n",
       " 111.960426       17\n",
       "Name: WoE_comp_externo4, dtype: int64"
      ]
     },
     "execution_count": 17,
     "metadata": {},
     "output_type": "execute_result"
    }
   ],
   "source": [
    "df_WOE['WoE_comp_externo4'].value_counts()"
   ]
  },
  {
   "cell_type": "markdown",
   "id": "compatible-jacob",
   "metadata": {},
   "source": [
    "<b>Separamos muestras de entrenamiento y validacion y ajustamos el modelo</b>"
   ]
  },
  {
   "cell_type": "code",
   "execution_count": 18,
   "id": "successful-snapshot",
   "metadata": {},
   "outputs": [
    {
     "name": "stdout",
     "output_type": "stream",
     "text": [
      "613\n",
      "613\n",
      "263\n",
      "42224\n"
     ]
    }
   ],
   "source": [
    "X_woe_train, X_woe_test, y_woe_train, y_woe_test=train_test_split(df_WOE, test_size = 0.30)"
   ]
  },
  {
   "cell_type": "code",
   "execution_count": 19,
   "id": "satisfactory-zealand",
   "metadata": {},
   "outputs": [],
   "source": [
    "model=LogisticRegression()\n",
    "clf=model.fit(X_woe_train,y_woe_train)"
   ]
  },
  {
   "cell_type": "markdown",
   "id": "instructional-hebrew",
   "metadata": {},
   "source": [
    "<b>Calculamos GINI y ROC en entrenamiento</b>"
   ]
  },
  {
   "cell_type": "code",
   "execution_count": 20,
   "id": "racial-fantasy",
   "metadata": {},
   "outputs": [
    {
     "data": {
      "image/png": "[encoded data removed]",
      "text/plain": [
       "<Figure size 432x288 with 1 Axes>"
      ]
     },
     "metadata": {
      "needs_background": "light"
     },
     "output_type": "display_data"
    },
    {
     "name": "stdout",
     "output_type": "stream",
     "text": [
      "ROC_entremaniemto= 0.84\n",
      "Gini_entremaniemto= 0.6799999999999999\n"
     ]
    }
   ],
   "source": [
    "y_pred=clf.predict(X_woe_train)\n",
    "y_pred1=clf.decision_function(X_woe_train)\n",
    "\n",
    "#Draw ROC curve and calculate AUC value\n",
    "fpr,tpr,threshold = roc_curve(y_woe_train, y_pred1)\n",
    "roc_auc = auc(fpr,tpr)\n",
    "plot(fpr,tpr,color='darkorange',\n",
    "         label='ROC curve (area = %0.2f)' % roc_auc)\n",
    "plt.plot([0, 1], [0, 1], color='navy', linestyle='--')\n",
    "plt.xlim([0.0, 1.0])\n",
    "plt.ylim([0.0, 1.0])\n",
    "plt.xlabel('False Positive Rate')\n",
    "plt.ylabel('True Positive Rate')\n",
    "plt.title('ROC_curve')\n",
    "plt.legend(loc=\"lower right\")\n",
    "plt.show()\n",
    "ROC=0.84\n",
    "\n",
    "print('ROC_entremaniemto= {}'.format(ROC))\n",
    "print('Gini_entremaniemto= {}'.format(2*ROC-1))"
   ]
  },
  {
   "cell_type": "markdown",
   "id": "returning-treaty",
   "metadata": {},
   "source": [
    "<b>Calculamos KS en entrenamiento. Obtenemos ks=0.1141. Esto nos dice que nuestro modelo no puede distinguir muy bien las clases 'credito_1si_0no=0' y 'credito_1si_0no=1'</b>"
   ]
  },
  {
   "cell_type": "code",
   "execution_count": 21,
   "id": "specialized-dispatch",
   "metadata": {},
   "outputs": [
    {
     "data": {
      "text/plain": [
       "0.11419249592169659"
      ]
     },
     "execution_count": 21,
     "metadata": {},
     "output_type": "execute_result"
    }
   ],
   "source": [
    "y_pred=[(clf.predict_proba(X_woe_train.loc[x,].to_numpy().reshape(1,-1))).max() for x in X_woe_train.index]\n",
    "\n",
    "fpr, tpr, thresholds= roc_curve(y_woe_train, y_pred)\n",
    "ks=max(tpr-fpr)\n",
    "ks"
   ]
  },
  {
   "cell_type": "markdown",
   "id": "coral-denmark",
   "metadata": {},
   "source": [
    "<b>Calculamos GINI y ROC en validacion</b>"
   ]
  },
  {
   "cell_type": "code",
   "execution_count": 22,
   "id": "removable-paradise",
   "metadata": {},
   "outputs": [
    {
     "data": {
      "image/png": "[encoded data removed]",
      "text/plain": [
       "<Figure size 432x288 with 1 Axes>"
      ]
     },
     "metadata": {
      "needs_background": "light"
     },
     "output_type": "display_data"
    },
    {
     "name": "stdout",
     "output_type": "stream",
     "text": [
      "ROC_validacion= 0.8\n",
      "Gini_validacion= 0.6000000000000001\n"
     ]
    }
   ],
   "source": [
    "y_pred=clf.predict(X_woe_test)\n",
    "y_pred1=clf.decision_function(X_woe_test)\n",
    "\n",
    "#Draw ROC curve and calculate AUC value\n",
    "fpr,tpr,threshold = roc_curve(y_woe_test, y_pred1)\n",
    "roc_auc = auc(fpr,tpr)\n",
    "plot(fpr,tpr,color='darkorange',\n",
    "         label='ROC curve (area = %0.2f)' % roc_auc)\n",
    "plt.plot([0, 1], [0, 1], color='navy', linestyle='--')\n",
    "plt.xlim([0.0, 1.0])\n",
    "plt.ylim([0.0, 1.0])\n",
    "plt.xlabel('False Positive Rate')\n",
    "plt.ylabel('True Positive Rate')\n",
    "plt.title('ROC_curve')\n",
    "plt.legend(loc=\"lower right\")\n",
    "plt.show()\n",
    "ROC=0.8\n",
    "\n",
    "print('ROC_validacion= {}'.format(ROC))\n",
    "print('Gini_validacion= {}'.format(2*ROC-1))"
   ]
  },
  {
   "cell_type": "markdown",
   "id": "continuing-dayton",
   "metadata": {},
   "source": [
    "<b>Calculamos KS en validación. Obtenemos ks=0.1174. Esto nos dice que nuestro modelo no puede distinguir muy bien las clases 'credito_1si_0no=0' y 'credito_1si_0no=1'</b>"
   ]
  },
  {
   "cell_type": "code",
   "execution_count": 23,
   "id": "wrapped-musician",
   "metadata": {},
   "outputs": [
    {
     "data": {
      "text/plain": [
       "0.11747558197669644"
      ]
     },
     "execution_count": 23,
     "metadata": {},
     "output_type": "execute_result"
    }
   ],
   "source": [
    "y_pred=[(clf.predict_proba(X_woe_test.loc[x,].to_numpy().reshape(1,-1))).max() for x in X_woe_test.index]\n",
    "\n",
    "fpr, tpr, thresholds= roc_curve(y_woe_test, y_pred)\n",
    "ks=max(tpr-fpr)\n",
    "ks"
   ]
  },
  {
   "cell_type": "markdown",
   "id": "third-divorce",
   "metadata": {},
   "source": [
    "# 2.- Hacer un arbol de clasificación con la misma tabla del problema 1."
   ]
  },
  {
   "cell_type": "code",
   "execution_count": 24,
   "id": "distinct-ensemble",
   "metadata": {},
   "outputs": [],
   "source": [
    "def performance_evaluation_report(model, X_test, y_test, show_plot=False, labels=None, show_pr_curve=False):\n",
    "    '''\n",
    "    Function for creating a performance report of a classification model.\n",
    "    \n",
    "    Parameters\n",
    "    ----------\n",
    "    model : scikit-learn estimator\n",
    "        A fitted estimator for classification problems.\n",
    "    X_test : pd.DataFrame\n",
    "        DataFrame with features matching y_test\n",
    "    y_test : array/pd.Series\n",
    "        Target of a classification problem.\n",
    "    show_plot : bool\n",
    "        Flag whether to show the plot\n",
    "    labels : list\n",
    "        List with the class names.\n",
    "    show_pr_curve : bool\n",
    "        Flag whether to also show the PR-curve. For this to take effect, \n",
    "        show_plot must be True.\n",
    "        \n",
    "    Return\n",
    "    ------\n",
    "    stats : pd.Series\n",
    "        A series with the most important evaluation metrics\n",
    "    '''\n",
    "\n",
    "    y_pred = model.predict(X_test)\n",
    "    y_pred_prob = model.predict_proba(X_test)[:, 1]\n",
    "\n",
    "    cm = metrics.confusion_matrix(y_test, y_pred)\n",
    "    tn, fp, fn, tp = cm.ravel()\n",
    "\n",
    "    fpr, tpr, threshold = metrics.roc_curve(y_test, y_pred_prob)\n",
    "    roc_auc = metrics.auc(fpr, tpr)\n",
    "\n",
    "    precision, recall, thresholds = metrics.precision_recall_curve(\n",
    "        y_test, y_pred_prob)\n",
    "    pr_auc = metrics.auc(recall, precision)\n",
    "\n",
    "    if show_plot:\n",
    "\n",
    "        if labels is None:\n",
    "            labels = ['Negative', 'Positive']\n",
    "\n",
    "        N_SUBPLOTS = 3 if show_pr_curve else 2\n",
    "        PLOT_WIDTH = 15 if show_pr_curve else 12\n",
    "        PLOT_HEIGHT = 5 if show_pr_curve else 6\n",
    "\n",
    "        fig, ax = plt.subplots(\n",
    "            1, N_SUBPLOTS, figsize=(PLOT_WIDTH, PLOT_HEIGHT))\n",
    "        fig.suptitle('Performance Evaluation', fontsize=16)\n",
    "\n",
    "        sns.heatmap(cm, annot=True, fmt=\"d\", linewidths=.5, cmap='BuGn_r', square=True, cbar=False, ax=ax[0],\n",
    "                    annot_kws={\"ha\": 'center', \"va\": 'center'})\n",
    "        ax[0].set(xlabel='Predicted label',\n",
    "                  ylabel='Actual label', title='Confusion Matrix')\n",
    "        ax[0].xaxis.set_ticklabels(labels)\n",
    "        ax[0].yaxis.set_ticklabels(labels)\n",
    "\n",
    "        ax[1].plot(fpr, tpr, 'b-', label=f'ROC-AUC = {roc_auc:.2f}')\n",
    "        ax[1].set(xlabel='False Positive Rate',\n",
    "                  ylabel='True Positive Rate', title='ROC Curve')\n",
    "        ax[1].plot(fp/(fp+tn), tp/(tp+fn), 'ro',\n",
    "                   markersize=8, label='Decision Point')\n",
    "        ax[1].plot([0, 1], [0, 1], 'r--')\n",
    "        ax[1].legend(loc='lower right')\n",
    "\n",
    "        if show_pr_curve:\n",
    "\n",
    "            ax[2].plot(recall, precision, label=f'PR-AUC = {pr_auc:.2f}')\n",
    "            ax[2].set(xlabel='Recall', ylabel='Precision',\n",
    "                      title='Precision-Recall Curve')\n",
    "            ax[2].legend()\n",
    "\n",
    "\n",
    "    stats = {'accuracy': metrics.accuracy_score(y_test, y_pred),\n",
    "             'precision': metrics.precision_score(y_test, y_pred),\n",
    "             'recall': metrics.recall_score(y_test, y_pred),\n",
    "             'specificity': (tn / (tn + fp)),\n",
    "             'f1_score': metrics.f1_score(y_test, y_pred),\n",
    "             'cohens_kappa': metrics.cohen_kappa_score(y_test, y_pred),\n",
    "             'roc_auc': roc_auc,\n",
    "             'pr_auc': pr_auc}\n",
    "\n",
    "    return stats"
   ]
  },
  {
   "cell_type": "markdown",
   "id": "remarkable-finger",
   "metadata": {},
   "source": [
    "# Paso 2. Separamos la muestra de training de la de test.\n",
    "\n",
    "Los datos se separan de tal manera que tengamos igual numero de observaciones con variable de respuesta credito_1si_0no=0 que credito_1si_0no=1, en la muestra de training."
   ]
  },
  {
   "cell_type": "code",
   "execution_count": 25,
   "id": "imperial-princess",
   "metadata": {},
   "outputs": [
    {
     "name": "stdout",
     "output_type": "stream",
     "text": [
      "700\n",
      "700\n",
      "176\n",
      "42240\n"
     ]
    }
   ],
   "source": [
    "X_train, X_test, y_train, y_test = train_test_split(df, test_size=0.2)"
   ]
  },
  {
   "cell_type": "markdown",
   "id": "proprietary-federation",
   "metadata": {},
   "source": [
    "# Paso 3. Ajustamos un modelo de arbol de clasificacion a la muestra de training."
   ]
  },
  {
   "cell_type": "code",
   "execution_count": 26,
   "id": "deluxe-witch",
   "metadata": {},
   "outputs": [
    {
     "data": {
      "text/plain": [
       "Pipeline(steps=[('classifier', DecisionTreeClassifier(random_state=42))])"
      ]
     },
     "execution_count": 26,
     "metadata": {},
     "output_type": "execute_result"
    }
   ],
   "source": [
    "dec_tree = DecisionTreeClassifier(random_state=42)\n",
    "tree_pipeline = Pipeline(steps=[('classifier', dec_tree)])\n",
    "tree_pipeline.fit(X_train, y_train)\n"
   ]
  },
  {
   "cell_type": "markdown",
   "id": "engaged-cheese",
   "metadata": {},
   "source": [
    "# Paso 4. Aplicamos el modelo a la muestra de test, y generamos un reporte."
   ]
  },
  {
   "cell_type": "code",
   "execution_count": 27,
   "id": "round-currency",
   "metadata": {},
   "outputs": [
    {
     "data": {
      "image/png": "[encoded data removed]",
      "text/plain": [
       "<Figure size 864x432 with 2 Axes>"
      ]
     },
     "metadata": {
      "needs_background": "light"
     },
     "output_type": "display_data"
    }
   ],
   "source": [
    "LABELS = ['Malo', 'Bueno']\n",
    "tree_perf = performance_evaluation_report(tree_pipeline, X_test,y_test, labels=LABELS,show_plot=True)"
   ]
  },
  {
   "cell_type": "markdown",
   "id": "spare-advancement",
   "metadata": {},
   "source": [
    "# Paso 5. Obtenemos ROC y Gini en validación:\n",
    "\n",
    "Del reporte tenemos que ROC=0.64. Sabemos que Gini=2*ROC-1=0.28."
   ]
  },
  {
   "cell_type": "code",
   "execution_count": 28,
   "id": "directed-malpractice",
   "metadata": {},
   "outputs": [
    {
     "name": "stdout",
     "output_type": "stream",
     "text": [
      "ROC: 0.64\n",
      "Gini: 0.28\n"
     ]
    }
   ],
   "source": [
    "ROC=0.64\n",
    "print(\"ROC: {}\".format(ROC))\n",
    "print(\"Gini: {}\".format(2*ROC-1))"
   ]
  },
  {
   "cell_type": "markdown",
   "id": "loving-compensation",
   "metadata": {},
   "source": [
    "# 3.- Seleccionar con validación cruzada cuál es el mejor modelo de los dos problemas anteriores.\n",
    "\n",
    "\n",
    "## Para las métricas 'accuracy', 'precision', las cuales son las más fáciles de interpretar para mí, claramente el modelo de regresión logística con WOEs es el ganador.\n",
    "\n",
    "## Además, podemos confirmar esto comparando las matrices de confusión de ambos modelos (regresión clasifica 193 malos como malos, y el arbol solo 114), y también sus AUCs:"
   ]
  },
  {
   "cell_type": "code",
   "execution_count": 29,
   "id": "cardiovascular-technology",
   "metadata": {},
   "outputs": [],
   "source": [
    "from sklearn.model_selection import (GridSearchCV, cross_val_score,\n",
    "                                                 RandomizedSearchCV,\n",
    "                                                 cross_validate,\n",
    "                                                 StratifiedKFold\n",
    "                                                 )\n",
    "\n",
    "from sklearn.linear_model import LogisticRegressionCV"
   ]
  },
  {
   "cell_type": "markdown",
   "id": "every-ranch",
   "metadata": {},
   "source": [
    "<b>Para el modelo de regresión logística tenemos: </b>"
   ]
  },
  {
   "cell_type": "code",
   "execution_count": 30,
   "id": "accredited-orbit",
   "metadata": {},
   "outputs": [
    {
     "name": "stdout",
     "output_type": "stream",
     "text": [
      "Se tiene una efectividad de predicción de 0.76 y una desviación estandar de 0.02\n",
      "y una predicción de buenos de 0.77 y desviación estandar de 0.02\n"
     ]
    }
   ],
   "source": [
    "k_fold = StratifiedKFold(5, shuffle=True, random_state=42)\n",
    "\n",
    "scores = cross_validate(clf, X_woe_train, y_woe_train, cv=k_fold,\n",
    "                           scoring=['accuracy', 'precision', 'recall','roc_auc'])\n",
    "\n",
    "print(\"Se tiene una efectividad de predicción de %0.2f y una desviación estandar de %0.2f\" % (scores['test_accuracy'].mean(), scores['test_accuracy'].std()))\n",
    "print(\"y una predicción de buenos de %0.2f y desviación estandar de %0.2f\" % (scores['test_precision'].mean(), scores['test_precision'].std()))"
   ]
  },
  {
   "cell_type": "code",
   "execution_count": 37,
   "id": "declared-indonesian",
   "metadata": {},
   "outputs": [
    {
     "name": "stderr",
     "output_type": "stream",
     "text": [
      "[Parallel(n_jobs=-1)]: Using backend LokyBackend with 2 concurrent workers.\n",
      "[Parallel(n_jobs=-1)]: Done   5 out of   5 | elapsed:    1.1s finished\n"
     ]
    },
    {
     "name": "stdout",
     "output_type": "stream",
     "text": [
      "Recall (Test set): 0.7177\n"
     ]
    },
    {
     "data": {
      "image/png": "[encoded data removed]",
      "text/plain": [
       "<Figure size 864x432 with 2 Axes>"
      ]
     },
     "metadata": {
      "needs_background": "light"
     },
     "output_type": "display_data"
    }
   ],
   "source": [
    "classifier_gs_log = LogisticRegressionCV(cv=k_fold, scoring='recall', n_jobs=-1, verbose=1, random_state=1000)\n",
    "classifier_gs_log.fit(X_woe_train, y_woe_train)\n",
    "\n",
    "print(f'Recall (Test set): {metrics.recall_score(y_woe_test, classifier_gs_log.predict(X_woe_test)):.4f}')\n",
    "\n",
    "LABELS = ['Malo', 'Bueno']\n",
    "woe_gs_perf = performance_evaluation_report(classifier_gs_log, X_woe_test, \n",
    "                                             y_woe_test, labels=LABELS, \n",
    "                                             show_plot=True)\n",
    "\n",
    "plt.tight_layout()\n",
    "plt.show()"
   ]
  },
  {
   "cell_type": "markdown",
   "id": "guilty-toronto",
   "metadata": {},
   "source": [
    "<b>Para el arbol tenemos: </b>"
   ]
  },
  {
   "cell_type": "code",
   "execution_count": 32,
   "id": "subtle-cream",
   "metadata": {},
   "outputs": [
    {
     "name": "stdout",
     "output_type": "stream",
     "text": [
      "Se tiene una efectividad de predicción de 0.62 y una desviación estandar de 0.03\n",
      "y una predicción de buenos de 0.62 y desviación estandar de 0.04\n"
     ]
    }
   ],
   "source": [
    "k_fold = StratifiedKFold(5, shuffle=True, random_state=42)\n",
    "\n",
    "scores = cross_validate(tree_pipeline, X_train, y_train, cv=k_fold,\n",
    "                           scoring=['accuracy', 'precision', 'recall','roc_auc'])\n",
    "\n",
    "print(\"Se tiene una efectividad de predicción de %0.2f y una desviación estandar de %0.2f\" % (scores['test_accuracy'].mean(), scores['test_accuracy'].std()))\n",
    "print(\"y una predicción de buenos de %0.2f y desviación estandar de %0.2f\" % (scores['test_precision'].mean(), scores['test_precision'].std()))"
   ]
  },
  {
   "cell_type": "code",
   "execution_count": 33,
   "id": "latter-chess",
   "metadata": {},
   "outputs": [
    {
     "name": "stdout",
     "output_type": "stream",
     "text": [
      "Fitting 5 folds for each of 144 candidates, totalling 720 fits\n",
      "Best parameters: {'classifier__criterion': 'entropy', 'classifier__max_depth': 5, 'classifier__min_samples_leaf': 7}\n",
      "Recall (Training set): 0.6757\n",
      "Recall (Test set): 0.7478\n"
     ]
    },
    {
     "data": {
      "image/png": "[encoded data removed]",
      "text/plain": [
       "<Figure size 864x432 with 2 Axes>"
      ]
     },
     "metadata": {
      "needs_background": "light"
     },
     "output_type": "display_data"
    }
   ],
   "source": [
    "param_grid = {'classifier__criterion': ['entropy', 'gini'],\n",
    "               'classifier__max_depth': range(3, 11),\n",
    "               'classifier__min_samples_leaf': range(2, 11)}\n",
    "\n",
    "\n",
    "classifier_gs = GridSearchCV(tree_pipeline, param_grid,scoring='recall',cv=k_fold, n_jobs=-1, verbose=1)\n",
    "classifier_gs.fit(X_train, y_train)\n",
    "\n",
    "print(f'Best parameters: {classifier_gs.best_params_}') \n",
    "print(f'Recall (Training set): {classifier_gs.best_score_:.4f}') \n",
    "print(f'Recall (Test set): {metrics.recall_score(y_test, classifier_gs.predict(X_test)):.4f}')\n",
    "\n",
    "LABELS = ['Malo', 'Bueno']\n",
    "tree_gs_perf = performance_evaluation_report(classifier_gs, X_test, \n",
    "                                             y_test, labels=LABELS, \n",
    "                                             show_plot=True)\n",
    "\n",
    "plt.tight_layout()\n",
    "plt.show()"
   ]
  },
  {
   "cell_type": "markdown",
   "id": "institutional-mayor",
   "metadata": {},
   "source": [
    "# 4.- Obtener los puntos óptimos de decisión para el modelo seleccionado.\n",
    "\n",
    "## El modelo seleccionado fue el de regresión. Con cross-validation tenemos:"
   ]
  },
  {
   "cell_type": "code",
   "execution_count": 38,
   "id": "nervous-range",
   "metadata": {},
   "outputs": [
    {
     "name": "stdout",
     "output_type": "stream",
     "text": [
      "Decision point: (false positive rate=0.2661596958174905,  true positive rate=0.7177434634331186)\n"
     ]
    }
   ],
   "source": [
    "y_pred = classifier_gs_log.predict(X_woe_test)\n",
    "\n",
    "cm = metrics.confusion_matrix(y_woe_test, y_pred)\n",
    "tn, fp, fn, tp = cm.ravel()\n",
    "\n",
    "print('Decision point: (false positive rate={},  true positive rate={})'.format(fp/(fp+tn), tp/(tp+fn)))"
   ]
  },
  {
   "cell_type": "code",
   "execution_count": 39,
   "id": "young-factor",
   "metadata": {},
   "outputs": [
    {
     "name": "stdout",
     "output_type": "stream",
     "text": [
      "Recall (Test set): 0.7177\n"
     ]
    },
    {
     "data": {
      "image/png": "[encoded data removed]",
      "text/plain": [
       "<Figure size 864x432 with 2 Axes>"
      ]
     },
     "metadata": {
      "needs_background": "light"
     },
     "output_type": "display_data"
    }
   ],
   "source": [
    "print(f'Recall (Test set): {metrics.recall_score(y_woe_test, classifier_gs_log.predict(X_woe_test)):.4f}')\n",
    "\n",
    "LABELS = ['Malo', 'Bueno']\n",
    "woe_gs_perf = performance_evaluation_report(classifier_gs_log, X_woe_test, \n",
    "                                             y_woe_test, labels=LABELS, \n",
    "                                             show_plot=True)\n",
    "\n",
    "plt.tight_layout()\n",
    "plt.show()"
   ]
  }
 ],
 "metadata": {
  "kernelspec": {
   "display_name": "Python 3",
   "language": "python",
   "name": "python3"
  },
  "language_info": {
   "codemirror_mode": {
    "name": "ipython",
    "version": 3
   },
   "file_extension": ".py",
   "mimetype": "text/x-python",
   "name": "python",
   "nbconvert_exporter": "python",
   "pygments_lexer": "ipython3",
   "version": "3.8.10"
  }
 },
 "nbformat": 4,
 "nbformat_minor": 5
}
